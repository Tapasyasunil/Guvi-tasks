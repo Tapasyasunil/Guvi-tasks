{
  "nbformat": 4,
  "nbformat_minor": 0,
  "metadata": {
    "colab": {
      "provenance": [],
      "authorship_tag": "ABX9TyOfoNk7iyY5LhCwwT+ghaRB",
      "include_colab_link": true
    },
    "kernelspec": {
      "name": "python3",
      "display_name": "Python 3"
    },
    "language_info": {
      "name": "python"
    }
  },
  "cells": [
    {
      "cell_type": "markdown",
      "metadata": {
        "id": "view-in-github",
        "colab_type": "text"
      },
      "source": [
        "<a href=\"https://colab.research.google.com/github/Tapasyasunil/Guvi-tasks/blob/main/Cars_Class_finalProject.ipynb\" target=\"_parent\"><img src=\"https://colab.research.google.com/assets/colab-badge.svg\" alt=\"Open In Colab\"/></a>"
      ]
    },
    {
      "cell_type": "code",
      "execution_count": 15,
      "metadata": {
        "id": "4gpWQLYW0GiF"
      },
      "outputs": [],
      "source": [
        "import pandas as pd\n",
        "from sklearn.model_selection import train_test_split, GridSearchCV\n",
        "from sklearn.preprocessing import StandardScaler\n",
        "from sklearn.pipeline import Pipeline\n",
        "from sklearn.linear_model import LogisticRegression\n",
        "from sklearn.svm import SVC\n",
        "from sklearn.ensemble import RandomForestClassifier\n",
        "from sklearn.metrics import accuracy_score, f1_score, confusion_matrix\n",
        "import matplotlib.pyplot as plt\n",
        "import seaborn as sns\n"
      ]
    },
    {
      "cell_type": "code",
      "source": [
        "# Step 1: Load the data\n",
        "data = pd.read_csv('cars_class.csv')"
      ],
      "metadata": {
        "id": "V8CtGzS90fDZ"
      },
      "execution_count": 16,
      "outputs": []
    },
    {
      "cell_type": "code",
      "source": [
        "# Step 2: Split the data into training and test sets\n",
        "X = data.drop('Class', axis=1)\n",
        "y = data['Class']\n",
        "X_train, X_test, y_train, y_test = train_test_split(X, y, test_size=0.2, random_state=42)"
      ],
      "metadata": {
        "id": "m7hnysmd0hRn"
      },
      "execution_count": 17,
      "outputs": []
    },
    {
      "cell_type": "code",
      "source": [
        "# Step 3: Preprocessing\n",
        "scaler = StandardScaler()\n",
        "X_train_scaled = scaler.fit_transform(X_train)\n",
        "X_test_scaled = scaler.transform(X_test)"
      ],
      "metadata": {
        "id": "2jUtx0Nr0hPQ"
      },
      "execution_count": 18,
      "outputs": []
    },
    {
      "cell_type": "code",
      "source": [
        "# Step 4: Apply different machine learning techniques\n",
        "models = [\n",
        "    ('Logistic Regression', LogisticRegression()),\n",
        "    ('SVM', SVC()),\n",
        "    ('Random Forest', RandomForestClassifier())\n",
        "]"
      ],
      "metadata": {
        "id": "Vf6_cLlR0hM5"
      },
      "execution_count": 19,
      "outputs": []
    },
    {
      "cell_type": "code",
      "source": [
        "# Step 5: Tune the parameters of models\n",
        "tuned_models = []\n",
        "best_scores = {}\n",
        "\n",
        "for name, model in models:\n",
        "    # Perform hyperparameter tuning\n",
        "    param_grid = {}\n",
        "\n",
        "    if name == 'Logistic Regression':\n",
        "        param_grid = {'C': [0.1, 1, 10]}\n",
        "    elif name == 'SVM':\n",
        "        param_grid = {'C': [0.1, 1, 10], 'gamma': [0.1, 1, 10]}\n",
        "    elif name == 'Random Forest':\n",
        "        param_grid = {'n_estimators': [50, 100, 200], 'max_depth': [3, 5, None]}\n",
        "\n",
        "    grid_search = GridSearchCV(model, param_grid, scoring='accuracy', cv=5)\n",
        "    grid_search.fit(X_train_scaled, y_train)\n",
        "\n",
        "    tuned_model = grid_search.best_estimator_\n",
        "    tuned_models.append((name, tuned_model))\n",
        "    best_scores[name] = grid_search.best_score_"
      ],
      "metadata": {
        "colab": {
          "base_uri": "https://localhost:8080/"
        },
        "id": "pJgTbLZE0hKP",
        "outputId": "4072f480-4e21-4652-94fd-70f8bf5be880"
      },
      "execution_count": 20,
      "outputs": [
        {
          "output_type": "stream",
          "name": "stderr",
          "text": [
            "/usr/local/lib/python3.10/dist-packages/sklearn/linear_model/_logistic.py:458: ConvergenceWarning: lbfgs failed to converge (status=1):\n",
            "STOP: TOTAL NO. of ITERATIONS REACHED LIMIT.\n",
            "\n",
            "Increase the number of iterations (max_iter) or scale the data as shown in:\n",
            "    https://scikit-learn.org/stable/modules/preprocessing.html\n",
            "Please also refer to the documentation for alternative solver options:\n",
            "    https://scikit-learn.org/stable/modules/linear_model.html#logistic-regression\n",
            "  n_iter_i = _check_optimize_result(\n",
            "/usr/local/lib/python3.10/dist-packages/sklearn/linear_model/_logistic.py:458: ConvergenceWarning: lbfgs failed to converge (status=1):\n",
            "STOP: TOTAL NO. of ITERATIONS REACHED LIMIT.\n",
            "\n",
            "Increase the number of iterations (max_iter) or scale the data as shown in:\n",
            "    https://scikit-learn.org/stable/modules/preprocessing.html\n",
            "Please also refer to the documentation for alternative solver options:\n",
            "    https://scikit-learn.org/stable/modules/linear_model.html#logistic-regression\n",
            "  n_iter_i = _check_optimize_result(\n",
            "/usr/local/lib/python3.10/dist-packages/sklearn/linear_model/_logistic.py:458: ConvergenceWarning: lbfgs failed to converge (status=1):\n",
            "STOP: TOTAL NO. of ITERATIONS REACHED LIMIT.\n",
            "\n",
            "Increase the number of iterations (max_iter) or scale the data as shown in:\n",
            "    https://scikit-learn.org/stable/modules/preprocessing.html\n",
            "Please also refer to the documentation for alternative solver options:\n",
            "    https://scikit-learn.org/stable/modules/linear_model.html#logistic-regression\n",
            "  n_iter_i = _check_optimize_result(\n",
            "/usr/local/lib/python3.10/dist-packages/sklearn/linear_model/_logistic.py:458: ConvergenceWarning: lbfgs failed to converge (status=1):\n",
            "STOP: TOTAL NO. of ITERATIONS REACHED LIMIT.\n",
            "\n",
            "Increase the number of iterations (max_iter) or scale the data as shown in:\n",
            "    https://scikit-learn.org/stable/modules/preprocessing.html\n",
            "Please also refer to the documentation for alternative solver options:\n",
            "    https://scikit-learn.org/stable/modules/linear_model.html#logistic-regression\n",
            "  n_iter_i = _check_optimize_result(\n",
            "/usr/local/lib/python3.10/dist-packages/sklearn/linear_model/_logistic.py:458: ConvergenceWarning: lbfgs failed to converge (status=1):\n",
            "STOP: TOTAL NO. of ITERATIONS REACHED LIMIT.\n",
            "\n",
            "Increase the number of iterations (max_iter) or scale the data as shown in:\n",
            "    https://scikit-learn.org/stable/modules/preprocessing.html\n",
            "Please also refer to the documentation for alternative solver options:\n",
            "    https://scikit-learn.org/stable/modules/linear_model.html#logistic-regression\n",
            "  n_iter_i = _check_optimize_result(\n",
            "/usr/local/lib/python3.10/dist-packages/sklearn/linear_model/_logistic.py:458: ConvergenceWarning: lbfgs failed to converge (status=1):\n",
            "STOP: TOTAL NO. of ITERATIONS REACHED LIMIT.\n",
            "\n",
            "Increase the number of iterations (max_iter) or scale the data as shown in:\n",
            "    https://scikit-learn.org/stable/modules/preprocessing.html\n",
            "Please also refer to the documentation for alternative solver options:\n",
            "    https://scikit-learn.org/stable/modules/linear_model.html#logistic-regression\n",
            "  n_iter_i = _check_optimize_result(\n"
          ]
        }
      ]
    },
    {
      "cell_type": "code",
      "source": [
        "# Step 6: Build the final model based on performance\n",
        "final_model_name = max(best_scores, key=best_scores.get)\n",
        "final_model = next(model for name, model in tuned_models if name == final_model_name)\n",
        "\n",
        "print(\"Selected Model:\", final_model_name)\n"
      ],
      "metadata": {
        "colab": {
          "base_uri": "https://localhost:8080/"
        },
        "id": "PWFI6PF42Fru",
        "outputId": "18e0c840-9b51-40bc-e73b-d6333d5a1c75"
      },
      "execution_count": 24,
      "outputs": [
        {
          "output_type": "stream",
          "name": "stdout",
          "text": [
            "Selected Model: Logistic Regression\n"
          ]
        }
      ]
    },
    {
      "cell_type": "code",
      "source": [
        "# Step 7: Evaluate the final model on test data (for Logistic Regression)\n",
        "if isinstance(final_model, LogisticRegression):\n",
        "    y_pred = final_model.predict(X_test_scaled)\n",
        "\n",
        "    accuracy = accuracy_score(y_test, y_pred)\n",
        "    f1 = f1_score(y_test, y_pred, average='weighted')\n",
        "    confusion_mat = confusion_matrix(y_test, y_pred)\n",
        "\n",
        "    print(\"Accuracy:\", accuracy)\n",
        "    print(\"F1-score:\", f1)\n",
        "    print(\"Confusion Matrix:\")\n",
        "    print(confusion_mat)"
      ],
      "metadata": {
        "colab": {
          "base_uri": "https://localhost:8080/"
        },
        "id": "UQgCxCaz2wFt",
        "outputId": "fa479411-36d3-441d-9a99-2fc382c7b2eb"
      },
      "execution_count": 25,
      "outputs": [
        {
          "output_type": "stream",
          "name": "stdout",
          "text": [
            "Accuracy: 0.7986111111111112\n",
            "F1-score: 0.7944180474333984\n",
            "Confusion Matrix:\n",
            "[[34  0  0  1]\n",
            " [ 1 21 17  1]\n",
            " [ 0  9 25  0]\n",
            " [ 0  0  0 35]]\n"
          ]
        }
      ]
    },
    {
      "cell_type": "code",
      "source": [
        "# Step 8: Report the importance of different features (for Logistic Regression)\n",
        "if isinstance(final_model, LogisticRegression):\n",
        "    feature_names = X.columns\n",
        "    feature_importance = pd.DataFrame({'Feature': feature_names, 'Importance': final_model.coef_[0]})\n",
        "    sorted_importance = feature_importance.sort_values(by='Importance', ascending=False)\n",
        "\n",
        "    plt.figure(figsize=(10, 6))\n",
        "    sns.barplot(x='Importance', y='Feature', data=sorted_importance)\n",
        "    plt.title('Feature Importance')\n",
        "    plt.xlabel('Importance')\n",
        "    plt.ylabel('Feature')\n",
        "    plt.show()"
      ],
      "metadata": {
        "colab": {
          "base_uri": "https://localhost:8080/",
          "height": 564
        },
        "id": "JthzbVs92xvd",
        "outputId": "cc05742a-28d7-4a09-cafd-b1bcb393590b"
      },
      "execution_count": 26,
      "outputs": [
        {
          "output_type": "display_data",
          "data": {
            "text/plain": [
              "<Figure size 1000x600 with 1 Axes>"
            ],
            "image/png": "[encoded data removed]"
          },
          "metadata": {}
        }
      ]
    },
    {
      "cell_type": "markdown",
      "source": [
        "Multi-Class Classification of Car Classes\n",
        "\n",
        "Step 1: Load the data\n",
        "\n",
        "The dataset \"cars_class.csv\" containing information about cars is loaded into the program.\n",
        "\n",
        "Step 2: Split the data into training and test sets\n",
        "\n",
        "The data is split into training and test sets, with 80% of the data used for training and 20% for testing.\n",
        "\n",
        "Step 3: Apply the required preprocessing techniques on the data\n",
        "\n",
        "To prepare the data for modeling, standard scaling is applied to the numerical features. This ensures that all features are on a similar scale, improving the performance of Logistic Regression.\n",
        "\n",
        "Step 4: Apply different machine learning techniques\n",
        "\n",
        "Three machine learning techniques are applied: Logistic Regression, SVM, and Random Forest. After evaluating the models, Logistic Regression is identified as the best performing method.\n",
        "\n",
        "Step 5: Tune the parameters of models\n",
        "\n",
        "Hyperparameter tuning is performed on each model using grid search. The hyperparameters are optimized to improve the performance of the models.\n",
        "\n",
        "Step 6: Build the final model based on performance\n",
        "\n",
        "Based on the evaluation metrics on the training data, Logistic Regression is selected as the final model due to its superior performance.\n",
        "\n",
        "Step 7: Evaluate the final model on test data\n",
        "\n",
        " Logistic Regression is fitted to the preprocessed training data and evaluated on the preprocessed test data. The performance metrics (accuracy and F1-score) are calculated.\n",
        "\n",
        "Accuracy: The final model achieved an accuracy of 0.798 on the test data, indicating the percentage of correctly predicted car classes.\n",
        "\n",
        "F1-score: The F1-score of 0.794 indicates the balanced measure of the model's accuracy, considering both precision and recall.\n",
        "\n",
        "Step 8: Report the importance of different features\n",
        "The feature importance analysis reveals that the most important features in determining the car class are Pr.Axis.Ra, Kurt.Maxis, Sc.Var.Maxis, and Skew.Maxis. These features significantly influence the model's predictions and provide valuable insights into the classification process.\n",
        "\n"
      ],
      "metadata": {
        "id": "ssgEuaol5qMk"
      }
    }
  ]
}