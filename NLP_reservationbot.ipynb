{
  "nbformat": 4,
  "nbformat_minor": 0,
  "metadata": {
    "colab": {
      "provenance": [],
      "authorship_tag": "ABX9TyNbIkSr9zjjXQz3U4lxPwXl",
      "include_colab_link": true
    },
    "kernelspec": {
      "name": "python3",
      "display_name": "Python 3"
    },
    "language_info": {
      "name": "python"
    }
  },
  "cells": [
    {
      "cell_type": "markdown",
      "metadata": {
        "id": "view-in-github",
        "colab_type": "text"
      },
      "source": [
        "<a href=\"https://colab.research.google.com/github/Tapasyasunil/Guvi-tasks/blob/main/NLP_reservationbot.ipynb\" target=\"_parent\"><img src=\"https://colab.research.google.com/assets/colab-badge.svg\" alt=\"Open In Colab\"/></a>"
      ]
    },
    {
      "cell_type": "code",
      "source": [
        "!pip install SpeechRecognition"
      ],
      "metadata": {
        "id": "3XQ2hMi0o5NK",
        "colab": {
          "base_uri": "https://localhost:8080/"
        },
        "outputId": "d8e81c99-9a5b-4e65-e3c7-9ad9d6ea06dd"
      },
      "execution_count": 1,
      "outputs": [
        {
          "output_type": "stream",
          "name": "stdout",
          "text": [
            "Requirement already satisfied: SpeechRecognition in /usr/local/lib/python3.10/dist-packages (3.10.0)\n",
            "Requirement already satisfied: requests>=2.26.0 in /usr/local/lib/python3.10/dist-packages (from SpeechRecognition) (2.27.1)\n",
            "Requirement already satisfied: urllib3<1.27,>=1.21.1 in /usr/local/lib/python3.10/dist-packages (from requests>=2.26.0->SpeechRecognition) (1.26.16)\n",
            "Requirement already satisfied: certifi>=2017.4.17 in /usr/local/lib/python3.10/dist-packages (from requests>=2.26.0->SpeechRecognition) (2023.5.7)\n",
            "Requirement already satisfied: charset-normalizer~=2.0.0 in /usr/local/lib/python3.10/dist-packages (from requests>=2.26.0->SpeechRecognition) (2.0.12)\n",
            "Requirement already satisfied: idna<4,>=2.5 in /usr/local/lib/python3.10/dist-packages (from requests>=2.26.0->SpeechRecognition) (3.4)\n"
          ]
        }
      ]
    },
    {
      "cell_type": "code",
      "source": [
        "import speech_recognition as sr\n",
        "from getpass import getpass"
      ],
      "metadata": {
        "id": "LUxuWyVmps2T"
      },
      "execution_count": 2,
      "outputs": []
    },
    {
      "cell_type": "code",
      "source": [
        "# Function to convert speech to text using speech recognition\n",
        "def get_text_from_speech():\n",
        "    r = sr.Recognizer()\n",
        "    audio_file = files.upload().popitem()[1]\n",
        "    with sr.AudioFile(audio_file) as source:\n",
        "        audio = r.record(source)\n",
        "    try:\n",
        "        text = r.recognize_google(audio)\n",
        "        print(\"You said:\", text)\n",
        "        return text\n",
        "    except sr.UnknownValueError:\n",
        "        print(\"Sorry, I could not understand your speech.\")\n",
        "        return None\n",
        "    except sr.RequestError as e:\n",
        "        print(\"Sorry, speech recognition service is unavailable.\")\n",
        "        return None"
      ],
      "metadata": {
        "id": "2gJw-_w0puwL"
      },
      "execution_count": 3,
      "outputs": []
    },
    {
      "cell_type": "code",
      "source": [
        "# Function to validate the mobile number\n",
        "def validate_mobile_number(mobile_number):\n",
        "    # You can add your own validation logic here\n",
        "    if len(mobile_number) == 10 and mobile_number.isdigit():\n",
        "        return True\n",
        "    else:\n",
        "        return False"
      ],
      "metadata": {
        "id": "uVgEmuaRputp"
      },
      "execution_count": 4,
      "outputs": []
    },
    {
      "cell_type": "code",
      "source": [
        "# Function to validate the room type\n",
        "def validate_room_type(room_type):\n",
        "    valid_types = [\"single\", \"double\", \"suite\"]\n",
        "    if room_type.lower() in valid_types:\n",
        "        return True\n",
        "    else:\n",
        "        return False"
      ],
      "metadata": {
        "id": "9163n20EpurC"
      },
      "execution_count": 5,
      "outputs": []
    },
    {
      "cell_type": "code",
      "source": [
        "# Function to validate the dates\n",
        "def validate_dates(arrival_date, departure_date):\n",
        "    # You can add your own validation logic here\n",
        "    if arrival_date < departure_date:\n",
        "        return True\n",
        "    else:\n",
        "        return False"
      ],
      "metadata": {
        "id": "qOTBYcgjpuoZ"
      },
      "execution_count": 6,
      "outputs": []
    },
    {
      "cell_type": "code",
      "source": [
        "# Collect customer information\n",
        "print(\"Welcome to our hotel! Please provide the following information:\")\n",
        "customer_name = getpass(\"Name: \")\n",
        "mobile_number = getpass(\"Mobile Number: \")\n",
        "address = getpass(\"Address: \")\n",
        "id_proof = getpass(\"ID Proof: \")\n",
        "room_type = getpass(\"Room Type (single/double/suite): \")\n",
        "arrival_date = getpass(\"Arrival Date (YYYY-MM-DD): \")\n",
        "departure_date = getpass(\"Departure Date (YYYY-MM-DD): \")"
      ],
      "metadata": {
        "colab": {
          "base_uri": "https://localhost:8080/"
        },
        "id": "P2-kvdrSqVyr",
        "outputId": "e5ac9f00-8bf0-4f4f-9074-48ac82cf9c12"
      },
      "execution_count": 9,
      "outputs": [
        {
          "name": "stdout",
          "output_type": "stream",
          "text": [
            "Welcome to our hotel! Please provide the following information:\n",
            "Name: ··········\n",
            "Mobile Number: ··········\n",
            "Address: ··········\n",
            "ID Proof: ··········\n",
            "Room Type (single/double/suite): ··········\n",
            "Arrival Date (YYYY-MM-DD): ··········\n",
            "Departure Date (YYYY-MM-DD): ··········\n"
          ]
        }
      ]
    },
    {
      "cell_type": "code",
      "source": [
        "# Create a dictionary with customer information\n",
        "customer_info = {\n",
        "\n",
        "    \"Name\": customer_name,\n",
        "    \"Mobile Number\": mobile_number,\n",
        "    \"Address\": address,\n",
        "    \"ID Proof\": id_proof,\n",
        "    \"Room Type\": room_type,\n",
        "    \"Arrival Date\": arrival_date,\n",
        "    \"Departure Date\": departure_date\n",
        "}\n"
      ],
      "metadata": {
        "id": "BZjh2a-wpuji"
      },
      "execution_count": 11,
      "outputs": []
    },
    {
      "cell_type": "code",
      "source": [
        "# Print customer information\n",
        "print(\"Room booked successfully!\")\n",
        "print(\"Customer Information:\")\n",
        "for key, value in customer_info.items():\n",
        "    print(key + \":\", value)"
      ],
      "metadata": {
        "colab": {
          "base_uri": "https://localhost:8080/"
        },
        "id": "-e7KScaXp0ti",
        "outputId": "415b83f9-5501-42db-f9e5-a2ce63fb1a66"
      },
      "execution_count": 12,
      "outputs": [
        {
          "output_type": "stream",
          "name": "stdout",
          "text": [
            "Room booked successfully!\n",
            "Customer Information:\n",
            "Name: Tapasya\n",
            "Mobile Number: 9361690815\n",
            "Address: 164,9th streeet kknagar\n",
            "ID Proof: driving license\n",
            "Room Type: single\n",
            "Arrival Date: 09-10-2023\n",
            "Departure Date: 10-11-2023\n"
          ]
        }
      ]
    }
  ]
}