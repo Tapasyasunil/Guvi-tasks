{
  "nbformat": 4,
  "nbformat_minor": 0,
  "metadata": {
    "colab": {
      "provenance": [],
      "authorship_tag": "ABX9TyOBFvTcw7O3stM5jDfPtv6w",
      "include_colab_link": true
    },
    "kernelspec": {
      "name": "python3",
      "display_name": "Python 3"
    },
    "language_info": {
      "name": "python"
    }
  },
  "cells": [
    {
      "cell_type": "markdown",
      "metadata": {
        "id": "view-in-github",
        "colab_type": "text"
      },
      "source": [
        "<a href=\"https://colab.research.google.com/github/Tapasyasunil/Guvi-tasks/blob/main/NLP_task3_Resumereader.ipynb\" target=\"_parent\"><img src=\"https://colab.research.google.com/assets/colab-badge.svg\" alt=\"Open In Colab\"/></a>"
      ]
    },
    {
      "cell_type": "code",
      "execution_count": 1,
      "metadata": {
        "id": "HaXtQTO4kf94"
      },
      "outputs": [],
      "source": [
        "import nltk\n",
        "from nltk.corpus import stopwords\n",
        "from nltk.tokenize import word_tokenize\n",
        "from nltk.stem import WordNetLemmatizer"
      ]
    },
    {
      "cell_type": "code",
      "source": [
        "# Download required NLTK resources\n",
        "nltk.download('punkt')\n",
        "nltk.download('stopwords')\n",
        "nltk.download('wordnet')\n"
      ],
      "metadata": {
        "colab": {
          "base_uri": "https://localhost:8080/"
        },
        "id": "FvfpQdNIkmYE",
        "outputId": "7244ca3d-77ce-49bd-c217-e17927efe612"
      },
      "execution_count": 2,
      "outputs": [
        {
          "output_type": "stream",
          "name": "stderr",
          "text": [
            "[nltk_data] Downloading package punkt to /root/nltk_data...\n",
            "[nltk_data]   Unzipping tokenizers/punkt.zip.\n",
            "[nltk_data] Downloading package stopwords to /root/nltk_data...\n",
            "[nltk_data]   Unzipping corpora/stopwords.zip.\n",
            "[nltk_data] Downloading package wordnet to /root/nltk_data...\n"
          ]
        },
        {
          "output_type": "execute_result",
          "data": {
            "text/plain": [
              "True"
            ]
          },
          "metadata": {},
          "execution_count": 2
        }
      ]
    },
    {
      "cell_type": "code",
      "source": [
        "def preprocess_resume(resume_text):\n",
        "    # Tokenize the resume text into words\n",
        "    words = word_tokenize(resume_text.lower())\n",
        "\n",
        "    # Remove stopwords\n",
        "    stop_words = set(stopwords.words('english'))\n",
        "    words = [word for word in words if word not in stop_words]\n",
        "\n",
        "    # Lemmatize words\n",
        "    lemmatizer = WordNetLemmatizer()\n",
        "    words = [lemmatizer.lemmatize(word) for word in words]\n",
        "\n",
        "    # Join the processed words back into a resume string\n",
        "    processed_resume = ' '.join(words)\n",
        "\n",
        "    return processed_resume"
      ],
      "metadata": {
        "id": "jcjqtzIgkmVk"
      },
      "execution_count": 3,
      "outputs": []
    },
    {
      "cell_type": "code",
      "source": [
        "def filter_resumes(resumes, keyword):\n",
        "    filtered_resumes = []\n",
        "\n",
        "    for resume in resumes:\n",
        "        processed_resume = preprocess_resume(resume)\n",
        "\n",
        "        if keyword in processed_resume:\n",
        "            filtered_resumes.append(resume)\n",
        "\n",
        "    return filtered_resumes"
      ],
      "metadata": {
        "id": "9xGR6lWdkmRE"
      },
      "execution_count": 4,
      "outputs": []
    },
    {
      "cell_type": "code",
      "source": [
        "# Example usage\n",
        "resumes = [\n",
        "    \"I have extensive experience in software development and project management.\",\n",
        "    \"I am a skilled graphic designer with expertise in Adobe Photoshop and Illustrator.\",\n",
        "    \"My background is in sales and marketing, and I have a proven track record of achieving targets.\"\n",
        "]\n",
        "\n",
        "keyword = \"software development\"\n",
        "\n",
        "filtered_resumes = filter_resumes(resumes, keyword)\n",
        "\n",
        "print(\"Filtered Resumes:\")\n",
        "for resume in filtered_resumes:\n",
        "    print(resume)"
      ],
      "metadata": {
        "colab": {
          "base_uri": "https://localhost:8080/"
        },
        "id": "1FxsMqGEkxeE",
        "outputId": "ea358348-6c5b-47e5-cdaf-5416e07e611a"
      },
      "execution_count": 5,
      "outputs": [
        {
          "output_type": "stream",
          "name": "stdout",
          "text": [
            "Filtered Resumes:\n",
            "I have extensive experience in software development and project management.\n"
          ]
        }
      ]
    }
  ]
}