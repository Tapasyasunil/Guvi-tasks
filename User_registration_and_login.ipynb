{
  "nbformat": 4,
  "nbformat_minor": 0,
  "metadata": {
    "colab": {
      "provenance": [],
      "authorship_tag": "ABX9TyNpZ4NzTHRe42qnP3ApKOM3",
      "include_colab_link": true
    },
    "kernelspec": {
      "name": "python3",
      "display_name": "Python 3"
    },
    "language_info": {
      "name": "python"
    }
  },
  "cells": [
    {
      "cell_type": "markdown",
      "metadata": {
        "id": "view-in-github",
        "colab_type": "text"
      },
      "source": [
        "<a href=\"https://colab.research.google.com/github/Tapasyasunil/Guvi-tasks/blob/main/User_registration_and_login.ipynb\" target=\"_parent\"><img src=\"https://colab.research.google.com/assets/colab-badge.svg\" alt=\"Open In Colab\"/></a>"
      ]
    },
    {
      "cell_type": "code",
      "execution_count": null,
      "metadata": {
        "id": "lwtaZkUA78kz",
        "colab": {
          "base_uri": "https://localhost:8080/"
        },
        "outputId": "43ad89d9-f6b4-4741-cf43-1f49ff9a843d"
      },
      "outputs": [
        {
          "name": "stdout",
          "output_type": "stream",
          "text": [
            "Choose an option:\n",
            "1. Register\n",
            "2. Login\n",
            "3. Reset password\n",
            "4. Exit\n",
            "> 3\n"
          ]
        }
      ],
      "source": [
        "import re\n",
        "\n",
        "# Defining regular expression for email validation\n",
        "email_regex = r'\\b[A-Za-z0-9._%+-]+@[A-Za-z0-9.-]+\\.[A-Z|a-z]{2,}\\b'\n",
        "\n",
        "# Define function to validate password complexity\n",
        "def validate_password(password):\n",
        "    if len(password) < 5 or len(password) > 16:\n",
        "        return False\n",
        "    if not re.search(\"[a-z]\", password):\n",
        "        return False\n",
        "    if not re.search(\"[A-Z]\", password):\n",
        "        return False\n",
        "    if not re.search(\"[0-9]\", password):\n",
        "        return False\n",
        "    if not re.search(\"[!@#$%^&*()_+-=]\", password):\n",
        "        return False\n",
        "    return True\n",
        "\n",
        "# Define function to register a new user\n",
        "def register():\n",
        "    email = input(\"Enter email address: \")\n",
        "    if not re.match(email_regex, email):\n",
        "        print(\"Invalid email address\")\n",
        "        return\n",
        "    password = input(\"Enter password (between 5 and 16 characters, with at least one uppercase, lowercase, digit and special character): \")\n",
        "    if not validate_password(password):\n",
        "        print(\"Invalid password\")\n",
        "        return\n",
        "    with open(\"users.txt\", \"a\") as f:\n",
        "        f.write(email + \",\" + password + \"\\n\")\n",
        "    print(\"Registration successful\")\n",
        "\n",
        "# Define function to login a user\n",
        "def login():\n",
        "    email = input(\"Enter email address: \")\n",
        "    password = input(\"Enter password: \")\n",
        "    with open(\"users.txt\", \"r\") as f:\n",
        "        for line in f:\n",
        "            stored_email, stored_password = line.strip().split(\",\")\n",
        "            if email == stored_email and password == stored_password:\n",
        "                print(\"Login successful\")\n",
        "                return\n",
        "    print(\"Invalid email or password\")\n",
        "    choice = input(\"Do you want to register? (y/n) \")\n",
        "    if choice == \"y\":\n",
        "        register()\n",
        "\n",
        "# Define function to reset password\n",
        "def reset_password():\n",
        "    email = input(\"Enter email address: \")\n",
        "    with open(\"users.txt\", \"r\") as f:\n",
        "        lines = f.readlines()\n",
        "    found = False\n",
        "    with open(\"users.txt\", \"w\") as f:\n",
        "        for line in lines:\n",
        "            stored_email, stored_password = line.strip().split(\",\")\n",
        "            if email == stored_email:\n",
        "                new_password = input(\"Enter new password (between 5 and 16 characters, with at least one uppercase, lowercase, digit and special character): \")\n",
        "                if not validate_password(new_password):\n",
        "                    print(\"Invalid password\")\n",
        "                    return\n",
        "                f.write(email + \",\" + new_password + \"\\n\")\n",
        "                found = True\n",
        "            else:\n",
        "                f.write(line)\n",
        "    if not found:\n",
        "        print(\"Email address not found\")\n",
        "        choice = input(\"Do you want to register? (y/n) \")\n",
        "        if choice == \"y\":\n",
        "            register()\n",
        "        return\n",
        "    print(\"Password reset successful\")\n",
        "\n",
        "# Main program loop\n",
        "while True:\n",
        "    print(\"Choose an option:\")\n",
        "    print(\"1. Register\")\n",
        "    print(\"2. Login\")\n",
        "    print(\"3. Reset password\")\n",
        "    print(\"4. Exit\")\n",
        "    choice = input(\"> \")\n",
        "    if choice == \"1\":\n",
        "        register()\n",
        "    elif choice == \"2\":\n",
        "        login()\n",
        "    elif choice == \"3\":\n",
        "        reset_password()\n",
        "    elif choice == \"4\":\n",
        "        break\n",
        "    else:\n",
        "        print(\"Invalid choice\")\n"
      ]
    },
    {
      "cell_type": "code",
      "source": [],
      "metadata": {
        "id": "xgJK_D1R6ymp"
      },
      "execution_count": null,
      "outputs": []
    }
  ]
}