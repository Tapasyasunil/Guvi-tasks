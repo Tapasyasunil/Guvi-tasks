import pandas as pd
import numpy as np
from datetime import timedelta
from sklearn.model_selection import train_test_split
from sklearn.ensemble import RandomForestClassifier
from sklearn.metrics import classification_report

# Step 1: Load the data
users = pd.read_csv('takehome_users.csv', encoding='ISO-8859-1')
engagement = pd.read_csv('takehome_user_engagement.csv', parse_dates=['time_stamp'])

# Step 2: Preprocess the data
users['creation_time'] = pd.to_datetime(users['creation_time'])
users['last_session_creation_time'] = pd.to_datetime(users['last_session_creation_time'], unit='s')

# Step 3: Define adopted user label
engagement['time_stamp'] = pd.to_datetime(engagement['time_stamp'])
engagement = engagement.set_index('time_stamp')
engagement['visited'] = 1
adopted_users = engagement.groupby('user_id').rolling('7D').visited.sum()
adopted_users = adopted_users[adopted_users >= 3].reset_index()
adopted_users = adopted_users.drop_duplicates('user_id')['user_id'].tolist()
users['adopted_user'] = users['object_id'].isin(adopted_users)

# Step 4: Perform exploratory data analysis (EDA)
# You can explore various aspects of the data, such as creation_source, mailing_list, marketing_drip, etc.
# Analyze the relationships between these features and the adopted_user label.

# Step 5: Feature engineering
# You can extract features like the number of days between account creation and last login,
# number of invited users, etc., that may help in predicting user adoption.

# Step 6: Train a machine learning model
# Select the relevant features and split the data into training and testing sets
features = ['creation_source', 'opted_in_to_mailing_list', 'enabled_for_marketing_drip']
X = users[features]
y = users['adopted_user']
X_train, X_test, y_train, y_test = train_test_split(X, y, test_size=0.2, random_state=42)

# Train a RandomForestClassifier
model = RandomForestClassifier(random_state=42)
model.fit(X_train, y_train)

# Step 7: Evaluate the model's performance
y_pred = model.predict(X_test)
print(classification_report(y_test, y_pred))

# Step 8: Summarize the approach and findings
# Provide a summary of the approach taken, including any data exploration, feature engineering,
# model training, and evaluation. Discuss the findings, including the important features and their impact
# on predicting user adoption.
