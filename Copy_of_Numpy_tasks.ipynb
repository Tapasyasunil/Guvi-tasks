{
  "cells": [
    {
      "cell_type": "markdown",
      "metadata": {
        "id": "view-in-github",
        "colab_type": "text"
      },
      "source": [
        "<a href=\"https://colab.research.google.com/github/Tapasyasunil/Guvi-tasks/blob/main/Copy_of_Numpy_tasks.ipynb\" target=\"_parent\"><img src=\"https://colab.research.google.com/assets/colab-badge.svg\" alt=\"Open In Colab\"/></a>"
      ]
    },
    {
      "cell_type": "markdown",
      "metadata": {
        "id": "Up0lffE2H3I3"
      },
      "source": [
        "# Numpy\n",
        "\n"
      ]
    },
    {
      "cell_type": "markdown",
      "metadata": {
        "id": "sykHkaYKH3I8"
      },
      "source": [
        "#### 1. Import the numpy package under the name `np` (★☆☆) \n",
        "(**hint**: import … as …)"
      ]
    },
    {
      "cell_type": "code",
      "execution_count": 1,
      "metadata": {
        "collapsed": true,
        "id": "Ilp505DsH3I9"
      },
      "outputs": [],
      "source": [
        "import numpy as np"
      ]
    },
    {
      "cell_type": "markdown",
      "metadata": {
        "id": "svR-8-ISH3I-"
      },
      "source": [
        "#### 2. Print the numpy version and the configuration (★☆☆) \n",
        "(**hint**: np.\\_\\_version\\_\\_, np.show\\_config)"
      ]
    },
    {
      "cell_type": "code",
      "execution_count": 2,
      "metadata": {
        "id": "mP-h46voH3I_",
        "colab": {
          "base_uri": "https://localhost:8080/",
          "height": 35
        },
        "outputId": "ea26fcae-f936-46ab-d3ed-2069c3e68b6c"
      },
      "outputs": [
        {
          "output_type": "execute_result",
          "data": {
            "text/plain": [
              "'1.21.6'"
            ],
            "application/vnd.google.colaboratory.intrinsic+json": {
              "type": "string"
            }
          },
          "metadata": {},
          "execution_count": 2
        }
      ],
      "source": [
        "np.__version__"
      ]
    },
    {
      "cell_type": "code",
      "source": [
        "np.show_config()"
      ],
      "metadata": {
        "colab": {
          "base_uri": "https://localhost:8080/"
        },
        "id": "KaSmtXYL874t",
        "outputId": "a7b91010-8c67-4f52-f87c-c30299ba9a27"
      },
      "execution_count": 3,
      "outputs": [
        {
          "output_type": "stream",
          "name": "stdout",
          "text": [
            "blas_mkl_info:\n",
            "  NOT AVAILABLE\n",
            "blis_info:\n",
            "  NOT AVAILABLE\n",
            "openblas_info:\n",
            "    libraries = ['openblas', 'openblas']\n",
            "    library_dirs = ['/usr/local/lib']\n",
            "    language = c\n",
            "    define_macros = [('HAVE_CBLAS', None)]\n",
            "    runtime_library_dirs = ['/usr/local/lib']\n",
            "blas_opt_info:\n",
            "    libraries = ['openblas', 'openblas']\n",
            "    library_dirs = ['/usr/local/lib']\n",
            "    language = c\n",
            "    define_macros = [('HAVE_CBLAS', None)]\n",
            "    runtime_library_dirs = ['/usr/local/lib']\n",
            "lapack_mkl_info:\n",
            "  NOT AVAILABLE\n",
            "openblas_lapack_info:\n",
            "    libraries = ['openblas', 'openblas']\n",
            "    library_dirs = ['/usr/local/lib']\n",
            "    language = c\n",
            "    define_macros = [('HAVE_CBLAS', None)]\n",
            "    runtime_library_dirs = ['/usr/local/lib']\n",
            "lapack_opt_info:\n",
            "    libraries = ['openblas', 'openblas']\n",
            "    library_dirs = ['/usr/local/lib']\n",
            "    language = c\n",
            "    define_macros = [('HAVE_CBLAS', None)]\n",
            "    runtime_library_dirs = ['/usr/local/lib']\n",
            "Supported SIMD extensions in this NumPy install:\n",
            "    baseline = SSE,SSE2,SSE3\n",
            "    found = SSSE3,SSE41,POPCNT,SSE42,AVX,F16C,FMA3,AVX2\n",
            "    not found = AVX512F,AVX512CD,AVX512_KNL,AVX512_KNM,AVX512_SKX,AVX512_CLX,AVX512_CNL,AVX512_ICL\n"
          ]
        }
      ]
    },
    {
      "cell_type": "markdown",
      "metadata": {
        "id": "1fp_paimH3I_"
      },
      "source": [
        "#### 3. Create a null vector of size 10 (★☆☆) \n",
        "(**hint**: np.zeros)"
      ]
    },
    {
      "cell_type": "code",
      "execution_count": 4,
      "metadata": {
        "id": "v1rGJ5dOH3JA",
        "colab": {
          "base_uri": "https://localhost:8080/"
        },
        "outputId": "c48e0402-5503-4476-be9a-566b12328e8c"
      },
      "outputs": [
        {
          "output_type": "execute_result",
          "data": {
            "text/plain": [
              "array([0., 0., 0., 0., 0., 0., 0., 0., 0., 0.])"
            ]
          },
          "metadata": {},
          "execution_count": 4
        }
      ],
      "source": [
        "a = np.zeros(10)\n",
        "a"
      ]
    },
    {
      "cell_type": "markdown",
      "metadata": {
        "id": "BdzXYKEdH3JB"
      },
      "source": [
        "#### 4.  How to find the memory size of any array (★☆☆) \n",
        "(**hint**: size, itemsize)"
      ]
    },
    {
      "cell_type": "code",
      "execution_count": 5,
      "metadata": {
        "id": "aBD73YeSH3JC",
        "colab": {
          "base_uri": "https://localhost:8080/"
        },
        "outputId": "790124b5-4b76-4542-bced-a3d138ce04ea"
      },
      "outputs": [
        {
          "output_type": "stream",
          "name": "stdout",
          "text": [
            "Memeory size of array a is  80\n"
          ]
        }
      ],
      "source": [
        "b = a.size\n",
        "c = a.itemsize\n",
        "print(\"Memeory size of array a is \", b*c)"
      ]
    },
    {
      "cell_type": "markdown",
      "metadata": {
        "id": "mw9E7xhSH3JD"
      },
      "source": [
        "#### 5.  How to get the documentation of the numpy add function from the command line? (★☆☆) \n",
        "(**hint**: np.info)"
      ]
    },
    {
      "cell_type": "code",
      "execution_count": 6,
      "metadata": {
        "collapsed": true,
        "id": "Agwb2wUhH3JD",
        "colab": {
          "base_uri": "https://localhost:8080/"
        },
        "outputId": "4a1e8ceb-98e9-4f28-b83a-3aea3713e02e"
      },
      "outputs": [
        {
          "output_type": "stream",
          "name": "stdout",
          "text": [
            "add(x1, x2, /, out=None, *, where=True, casting='same_kind', order='K', dtype=None, subok=True[, signature, extobj])\n",
            "\n",
            "Add arguments element-wise.\n",
            "\n",
            "Parameters\n",
            "----------\n",
            "x1, x2 : array_like\n",
            "    The arrays to be added.\n",
            "    If ``x1.shape != x2.shape``, they must be broadcastable to a common\n",
            "    shape (which becomes the shape of the output).\n",
            "out : ndarray, None, or tuple of ndarray and None, optional\n",
            "    A location into which the result is stored. If provided, it must have\n",
            "    a shape that the inputs broadcast to. If not provided or None,\n",
            "    a freshly-allocated array is returned. A tuple (possible only as a\n",
            "    keyword argument) must have length equal to the number of outputs.\n",
            "where : array_like, optional\n",
            "    This condition is broadcast over the input. At locations where the\n",
            "    condition is True, the `out` array will be set to the ufunc result.\n",
            "    Elsewhere, the `out` array will retain its original value.\n",
            "    Note that if an uninitialized `out` array is created via the default\n",
            "    ``out=None``, locations within it where the condition is False will\n",
            "    remain uninitialized.\n",
            "**kwargs\n",
            "    For other keyword-only arguments, see the\n",
            "    :ref:`ufunc docs <ufuncs.kwargs>`.\n",
            "\n",
            "Returns\n",
            "-------\n",
            "add : ndarray or scalar\n",
            "    The sum of `x1` and `x2`, element-wise.\n",
            "    This is a scalar if both `x1` and `x2` are scalars.\n",
            "\n",
            "Notes\n",
            "-----\n",
            "Equivalent to `x1` + `x2` in terms of array broadcasting.\n",
            "\n",
            "Examples\n",
            "--------\n",
            ">>> np.add(1.0, 4.0)\n",
            "5.0\n",
            ">>> x1 = np.arange(9.0).reshape((3, 3))\n",
            ">>> x2 = np.arange(3.0)\n",
            ">>> np.add(x1, x2)\n",
            "array([[  0.,   2.,   4.],\n",
            "       [  3.,   5.,   7.],\n",
            "       [  6.,   8.,  10.]])\n",
            "\n",
            "The ``+`` operator can be used as a shorthand for ``np.add`` on ndarrays.\n",
            "\n",
            ">>> x1 = np.arange(9.0).reshape((3, 3))\n",
            ">>> x2 = np.arange(3.0)\n",
            ">>> x1 + x2\n",
            "array([[ 0.,  2.,  4.],\n",
            "       [ 3.,  5.,  7.],\n",
            "       [ 6.,  8., 10.]])\n"
          ]
        }
      ],
      "source": [
        "np.info(np.add)"
      ]
    },
    {
      "cell_type": "markdown",
      "metadata": {
        "id": "LiEN_-CwH3JE"
      },
      "source": [
        "#### 6.  Create a null vector of size 10 but the fifth value which is 1 (★☆☆) \n",
        "(**hint**: array\\[4\\])"
      ]
    },
    {
      "cell_type": "code",
      "execution_count": 7,
      "metadata": {
        "id": "XVPDtGyJH3JE",
        "colab": {
          "base_uri": "https://localhost:8080/"
        },
        "outputId": "fd16a7c0-3020-4305-a804-0daa86c7d949"
      },
      "outputs": [
        {
          "output_type": "execute_result",
          "data": {
            "text/plain": [
              "array([0., 0., 0., 0., 1., 0., 0., 0., 0., 0.])"
            ]
          },
          "metadata": {},
          "execution_count": 7
        }
      ],
      "source": [
        "x = np.zeros(10)\n",
        "x[4] = 1\n",
        "x"
      ]
    },
    {
      "cell_type": "markdown",
      "metadata": {
        "id": "eTzHPgVEH3JF"
      },
      "source": [
        "#### 7.  Create a vector with values ranging from 10 to 49 (★☆☆) \n",
        "(**hint**: np.arange)"
      ]
    },
    {
      "cell_type": "code",
      "execution_count": 8,
      "metadata": {
        "id": "_SS0TbWGH3JF",
        "colab": {
          "base_uri": "https://localhost:8080/"
        },
        "outputId": "598410a0-5c10-4e4f-d40e-a6307ce55901"
      },
      "outputs": [
        {
          "output_type": "execute_result",
          "data": {
            "text/plain": [
              "array([10, 11, 12, 13, 14, 15, 16, 17, 18, 19, 20, 21, 22, 23, 24, 25, 26,\n",
              "       27, 28, 29, 30, 31, 32, 33, 34, 35, 36, 37, 38, 39, 40, 41, 42, 43,\n",
              "       44, 45, 46, 47, 48, 49])"
            ]
          },
          "metadata": {},
          "execution_count": 8
        }
      ],
      "source": [
        "y = np.arange(10,50)\n",
        "y"
      ]
    },
    {
      "cell_type": "markdown",
      "metadata": {
        "id": "1alm0sEUH3JG"
      },
      "source": [
        "#### 8.  Reverse a vector (first element becomes last) (★☆☆) \n",
        "(**hint**: array\\[::-1\\])"
      ]
    },
    {
      "cell_type": "code",
      "execution_count": 9,
      "metadata": {
        "id": "pEy5ol7hH3JG",
        "colab": {
          "base_uri": "https://localhost:8080/"
        },
        "outputId": "b8b8e551-0274-498d-82db-1563132d1231"
      },
      "outputs": [
        {
          "output_type": "execute_result",
          "data": {
            "text/plain": [
              "array([49, 48, 47, 46, 45, 44, 43, 42, 41, 40, 39, 38, 37, 36, 35, 34, 33,\n",
              "       32, 31, 30, 29, 28, 27, 26, 25, 24, 23, 22, 21, 20, 19, 18, 17, 16,\n",
              "       15, 14, 13, 12, 11, 10])"
            ]
          },
          "metadata": {},
          "execution_count": 9
        }
      ],
      "source": [
        "np.flip(y)"
      ]
    },
    {
      "cell_type": "markdown",
      "metadata": {
        "id": "XHvpiiaXH3JG"
      },
      "source": [
        "#### 9.  Create a 3x3 matrix with values ranging from 0 to 8 (★☆☆) \n",
        "(**hint**: reshape)"
      ]
    },
    {
      "cell_type": "code",
      "execution_count": 10,
      "metadata": {
        "id": "dKAu2-4aH3JH",
        "colab": {
          "base_uri": "https://localhost:8080/"
        },
        "outputId": "c9d8b29a-13d9-48aa-ce6d-b92fa24db600"
      },
      "outputs": [
        {
          "output_type": "execute_result",
          "data": {
            "text/plain": [
              "array([[0, 1, 2],\n",
              "       [3, 4, 5],\n",
              "       [6, 7, 8]])"
            ]
          },
          "metadata": {},
          "execution_count": 10
        }
      ],
      "source": [
        "np.arange(9).reshape(3,3)"
      ]
    },
    {
      "cell_type": "markdown",
      "metadata": {
        "id": "hLf81hCsH3JH"
      },
      "source": [
        "#### 10. Find indices of non-zero elements from \\[1,2,0,0,4,0\\] (★☆☆) \n",
        "(**hint**: np.nonzero)"
      ]
    },
    {
      "cell_type": "code",
      "execution_count": 11,
      "metadata": {
        "id": "guYklUNqH3JI",
        "colab": {
          "base_uri": "https://localhost:8080/"
        },
        "outputId": "183a449b-5dbd-44ff-defd-445eae8575c7"
      },
      "outputs": [
        {
          "output_type": "execute_result",
          "data": {
            "text/plain": [
              "(array([0, 1, 4]),)"
            ]
          },
          "metadata": {},
          "execution_count": 11
        }
      ],
      "source": [
        "nz = [1,2,0,0,4,0]\n",
        "np.nonzero(nz)"
      ]
    },
    {
      "cell_type": "markdown",
      "metadata": {
        "id": "SwDVaUgAH3JI"
      },
      "source": [
        "#### 11. Create a 3x3 identity matrix (★☆☆) \n",
        "(**hint**: np.eye)"
      ]
    },
    {
      "cell_type": "code",
      "execution_count": 12,
      "metadata": {
        "id": "gKUj7k9hH3JI",
        "colab": {
          "base_uri": "https://localhost:8080/"
        },
        "outputId": "f433f3af-47ee-4598-9f88-f7ef7ef3d621"
      },
      "outputs": [
        {
          "output_type": "execute_result",
          "data": {
            "text/plain": [
              "array([[1., 0., 0.],\n",
              "       [0., 1., 0.],\n",
              "       [0., 0., 1.]])"
            ]
          },
          "metadata": {},
          "execution_count": 12
        }
      ],
      "source": [
        "np.eye(3,3)"
      ]
    },
    {
      "cell_type": "markdown",
      "metadata": {
        "id": "EAy9FdIhH3JJ"
      },
      "source": [
        "#### 12. Create a 3x3x3 array with random values (★☆☆) \n",
        "(**hint**: np.random.random)"
      ]
    },
    {
      "cell_type": "code",
      "execution_count": 13,
      "metadata": {
        "collapsed": true,
        "id": "naV0SRO6H3JJ",
        "colab": {
          "base_uri": "https://localhost:8080/"
        },
        "outputId": "930acf78-4540-4289-fcf2-35b35696e100"
      },
      "outputs": [
        {
          "output_type": "execute_result",
          "data": {
            "text/plain": [
              "array([[[0.47230492, 0.71119056, 0.95268408],\n",
              "        [0.82986156, 0.32262951, 0.95348712],\n",
              "        [0.97745196, 0.46632389, 0.58129802]],\n",
              "\n",
              "       [[0.10146169, 0.22607903, 0.63879055],\n",
              "        [0.20303048, 0.37644983, 0.39929722],\n",
              "        [0.48355432, 0.85242425, 0.9662746 ]],\n",
              "\n",
              "       [[0.84913119, 0.49223241, 0.03841273],\n",
              "        [0.72998762, 0.65028076, 0.09921363],\n",
              "        [0.05231295, 0.777358  , 0.52851836]]])"
            ]
          },
          "metadata": {},
          "execution_count": 13
        }
      ],
      "source": [
        "np.random.rand(3,3,3)"
      ]
    },
    {
      "cell_type": "markdown",
      "metadata": {
        "id": "f1ZMiBCCH3JJ"
      },
      "source": [
        "#### 13. Create a 10x10 array with random values and find the minimum and maximum values (★☆☆) \n",
        "(**hint**: min, max)"
      ]
    },
    {
      "cell_type": "code",
      "execution_count": 14,
      "metadata": {
        "id": "XCj4y3KSH3JK",
        "colab": {
          "base_uri": "https://localhost:8080/"
        },
        "outputId": "39aa7f7a-47e7-4f51-8244-a357ce3b5fe2"
      },
      "outputs": [
        {
          "output_type": "execute_result",
          "data": {
            "text/plain": [
              "(0.009033516344055248, 0.995240274086821)"
            ]
          },
          "metadata": {},
          "execution_count": 14
        }
      ],
      "source": [
        "ar = np.random.rand(10,10)\n",
        "ar.min() , ar.max()\n"
      ]
    },
    {
      "cell_type": "markdown",
      "metadata": {
        "id": "IA-grmg-H3JK"
      },
      "source": [
        "#### 14. Create a random vector of size 30 and find the mean value (★☆☆) \n",
        "(**hint**: mean)"
      ]
    },
    {
      "cell_type": "code",
      "execution_count": 15,
      "metadata": {
        "id": "E4mPSQgiH3JL",
        "colab": {
          "base_uri": "https://localhost:8080/"
        },
        "outputId": "b32e5ca4-6143-41ed-8469-1db74e8abc44"
      },
      "outputs": [
        {
          "output_type": "execute_result",
          "data": {
            "text/plain": [
              "0.48101816835554084"
            ]
          },
          "metadata": {},
          "execution_count": 15
        }
      ],
      "source": [
        "np.random.rand(30).mean()"
      ]
    },
    {
      "cell_type": "markdown",
      "metadata": {
        "id": "AuQWGxsFH3JL"
      },
      "source": [
        "#### 15. Create a 2d array with 1 on the border and 0 inside (★☆☆) \n",
        "(**hint**: array\\[1:-1, 1:-1\\])"
      ]
    },
    {
      "cell_type": "code",
      "execution_count": 16,
      "metadata": {
        "id": "DBiGFt5uH3JL",
        "colab": {
          "base_uri": "https://localhost:8080/"
        },
        "outputId": "ac0cf755-317a-4b53-9c73-456e5005d4a4"
      },
      "outputs": [
        {
          "output_type": "execute_result",
          "data": {
            "text/plain": [
              "array([[1., 1., 1., 1., 1., 1., 1., 1., 1., 1.],\n",
              "       [1., 0., 0., 0., 0., 0., 0., 0., 0., 1.],\n",
              "       [1., 0., 0., 0., 0., 0., 0., 0., 0., 1.],\n",
              "       [1., 0., 0., 0., 0., 0., 0., 0., 0., 1.],\n",
              "       [1., 0., 0., 0., 0., 0., 0., 0., 0., 1.],\n",
              "       [1., 0., 0., 0., 0., 0., 0., 0., 0., 1.],\n",
              "       [1., 0., 0., 0., 0., 0., 0., 0., 0., 1.],\n",
              "       [1., 0., 0., 0., 0., 0., 0., 0., 0., 1.],\n",
              "       [1., 0., 0., 0., 0., 0., 0., 0., 0., 1.],\n",
              "       [1., 1., 1., 1., 1., 1., 1., 1., 1., 1.]])"
            ]
          },
          "metadata": {},
          "execution_count": 16
        }
      ],
      "source": [
        "z = np.ones((10,10))\n",
        "z[1:-1, 1:-1] = 0\n",
        "z"
      ]
    },
    {
      "cell_type": "markdown",
      "metadata": {
        "id": "QUiGYH28H3JL"
      },
      "source": [
        "#### 16. How to add a border (filled with 0's) around an existing array? (★☆☆) \n",
        "(**hint**: np.pad)"
      ]
    },
    {
      "cell_type": "code",
      "execution_count": 17,
      "metadata": {
        "id": "WFR42vI-H3JM",
        "colab": {
          "base_uri": "https://localhost:8080/"
        },
        "outputId": "29cbf374-9d25-452a-94b5-ef80a66c7e70"
      },
      "outputs": [
        {
          "output_type": "execute_result",
          "data": {
            "text/plain": [
              "array([[0., 0., 0., 0., 0., 0., 0., 0., 0., 0., 0., 0.],\n",
              "       [0., 1., 1., 1., 1., 1., 1., 1., 1., 1., 1., 0.],\n",
              "       [0., 1., 0., 0., 0., 0., 0., 0., 0., 0., 1., 0.],\n",
              "       [0., 1., 0., 0., 0., 0., 0., 0., 0., 0., 1., 0.],\n",
              "       [0., 1., 0., 0., 0., 0., 0., 0., 0., 0., 1., 0.],\n",
              "       [0., 1., 0., 0., 0., 0., 0., 0., 0., 0., 1., 0.],\n",
              "       [0., 1., 0., 0., 0., 0., 0., 0., 0., 0., 1., 0.],\n",
              "       [0., 1., 0., 0., 0., 0., 0., 0., 0., 0., 1., 0.],\n",
              "       [0., 1., 0., 0., 0., 0., 0., 0., 0., 0., 1., 0.],\n",
              "       [0., 1., 0., 0., 0., 0., 0., 0., 0., 0., 1., 0.],\n",
              "       [0., 1., 1., 1., 1., 1., 1., 1., 1., 1., 1., 0.],\n",
              "       [0., 0., 0., 0., 0., 0., 0., 0., 0., 0., 0., 0.]])"
            ]
          },
          "metadata": {},
          "execution_count": 17
        }
      ],
      "source": [
        "np.pad(z, pad_width = 1, mode = 'constant', constant_values = 0)"
      ]
    },
    {
      "cell_type": "markdown",
      "metadata": {
        "id": "v3l9I906H3JM"
      },
      "source": [
        "#### 17. What is the result of the following expression? (★☆☆) \n",
        "(**hint**: NaN = not a number, inf = infinity)"
      ]
    },
    {
      "cell_type": "markdown",
      "metadata": {
        "id": "FGK3ZaBtH3JM"
      },
      "source": [
        "```python\n",
        "0 * np.nan\n",
        "np.nan == np.nan\n",
        "np.inf > np.nan\n",
        "np.nan - np.nan\n",
        "0.3 == 3 * 0.1\n",
        "```"
      ]
    },
    {
      "cell_type": "code",
      "execution_count": 18,
      "metadata": {
        "id": "dYiKFUZtH3JN"
      },
      "outputs": [],
      "source": [
        "#nan\n",
        "# False\n",
        "# False\n",
        "# nan\n",
        "# Flase\n"
      ]
    },
    {
      "cell_type": "markdown",
      "metadata": {
        "id": "oG_bP4A5H3JN"
      },
      "source": [
        "#### 18. Create a 5x5 matrix with values 1,2,3,4 just below the diagonal (★☆☆) \n",
        "(**hint**: np.diag)"
      ]
    },
    {
      "cell_type": "code",
      "execution_count": 19,
      "metadata": {
        "id": "P7C-4imhH3JO",
        "colab": {
          "base_uri": "https://localhost:8080/"
        },
        "outputId": "92bd483a-26bb-40bd-d2ba-28788dce60e6"
      },
      "outputs": [
        {
          "output_type": "execute_result",
          "data": {
            "text/plain": [
              "array([[0, 1, 0, 0, 0],\n",
              "       [0, 0, 2, 0, 0],\n",
              "       [0, 0, 0, 3, 0],\n",
              "       [0, 0, 0, 0, 4],\n",
              "       [0, 0, 0, 0, 0]])"
            ]
          },
          "metadata": {},
          "execution_count": 19
        }
      ],
      "source": [
        "z = np.diag(1+np.arange(4), k=1)\n",
        "z"
      ]
    },
    {
      "cell_type": "markdown",
      "metadata": {
        "id": "82kZx-GvH3JO"
      },
      "source": [
        "#### 19. Create a 8x8 matrix and fill it with a checkerboard pattern (★☆☆) \n",
        "(**hint**: array\\[::2\\])"
      ]
    },
    {
      "cell_type": "code",
      "execution_count": 20,
      "metadata": {
        "id": "iAvVfLigH3JO",
        "colab": {
          "base_uri": "https://localhost:8080/"
        },
        "outputId": "25ed255b-55b0-4e9d-af0e-91ea07f5f385"
      },
      "outputs": [
        {
          "output_type": "execute_result",
          "data": {
            "text/plain": [
              "array([[0., 1., 0., 1., 0., 1., 0., 1.],\n",
              "       [1., 0., 1., 0., 1., 0., 1., 0.],\n",
              "       [0., 1., 0., 1., 0., 1., 0., 1.],\n",
              "       [1., 0., 1., 0., 1., 0., 1., 0.],\n",
              "       [0., 1., 0., 1., 0., 1., 0., 1.],\n",
              "       [1., 0., 1., 0., 1., 0., 1., 0.],\n",
              "       [0., 1., 0., 1., 0., 1., 0., 1.],\n",
              "       [1., 0., 1., 0., 1., 0., 1., 0.]])"
            ]
          },
          "metadata": {},
          "execution_count": 20
        }
      ],
      "source": [
        "cb = np.zeros((8,8))\n",
        "cb[1::2, ::2] = 1\n",
        "cb[::2, 1::2] = 1\n",
        "cb"
      ]
    },
    {
      "cell_type": "markdown",
      "metadata": {
        "id": "Om97UVArH3JP"
      },
      "source": [
        "#### 20. Consider a (6,7,8) shape array, what is the index (x,y,z) of the 100th element? \n",
        "(**hint**: np.unravel_index)"
      ]
    },
    {
      "cell_type": "code",
      "execution_count": 21,
      "metadata": {
        "id": "U1455KgtH3JP",
        "colab": {
          "base_uri": "https://localhost:8080/"
        },
        "outputId": "9bc2d9a7-3ca7-4e1f-dfbc-c9612cfd4fa6"
      },
      "outputs": [
        {
          "output_type": "execute_result",
          "data": {
            "text/plain": [
              "(1, 5, 3)"
            ]
          },
          "metadata": {},
          "execution_count": 21
        }
      ],
      "source": [
        "np.unravel_index(99,(6,7,8))"
      ]
    },
    {
      "cell_type": "markdown",
      "metadata": {
        "id": "W72UTVETH3JP"
      },
      "source": [
        "#### 21. Create a checkerboard 8x8 matrix using the tile function (★☆☆) \n",
        "(**hint**: np.tile)"
      ]
    },
    {
      "cell_type": "code",
      "execution_count": 22,
      "metadata": {
        "id": "S-ZSa0B7H3JP",
        "colab": {
          "base_uri": "https://localhost:8080/"
        },
        "outputId": "ec220776-25ae-4b9c-c0ee-81428f448b53"
      },
      "outputs": [
        {
          "output_type": "execute_result",
          "data": {
            "text/plain": [
              "array([[1, 0, 1, 0, 1, 0, 1, 0],\n",
              "       [0, 1, 0, 1, 0, 1, 0, 1],\n",
              "       [1, 0, 1, 0, 1, 0, 1, 0],\n",
              "       [0, 1, 0, 1, 0, 1, 0, 1],\n",
              "       [1, 0, 1, 0, 1, 0, 1, 0],\n",
              "       [0, 1, 0, 1, 0, 1, 0, 1],\n",
              "       [1, 0, 1, 0, 1, 0, 1, 0],\n",
              "       [0, 1, 0, 1, 0, 1, 0, 1]])"
            ]
          },
          "metadata": {},
          "execution_count": 22
        }
      ],
      "source": [
        "z = np.array([[1,0],[0,1]])\n",
        "np.tile(z,(4,4))"
      ]
    },
    {
      "cell_type": "markdown",
      "metadata": {
        "id": "_H4BuNc4H3JQ"
      },
      "source": [
        "#### 22. Normalize a 5x5 random matrix (★☆☆) \n",
        "(**hint**: (x - min) / (max - min))"
      ]
    },
    {
      "cell_type": "code",
      "execution_count": 23,
      "metadata": {
        "id": "PTtzerhiH3JQ",
        "colab": {
          "base_uri": "https://localhost:8080/"
        },
        "outputId": "8044f53b-96fb-49ab-ed6d-1a81ba565910"
      },
      "outputs": [
        {
          "output_type": "execute_result",
          "data": {
            "text/plain": [
              "array([[ 0.73685028,  0.80494538, -0.2908467 , -1.49300819,  0.38549181],\n",
              "       [ 0.72817879, -1.64281352,  0.88768468,  0.70146065,  1.0870745 ],\n",
              "       [ 0.56819694,  1.26924127,  0.90869079,  0.38272785, -1.59873696],\n",
              "       [-1.76923003, -1.23754502,  0.06398331, -0.76845638,  0.62423252],\n",
              "       [-0.4455042 , -1.61821878,  0.20736778,  1.27878465,  0.22944855]])"
            ]
          },
          "metadata": {},
          "execution_count": 23
        }
      ],
      "source": [
        "x = np.random.rand(5,5)\n",
        "x = (x-np.mean(x))/(np.std(x))\n",
        "x"
      ]
    },
    {
      "cell_type": "code",
      "source": [
        "c = np.random.rand(5,5)\n",
        "c = (c-(c.min()))/((c.max())-(c.min()))\n",
        "c"
      ],
      "metadata": {
        "colab": {
          "base_uri": "https://localhost:8080/"
        },
        "id": "Okcw5XTbPs5s",
        "outputId": "c484c077-b7f0-4384-e920-f10c2301ccd2"
      },
      "execution_count": 24,
      "outputs": [
        {
          "output_type": "execute_result",
          "data": {
            "text/plain": [
              "array([[0.20065232, 1.        , 0.82353931, 0.62420552, 0.        ],\n",
              "       [0.987313  , 0.63366798, 0.4791588 , 0.76526398, 0.60358866],\n",
              "       [0.62588043, 0.92138357, 0.77530235, 0.39935703, 0.21011943],\n",
              "       [0.74306615, 0.69994475, 0.97058006, 0.28105056, 0.96297132],\n",
              "       [0.43372651, 0.89485124, 0.964719  , 0.03691903, 0.78116974]])"
            ]
          },
          "metadata": {},
          "execution_count": 24
        }
      ]
    },
    {
      "cell_type": "markdown",
      "metadata": {
        "id": "8KpytI98H3JQ"
      },
      "source": [
        "#### 23. Create a custom dtype that describes a color as four unsigned bytes (RGBA) (★☆☆) \n",
        "(**hint**: np.dtype)"
      ]
    },
    {
      "cell_type": "code",
      "execution_count": 24,
      "metadata": {
        "collapsed": true,
        "id": "vd3VzAXYH3JQ"
      },
      "outputs": [],
      "source": []
    },
    {
      "cell_type": "markdown",
      "metadata": {
        "id": "U2P7WllAH3JQ"
      },
      "source": [
        "#### 24. Multiply a 5x3 matrix by a 3x2 matrix (real matrix product) (★☆☆) \n",
        "(**hint**: np.dot | @)"
      ]
    },
    {
      "cell_type": "code",
      "execution_count": 25,
      "metadata": {
        "id": "Gfz_YqJdH3JR",
        "colab": {
          "base_uri": "https://localhost:8080/"
        },
        "outputId": "dfd26dba-8113-4e95-b5ed-b586d46d4540"
      },
      "outputs": [
        {
          "output_type": "execute_result",
          "data": {
            "text/plain": [
              "array([[0.96068413, 1.16052808],\n",
              "       [0.25113822, 0.36426056],\n",
              "       [0.67917555, 0.92779412],\n",
              "       [0.64772801, 0.79947777],\n",
              "       [0.37327092, 0.7831956 ]])"
            ]
          },
          "metadata": {},
          "execution_count": 25
        }
      ],
      "source": [
        "x = np.random.rand(5,3)\n",
        "y = np.random.rand(3,2)\n",
        "\n",
        "z = np.dot(x,y)\n",
        "z"
      ]
    },
    {
      "cell_type": "markdown",
      "metadata": {
        "id": "c_8pxtfqH3JR"
      },
      "source": [
        "#### 25. Given a 1D array, negate all elements which are between 3 and 8, in place. (★☆☆) \n",
        "(**hint**: >, <=)"
      ]
    },
    {
      "cell_type": "code",
      "execution_count": 26,
      "metadata": {
        "id": "v_xJewKpH3JR",
        "colab": {
          "base_uri": "https://localhost:8080/"
        },
        "outputId": "131a09c7-ad6e-40ea-d204-7e741fad66ae"
      },
      "outputs": [
        {
          "output_type": "execute_result",
          "data": {
            "text/plain": [
              "array([ 0,  1,  2, -3, -4, -5, -6, -7, -8,  9])"
            ]
          },
          "metadata": {},
          "execution_count": 26
        }
      ],
      "source": [
        "a = np.arange(0,10)\n",
        "a[3:9] = a[3:9]*-1\n",
        "a"
      ]
    },
    {
      "cell_type": "markdown",
      "metadata": {
        "id": "CRcKq3SZH3JR"
      },
      "source": [
        "#### 26. What is the output of the following script? (★☆☆) \n",
        "(**hint**: np.sum)"
      ]
    },
    {
      "cell_type": "markdown",
      "metadata": {
        "id": "7hrPy2CiH3JS"
      },
      "source": [
        "```python\n",
        "# Author: Jake VanderPlas\n",
        "\n",
        "print(sum(range(5),-1))\n",
        "from numpy import *\n",
        "print(sum(range(5),-1))\n",
        "```"
      ]
    },
    {
      "cell_type": "code",
      "execution_count": 27,
      "metadata": {
        "id": "Tfhbw6l4H3JS",
        "colab": {
          "base_uri": "https://localhost:8080/"
        },
        "outputId": "057868a1-e10d-4942-c488-ddcb9b609bbe"
      },
      "outputs": [
        {
          "output_type": "stream",
          "name": "stdout",
          "text": [
            "9\n",
            "10\n"
          ]
        }
      ],
      "source": [
        "print(sum(range(5),-1))\n",
        "\n",
        "from numpy import *\n",
        "print(sum(range(5),-1))"
      ]
    },
    {
      "cell_type": "markdown",
      "metadata": {
        "id": "bn6E6SIxH3JS"
      },
      "source": [
        "#### 27. Consider an integer vector Z, which of these expressions are legal? (★☆☆)"
      ]
    },
    {
      "cell_type": "markdown",
      "metadata": {
        "id": "ogQozoxVH3JS"
      },
      "source": [
        "```python\n",
        "Z**Z\n",
        "2 << Z >> 2\n",
        "Z <- Z\n",
        "1j*Z\n",
        "Z/1/1\n",
        "Z<Z>Z\n",
        "```"
      ]
    },
    {
      "cell_type": "code",
      "execution_count": 27,
      "metadata": {
        "id": "Hwlbtbr0H3JT"
      },
      "outputs": [],
      "source": []
    },
    {
      "cell_type": "markdown",
      "metadata": {
        "id": "ip7i1cr6H3JT"
      },
      "source": [
        "#### 28. What are the result of the following expressions?"
      ]
    },
    {
      "cell_type": "markdown",
      "metadata": {
        "id": "mQfAI3c7H3JT"
      },
      "source": [
        "```python\n",
        "np.array(0) / np.array(0)\n",
        "np.array(0) // np.array(0)\n",
        "np.array([np.nan]).astype(int).astype(float)\n",
        "```"
      ]
    },
    {
      "cell_type": "markdown",
      "source": [
        "- nan\n",
        "- 0"
      ],
      "metadata": {
        "id": "ky7OWzjqYToS"
      }
    },
    {
      "cell_type": "code",
      "execution_count": 28,
      "metadata": {
        "id": "5op5fR1MH3JT",
        "colab": {
          "base_uri": "https://localhost:8080/"
        },
        "outputId": "fd46d497-1b46-48ac-903d-2ba9d2fde0de"
      },
      "outputs": [
        {
          "output_type": "execute_result",
          "data": {
            "text/plain": [
              "array([-9.22337204e+18])"
            ]
          },
          "metadata": {},
          "execution_count": 28
        }
      ],
      "source": [
        "np.array([np.nan]).astype(int).astype(float)"
      ]
    },
    {
      "cell_type": "markdown",
      "metadata": {
        "id": "ZkTeI5htH3JT"
      },
      "source": [
        "#### 29. How to round away from zero a float array ? (★☆☆) \n",
        "(**hint**: np.uniform, np.copysign, np.ceil, np.abs)"
      ]
    },
    {
      "cell_type": "code",
      "execution_count": 28,
      "metadata": {
        "id": "5VnUT-lMH3JU"
      },
      "outputs": [],
      "source": []
    },
    {
      "cell_type": "markdown",
      "metadata": {
        "id": "5YMw2-nWH3JU"
      },
      "source": [
        "#### 30. How to find common values between two arrays? (★☆☆) \n",
        "(**hint**: np.intersect1d)"
      ]
    },
    {
      "cell_type": "code",
      "execution_count": 29,
      "metadata": {
        "id": "e8gNMMcKH3JU",
        "colab": {
          "base_uri": "https://localhost:8080/"
        },
        "outputId": "1a9df2f4-e197-44cc-e855-a330061ca189"
      },
      "outputs": [
        {
          "output_type": "execute_result",
          "data": {
            "text/plain": [
              "array([], dtype=int64)"
            ]
          },
          "metadata": {},
          "execution_count": 29
        }
      ],
      "source": [
        "x = np.random.randint(1,100,10)\n",
        "y = np.random.randint(1,100,10)\n",
        "np.intersect1d(x,y)"
      ]
    },
    {
      "cell_type": "markdown",
      "metadata": {
        "id": "dnppCKh5H3JU"
      },
      "source": [
        "#### 31. How to ignore all numpy warnings (not recommended)? (★☆☆) \n",
        "(**hint**: np.seterr, np.errstate)"
      ]
    },
    {
      "cell_type": "code",
      "execution_count": 31,
      "metadata": {
        "id": "-rOC7yIuH3JU"
      },
      "outputs": [],
      "source": [
        "defaults = np.seterr(all=\"ignore\")\n",
        "Z = np.ones(1) / 0\n"
      ]
    },
    {
      "cell_type": "markdown",
      "metadata": {
        "id": "wkpmLu9YH3JV"
      },
      "source": [
        "#### 32. Is the following expressions true? (★☆☆) \n",
        "(**hint**: imaginary number)"
      ]
    },
    {
      "cell_type": "markdown",
      "metadata": {
        "id": "F4eiB82HH3JV"
      },
      "source": [
        "```python\n",
        "np.sqrt(-1) == np.emath.sqrt(-1)\n",
        "```"
      ]
    },
    {
      "cell_type": "code",
      "execution_count": 30,
      "metadata": {
        "id": "zVrc9pW0H3JV"
      },
      "outputs": [],
      "source": [
        "#Flase"
      ]
    },
    {
      "cell_type": "markdown",
      "metadata": {
        "id": "S74lY4NZH3JV"
      },
      "source": [
        "#### 33. How to get the dates of yesterday, today and tomorrow? (★☆☆) \n",
        "(**hint**: np.datetime64, np.timedelta64)"
      ]
    },
    {
      "cell_type": "code",
      "execution_count": 32,
      "metadata": {
        "collapsed": true,
        "id": "YVAA9s9tH3JW"
      },
      "outputs": [],
      "source": [
        "yesterday = np.datetime64('today', 'D') - np.timedelta64(1, 'D')\n",
        "today     = np.datetime64('today', 'D')\n",
        "tomorrow  = np.datetime64('today', 'D') + np.timedelta64(1, 'D')"
      ]
    },
    {
      "cell_type": "markdown",
      "metadata": {
        "id": "O1-g6tuNH3JW"
      },
      "source": [
        "#### 34. How to get all the dates corresponding to the month of July 2016? (★★☆) \n",
        "(**hint**: np.arange(dtype=datetime64\\['D'\\]))"
      ]
    },
    {
      "cell_type": "code",
      "execution_count": 33,
      "metadata": {
        "id": "DNSR34mJH3JW",
        "colab": {
          "base_uri": "https://localhost:8080/"
        },
        "outputId": "32a362ca-fdcb-4c2c-8ac6-cccf1c8484ea"
      },
      "outputs": [
        {
          "output_type": "stream",
          "name": "stdout",
          "text": [
            "['2016-07-01' '2016-07-02' '2016-07-03' '2016-07-04' '2016-07-05'\n",
            " '2016-07-06' '2016-07-07' '2016-07-08' '2016-07-09' '2016-07-10'\n",
            " '2016-07-11' '2016-07-12' '2016-07-13' '2016-07-14' '2016-07-15'\n",
            " '2016-07-16' '2016-07-17' '2016-07-18' '2016-07-19' '2016-07-20'\n",
            " '2016-07-21' '2016-07-22' '2016-07-23' '2016-07-24' '2016-07-25'\n",
            " '2016-07-26' '2016-07-27' '2016-07-28' '2016-07-29' '2016-07-30'\n",
            " '2016-07-31']\n"
          ]
        }
      ],
      "source": [
        "X= np.arange('2016-07', '2016-08', dtype='datetime64[D]')\n",
        "print(X)"
      ]
    },
    {
      "cell_type": "markdown",
      "metadata": {
        "id": "t53HMrQKH3JW"
      },
      "source": [
        "#### 35. How to compute ((A+B)\\*(-A/2)) in place (without copy)? (★★☆) \n",
        "(**hint**: np.add(out=), np.negative(out=), np.multiply(out=), np.divide(out=))"
      ]
    },
    {
      "cell_type": "code",
      "execution_count": 34,
      "metadata": {
        "id": "Q1tKsQcBH3JX",
        "colab": {
          "base_uri": "https://localhost:8080/"
        },
        "outputId": "ddb2965e-85ae-4600-ace6-c6b65ef406d7"
      },
      "outputs": [
        {
          "output_type": "execute_result",
          "data": {
            "text/plain": [
              "array([-1.5, -1.5, -1.5])"
            ]
          },
          "metadata": {},
          "execution_count": 34
        }
      ],
      "source": [
        "A = np.ones(3)*1\n",
        "B = np.ones(3)*2\n",
        "C = np.ones(3)*3\n",
        "np.add(A,B,out=B)\n",
        "np.divide(A,2,out=A)\n",
        "np.negative(A,out=A)\n",
        "np.multiply(A,B,out=A)"
      ]
    },
    {
      "cell_type": "markdown",
      "metadata": {
        "id": "SPvC_Iu2H3JX"
      },
      "source": [
        "#### 36. Extract the integer part of a random array using 5 different methods (★★☆) \n",
        "(**hint**: %, np.floor, np.ceil, astype, np.trunc)"
      ]
    },
    {
      "cell_type": "code",
      "execution_count": 35,
      "metadata": {
        "id": "rdKeL8s5H3JX",
        "colab": {
          "base_uri": "https://localhost:8080/"
        },
        "outputId": "d81fabdf-2f91-4d12-ceb6-d8a5a8d4d19b"
      },
      "outputs": [
        {
          "output_type": "stream",
          "name": "stdout",
          "text": [
            "[5. 7. 2. 5. 5. 3. 7. 3. 1. 5.]\n",
            "[5. 7. 2. 5. 5. 3. 7. 3. 1. 5.]\n",
            "[5. 7. 2. 5. 5. 3. 7. 3. 1. 5.]\n",
            "[5 7 2 5 5 3 7 3 1 5]\n",
            "[5. 7. 2. 5. 5. 3. 7. 3. 1. 5.]\n"
          ]
        }
      ],
      "source": [
        "Z = np.random.uniform(0,10,10)\n",
        "\n",
        "print (Z - Z%1)\n",
        "print (np.floor(Z))\n",
        "print (np.ceil(Z)-1)\n",
        "print (Z.astype(int))\n",
        "print (np.trunc(Z))"
      ]
    },
    {
      "cell_type": "markdown",
      "metadata": {
        "id": "m3_LVsGnH3JY"
      },
      "source": [
        "#### 37. Create a 5x5 matrix with row values ranging from 0 to 4 (★★☆) \n",
        "(**hint**: np.arange)"
      ]
    },
    {
      "cell_type": "code",
      "execution_count": 36,
      "metadata": {
        "id": "7ycuxrUlH3JY",
        "colab": {
          "base_uri": "https://localhost:8080/"
        },
        "outputId": "e2b649bb-1a69-48f9-97cf-244ea4480702"
      },
      "outputs": [
        {
          "output_type": "stream",
          "name": "stdout",
          "text": [
            "[[0. 1. 2. 3. 4.]\n",
            " [0. 1. 2. 3. 4.]\n",
            " [0. 1. 2. 3. 4.]\n",
            " [0. 1. 2. 3. 4.]\n",
            " [0. 1. 2. 3. 4.]]\n"
          ]
        }
      ],
      "source": [
        "Z = np.zeros((5,5))\n",
        "Z += np.arange(5)\n",
        "print(Z)"
      ]
    },
    {
      "cell_type": "markdown",
      "metadata": {
        "id": "ZUmfYjYQH3JY"
      },
      "source": [
        "#### 38. Consider a generator function that generates 10 integers and use it to build an array (★☆☆) \n",
        "(**hint**: np.fromiter)"
      ]
    },
    {
      "cell_type": "code",
      "execution_count": 37,
      "metadata": {
        "id": "hdQ6zJENH3JZ",
        "colab": {
          "base_uri": "https://localhost:8080/"
        },
        "outputId": "bc0190b0-9403-4baa-dd68-df8da535f118"
      },
      "outputs": [
        {
          "output_type": "stream",
          "name": "stdout",
          "text": [
            "[0. 1. 2. 3. 4. 5. 6. 7. 8. 9.]\n"
          ]
        }
      ],
      "source": [
        "def generate():\n",
        "    for x in range(10):\n",
        "        yield x\n",
        "Z = np.fromiter(generate(),dtype=float,count=-1)\n",
        "print(Z)"
      ]
    },
    {
      "cell_type": "markdown",
      "metadata": {
        "id": "qAkT8_wdH3JZ"
      },
      "source": [
        "#### 39. Create a vector of size 10 with values ranging from 0 to 1, both excluded (★★☆) \n",
        "(**hint**: np.linspace)"
      ]
    },
    {
      "cell_type": "code",
      "execution_count": 38,
      "metadata": {
        "id": "zJWM-_w8H3Jf",
        "colab": {
          "base_uri": "https://localhost:8080/"
        },
        "outputId": "4e127b80-f2bf-4472-e4dd-9b03f662b2bf"
      },
      "outputs": [
        {
          "output_type": "stream",
          "name": "stdout",
          "text": [
            "[0.09090909 0.18181818 0.27272727 0.36363636 0.45454545 0.54545455\n",
            " 0.63636364 0.72727273 0.81818182 0.90909091]\n"
          ]
        }
      ],
      "source": [
        "Z = np.linspace(0,1,11,endpoint=False)[1:]\n",
        "print(Z)"
      ]
    },
    {
      "cell_type": "markdown",
      "metadata": {
        "id": "JoXDdmERH3Jf"
      },
      "source": [
        "#### 40. Create a random vector of size 10 and sort it (★★☆) \n",
        "(**hint**: sort)"
      ]
    },
    {
      "cell_type": "code",
      "execution_count": 39,
      "metadata": {
        "id": "xk1tqcWWH3Jg",
        "colab": {
          "base_uri": "https://localhost:8080/"
        },
        "outputId": "08740719-06eb-4427-80ee-f305604c380b"
      },
      "outputs": [
        {
          "output_type": "stream",
          "name": "stdout",
          "text": [
            "[0.11250908 0.13498074 0.45116652 0.63939887 0.64856956 0.72963947\n",
            " 0.79371923 0.94964277 0.96108944 0.96349166]\n"
          ]
        }
      ],
      "source": [
        "Z = np.random.random(10)\n",
        "Z.sort()\n",
        "print(Z)"
      ]
    },
    {
      "cell_type": "markdown",
      "metadata": {
        "id": "QbLBMVhhH3Jg"
      },
      "source": [
        "#### 41. How to sum a small array faster than np.sum? (★★☆) \n",
        "(**hint**: np.add.reduce)"
      ]
    },
    {
      "cell_type": "code",
      "execution_count": 40,
      "metadata": {
        "id": "V0ZaLhPfH3Jg",
        "colab": {
          "base_uri": "https://localhost:8080/"
        },
        "outputId": "1b3a5fb7-57b6-4f0b-80e8-c641a06aa47e"
      },
      "outputs": [
        {
          "output_type": "execute_result",
          "data": {
            "text/plain": [
              "45"
            ]
          },
          "metadata": {},
          "execution_count": 40
        }
      ],
      "source": [
        "Z = np.arange(10)\n",
        "np.add.reduce(Z)"
      ]
    },
    {
      "cell_type": "markdown",
      "metadata": {
        "id": "QJ-5HcI2H3Jh"
      },
      "source": [
        "#### 42. Consider two random array A and B, check if they are equal (★★☆) \n",
        "(**hint**: np.allclose, np.array\\_equal)"
      ]
    },
    {
      "cell_type": "code",
      "execution_count": 41,
      "metadata": {
        "id": "gJPx7JIZH3Jh",
        "colab": {
          "base_uri": "https://localhost:8080/"
        },
        "outputId": "742e7047-67b5-4a94-82a2-fcbd13c33cff"
      },
      "outputs": [
        {
          "output_type": "stream",
          "name": "stdout",
          "text": [
            "False\n",
            "False\n"
          ]
        }
      ],
      "source": [
        "A = np.random.randint(0,2,5)\n",
        "B = np.random.randint(0,2,5)\n",
        "equal = np.allclose(A,B)\n",
        "print(equal)\n",
        "equal = np.array_equal(A,B)\n",
        "print(equal)"
      ]
    },
    {
      "cell_type": "markdown",
      "metadata": {
        "id": "_zu1WWJ1H3Jh"
      },
      "source": [
        "#### 43. Make an array immutable (read-only) (★★☆) \n",
        "(**hint**: flags.writeable)"
      ]
    },
    {
      "cell_type": "code",
      "execution_count": 44,
      "metadata": {
        "id": "FBFgXN-PH3Ji"
      },
      "outputs": [],
      "source": [
        "Z = np.zeros(10)\n",
        "Z.flags.writeable = False\n"
      ]
    },
    {
      "cell_type": "markdown",
      "metadata": {
        "id": "DEBLDO__H3Ji"
      },
      "source": [
        "#### 44. Consider a random 10x2 matrix representing cartesian coordinates, convert them to polar coordinates (★★☆) \n",
        "(**hint**: np.sqrt, np.arctan2)"
      ]
    },
    {
      "cell_type": "code",
      "execution_count": 45,
      "metadata": {
        "id": "2gTfBdY4H3Ji",
        "colab": {
          "base_uri": "https://localhost:8080/"
        },
        "outputId": "be3cc777-52bc-456f-8e97-b61551703167"
      },
      "outputs": [
        {
          "output_type": "stream",
          "name": "stdout",
          "text": [
            "[1.11921274 0.22516097 0.63830205 0.94707927 0.98885972 0.94629526\n",
            " 0.88890886 0.73649052 0.83086517 0.89663135]\n",
            "[0.62715423 0.23330647 0.92829828 1.35040228 1.14219277 0.30342172\n",
            " 1.3288971  0.39944021 1.1158839  1.35476097]\n"
          ]
        }
      ],
      "source": [
        "Z = np.random.random((10,2))\n",
        "X,Y = Z[:,0], Z[:,1]\n",
        "R = np.sqrt(X**2+Y**2)\n",
        "T = np.arctan2(Y,X)\n",
        "print(R)\n",
        "print(T)"
      ]
    },
    {
      "cell_type": "markdown",
      "metadata": {
        "id": "Va_ir8LjH3Ji"
      },
      "source": [
        "#### 45. Create random vector of size 10 and replace the maximum value by 0 (★★☆) \n",
        "(**hint**: argmax)"
      ]
    },
    {
      "cell_type": "code",
      "execution_count": 46,
      "metadata": {
        "id": "5D6PIFFLH3Jj",
        "colab": {
          "base_uri": "https://localhost:8080/"
        },
        "outputId": "b762c6c8-5007-448c-a55c-d6578d6fabb9"
      },
      "outputs": [
        {
          "output_type": "stream",
          "name": "stdout",
          "text": [
            "[0.43247627 0.01983041 0.80760511 0.63333937 0.67400029 0.00828174\n",
            " 0.66028696 0.27141707 0.         0.16258956]\n"
          ]
        }
      ],
      "source": [
        "Z = np.random.random(10)\n",
        "Z[Z.argmax()] = 0\n",
        "print(Z)"
      ]
    },
    {
      "cell_type": "markdown",
      "metadata": {
        "id": "eC4GV0loH3Jj"
      },
      "source": [
        "#### 46. Create a structured array with `x` and `y` coordinates covering the \\[0,1\\]x\\[0,1\\] area (★★☆) \n",
        "(**hint**: np.meshgrid)"
      ]
    },
    {
      "cell_type": "code",
      "execution_count": 48,
      "metadata": {
        "id": "DlV9Qi76H3Jj",
        "colab": {
          "base_uri": "https://localhost:8080/"
        },
        "outputId": "9bc1ae44-cab0-4e39-e8c2-380d708b9510"
      },
      "outputs": [
        {
          "output_type": "stream",
          "name": "stdout",
          "text": [
            "[[(0.  , 0.  ) (0.25, 0.  ) (0.5 , 0.  ) (0.75, 0.  ) (1.  , 0.  )]\n",
            " [(0.  , 0.25) (0.25, 0.25) (0.5 , 0.25) (0.75, 0.25) (1.  , 0.25)]\n",
            " [(0.  , 0.5 ) (0.25, 0.5 ) (0.5 , 0.5 ) (0.75, 0.5 ) (1.  , 0.5 )]\n",
            " [(0.  , 0.75) (0.25, 0.75) (0.5 , 0.75) (0.75, 0.75) (1.  , 0.75)]\n",
            " [(0.  , 1.  ) (0.25, 1.  ) (0.5 , 1.  ) (0.75, 1.  ) (1.  , 1.  )]]\n"
          ]
        }
      ],
      "source": [
        "Z = np.zeros((5,5), [('x',float),('y',float)])\n",
        "Z['x'], Z['y'] = np.meshgrid(np.linspace(0,1,5),np.linspace(0,1,5))\n",
        "print(Z)"
      ]
    },
    {
      "cell_type": "markdown",
      "metadata": {
        "id": "z-Oy9UnGH3Jj"
      },
      "source": [
        "####  47. Given two arrays, X and Y, construct the Cauchy matrix C (Cij =1/(xi - yj)) \n",
        "(**hint**: np.subtract.outer)"
      ]
    },
    {
      "cell_type": "code",
      "execution_count": 49,
      "metadata": {
        "id": "D0vStLUgH3Jk",
        "colab": {
          "base_uri": "https://localhost:8080/"
        },
        "outputId": "80ba0456-732d-43b3-d2f2-acbb95d363e6"
      },
      "outputs": [
        {
          "output_type": "stream",
          "name": "stdout",
          "text": [
            "3638.163637117973\n"
          ]
        }
      ],
      "source": [
        "X = np.arange(8)\n",
        "Y = X + 0.5\n",
        "C = 1.0 / np.subtract.outer(X, Y)\n",
        "print(np.linalg.det(C))"
      ]
    },
    {
      "cell_type": "markdown",
      "metadata": {
        "id": "QFgduNTZH3Jk"
      },
      "source": [
        "#### 48. Print the minimum and maximum representable value for each numpy scalar type (★★☆) \n",
        "(**hint**: np.iinfo, np.finfo, eps)"
      ]
    },
    {
      "cell_type": "code",
      "execution_count": 50,
      "metadata": {
        "id": "oUbUVZNBH3Jk",
        "colab": {
          "base_uri": "https://localhost:8080/"
        },
        "outputId": "12967fc9-1386-4ae7-c3a3-16664423238f"
      },
      "outputs": [
        {
          "output_type": "stream",
          "name": "stdout",
          "text": [
            "-128\n",
            "127\n",
            "-2147483648\n",
            "2147483647\n",
            "-9223372036854775808\n",
            "9223372036854775807\n",
            "-3.4028235e+38\n",
            "3.4028235e+38\n",
            "1.1920929e-07\n",
            "-1.7976931348623157e+308\n",
            "1.7976931348623157e+308\n",
            "2.220446049250313e-16\n"
          ]
        }
      ],
      "source": [
        "for dtype in [np.int8, np.int32, np.int64]:\n",
        "   print(np.iinfo(dtype).min)\n",
        "   print(np.iinfo(dtype).max)\n",
        "for dtype in [np.float32, np.float64]:\n",
        "   print(np.finfo(dtype).min)\n",
        "   print(np.finfo(dtype).max)\n",
        "   print(np.finfo(dtype).eps)"
      ]
    },
    {
      "cell_type": "markdown",
      "metadata": {
        "id": "eXmqB0-FH3Jl"
      },
      "source": [
        "#### 50. How to find the closest value (to a given scalar) in a vector? (★★☆) \n",
        "(**hint**: argmin)"
      ]
    },
    {
      "cell_type": "code",
      "execution_count": 53,
      "metadata": {
        "id": "lg8EhP_HH3Jl",
        "colab": {
          "base_uri": "https://localhost:8080/"
        },
        "outputId": "8b8421ac-0378-4793-fce9-1b93e43af8d3"
      },
      "outputs": [
        {
          "output_type": "stream",
          "name": "stdout",
          "text": [
            "6\n"
          ]
        }
      ],
      "source": [
        "Z = np.arange(100)\n",
        "v = np.random.uniform(0,100)\n",
        "index = (np.abs(Z-v)).argmin()\n",
        "print(Z[index])"
      ]
    },
    {
      "cell_type": "markdown",
      "metadata": {
        "id": "0g5ELYa1H3Jl"
      },
      "source": [
        "#### 51. Create a structured array representing a position (x,y) and a color (r,g,b) (★★☆) \n",
        "(**hint**: dtype)"
      ]
    },
    {
      "cell_type": "code",
      "execution_count": 54,
      "metadata": {
        "id": "s2BonUwLH3Jm",
        "colab": {
          "base_uri": "https://localhost:8080/"
        },
        "outputId": "a0901653-b08e-4e6f-8245-c8eac3b58aba"
      },
      "outputs": [
        {
          "output_type": "stream",
          "name": "stdout",
          "text": [
            "[((0., 0.), (0., 0., 0.)) ((0., 0.), (0., 0., 0.))\n",
            " ((0., 0.), (0., 0., 0.)) ((0., 0.), (0., 0., 0.))\n",
            " ((0., 0.), (0., 0., 0.)) ((0., 0.), (0., 0., 0.))\n",
            " ((0., 0.), (0., 0., 0.)) ((0., 0.), (0., 0., 0.))\n",
            " ((0., 0.), (0., 0., 0.)) ((0., 0.), (0., 0., 0.))]\n"
          ]
        },
        {
          "output_type": "stream",
          "name": "stderr",
          "text": [
            "/usr/local/lib/python3.7/dist-packages/ipykernel_launcher.py:1: FutureWarning: Passing (type, 1) or '1type' as a synonym of type is deprecated; in a future version of numpy, it will be understood as (type, (1,)) / '(1,)type'.\n",
            "  \"\"\"Entry point for launching an IPython kernel.\n"
          ]
        }
      ],
      "source": [
        "Z = np.zeros(10, [ ('position', [ ('x', float, 1), ('y', float, 1)]),('color',    [ ('r', float, 1),('g', float, 1),('b', float, 1)])])                                \n",
        "print(Z)"
      ]
    },
    {
      "cell_type": "markdown",
      "metadata": {
        "id": "rB1m6CqvH3Jm"
      },
      "source": [
        "#### 52. Consider a random vector with shape (100,2) representing coordinates, find point by point distances (★★☆) \n",
        "(**hint**: np.atleast\\_2d, T, np.sqrt)"
      ]
    },
    {
      "cell_type": "code",
      "execution_count": 55,
      "metadata": {
        "id": "7yKYK4xHH3Jm",
        "colab": {
          "base_uri": "https://localhost:8080/"
        },
        "outputId": "ad72568a-1915-45eb-d103-d02f60a78d2b"
      },
      "outputs": [
        {
          "output_type": "stream",
          "name": "stdout",
          "text": [
            "[[0.         0.50371766 0.13254085 0.40920498 0.26039338 0.57896475\n",
            "  0.31482503 0.2233471  0.33517367 0.52272753]\n",
            " [0.50371766 0.         0.57322577 0.49594721 0.42684148 1.0021143\n",
            "  0.72639537 0.57885414 0.31250932 0.10560646]\n",
            " [0.13254085 0.57322577 0.         0.34074286 0.21971854 0.45666516\n",
            "  0.39980976 0.34183848 0.45706042 0.61176199]\n",
            " [0.40920498 0.49594721 0.34074286 0.         0.15395737 0.58727146\n",
            "  0.72216701 0.62612025 0.58117682 0.58359406]\n",
            " [0.26039338 0.42684148 0.21971854 0.15395737 0.         0.58108975\n",
            "  0.57517822 0.47319004 0.44291838 0.49584756]\n",
            " [0.57896475 1.0021143  0.45666516 0.58727146 0.58108975 0.\n",
            "  0.71052066 0.73426746 0.91244147 1.05649648]\n",
            " [0.31482503 0.72639537 0.39980976 0.72216701 0.57517822 0.71052066\n",
            "  0.         0.14822879 0.4439262  0.70337035]\n",
            " [0.2233471  0.57885414 0.34183848 0.62612025 0.47319004 0.73426746\n",
            "  0.14822879 0.         0.29818555 0.55546091]\n",
            " [0.33517367 0.31250932 0.45706042 0.58117682 0.44291838 0.91244147\n",
            "  0.4439262  0.29818555 0.         0.26444809]\n",
            " [0.52272753 0.10560646 0.61176199 0.58359406 0.49584756 1.05649648\n",
            "  0.70337035 0.55546091 0.26444809 0.        ]]\n"
          ]
        }
      ],
      "source": [
        "Z = np.random.random((10,2))\n",
        "X,Y = np.atleast_2d(Z[:,0], Z[:,1])\n",
        "D = np.sqrt( (X-X.T)**2 + (Y-Y.T)**2)\n",
        "print(D)"
      ]
    },
    {
      "cell_type": "markdown",
      "metadata": {
        "id": "2gzdDlxXH3Jn"
      },
      "source": [
        "#### 53. How to convert a float (32 bits) array into an integer (32 bits) in place? \n",
        "(**hint**: astype(copy=False))"
      ]
    },
    {
      "cell_type": "code",
      "execution_count": 56,
      "metadata": {
        "id": "RNaNKjdtH3Jn",
        "colab": {
          "base_uri": "https://localhost:8080/"
        },
        "outputId": "2d4f2c4e-78e6-4892-f052-811b1d100088"
      },
      "outputs": [
        {
          "output_type": "stream",
          "name": "stdout",
          "text": [
            "[0 1 2 3 4 5 6 7 8 9]\n"
          ]
        }
      ],
      "source": [
        "Z = np.arange(10, dtype=np.float32)\n",
        "Z = Z.astype(np.int32, copy=False)\n",
        "print(Z)"
      ]
    },
    {
      "cell_type": "markdown",
      "metadata": {
        "id": "cegWH9pXH3Jn"
      },
      "source": [
        "#### 54. How to read the following file? (★★☆) \n",
        "(**hint**: np.genfromtxt)"
      ]
    },
    {
      "cell_type": "markdown",
      "metadata": {
        "id": "BrVuElIkH3Jo"
      },
      "source": [
        "```\n",
        "1, 2, 3, 4, 5\n",
        "6,  ,  , 7, 8\n",
        " ,  , 9,10,11\n",
        "```"
      ]
    },
    {
      "cell_type": "code",
      "execution_count": 57,
      "metadata": {
        "id": "-dupiTjKH3Jo",
        "colab": {
          "base_uri": "https://localhost:8080/"
        },
        "outputId": "521a7d2d-4681-4d82-c944-41a9e69ef90e"
      },
      "outputs": [
        {
          "output_type": "stream",
          "name": "stdout",
          "text": [
            "[[ 1  2  3  4  5]\n",
            " [ 6 -1 -1  7  8]\n",
            " [-1 -1  9 10 11]]\n"
          ]
        },
        {
          "output_type": "stream",
          "name": "stderr",
          "text": [
            "/usr/local/lib/python3.7/dist-packages/ipykernel_launcher.py:5: DeprecationWarning: `np.int` is a deprecated alias for the builtin `int`. To silence this warning, use `int` by itself. Doing this will not modify any behavior and is safe. When replacing `np.int`, you may wish to use e.g. `np.int64` or `np.int32` to specify the precision. If you wish to review your current use, check the release note link for additional information.\n",
            "Deprecated in NumPy 1.20; for more details and guidance: https://numpy.org/devdocs/release/1.20.0-notes.html#deprecations\n",
            "  \"\"\"\n"
          ]
        }
      ],
      "source": [
        "from io import StringIO\n",
        "s = StringIO(\"\"\"1, 2, 3, 4, 5\\n\n",
        "                6,  ,  , 7, 8\\n\n",
        "                 ,  , 9,10,11\\n\"\"\")\n",
        "Z = np.genfromtxt(s, delimiter=\",\", dtype=np.int)\n",
        "print(Z)"
      ]
    },
    {
      "cell_type": "markdown",
      "metadata": {
        "id": "TyXFFENHH3Jo"
      },
      "source": [
        "#### 55. What is the equivalent of enumerate for numpy arrays? (★★☆) \n",
        "(**hint**: np.ndenumerate, np.ndindex)"
      ]
    },
    {
      "cell_type": "code",
      "execution_count": 58,
      "metadata": {
        "id": "wprFAvMBH3Jp",
        "colab": {
          "base_uri": "https://localhost:8080/"
        },
        "outputId": "0c257301-7195-4863-9fa2-4f72e1838c43"
      },
      "outputs": [
        {
          "output_type": "stream",
          "name": "stdout",
          "text": [
            "(0, 0) 0\n",
            "(0, 1) 1\n",
            "(0, 2) 2\n",
            "(1, 0) 3\n",
            "(1, 1) 4\n",
            "(1, 2) 5\n",
            "(2, 0) 6\n",
            "(2, 1) 7\n",
            "(2, 2) 8\n",
            "(0, 0) 0\n",
            "(0, 1) 1\n",
            "(0, 2) 2\n",
            "(1, 0) 3\n",
            "(1, 1) 4\n",
            "(1, 2) 5\n",
            "(2, 0) 6\n",
            "(2, 1) 7\n",
            "(2, 2) 8\n"
          ]
        }
      ],
      "source": [
        "Z = np.arange(9).reshape(3,3)\n",
        "for index, value in np.ndenumerate(Z):\n",
        "    print(index, value)\n",
        "for index in np.ndindex(Z.shape):\n",
        "    print(index, Z[index])"
      ]
    },
    {
      "cell_type": "markdown",
      "metadata": {
        "id": "uX03bRzjH3Jp"
      },
      "source": [
        "#### 56. Generate a generic 2D Gaussian-like array (★★☆) \n",
        "(**hint**: np.meshgrid, np.exp)"
      ]
    },
    {
      "cell_type": "code",
      "execution_count": 59,
      "metadata": {
        "id": "NcpN2LdKH3Jp",
        "colab": {
          "base_uri": "https://localhost:8080/"
        },
        "outputId": "9f4e939c-a3e2-4b3b-e11b-ee5bf7b058da"
      },
      "outputs": [
        {
          "output_type": "stream",
          "name": "stdout",
          "text": [
            "[[0.36787944 0.44822088 0.51979489 0.57375342 0.60279818 0.60279818\n",
            "  0.57375342 0.51979489 0.44822088 0.36787944]\n",
            " [0.44822088 0.54610814 0.63331324 0.69905581 0.73444367 0.73444367\n",
            "  0.69905581 0.63331324 0.54610814 0.44822088]\n",
            " [0.51979489 0.63331324 0.73444367 0.81068432 0.85172308 0.85172308\n",
            "  0.81068432 0.73444367 0.63331324 0.51979489]\n",
            " [0.57375342 0.69905581 0.81068432 0.89483932 0.9401382  0.9401382\n",
            "  0.89483932 0.81068432 0.69905581 0.57375342]\n",
            " [0.60279818 0.73444367 0.85172308 0.9401382  0.98773022 0.98773022\n",
            "  0.9401382  0.85172308 0.73444367 0.60279818]\n",
            " [0.60279818 0.73444367 0.85172308 0.9401382  0.98773022 0.98773022\n",
            "  0.9401382  0.85172308 0.73444367 0.60279818]\n",
            " [0.57375342 0.69905581 0.81068432 0.89483932 0.9401382  0.9401382\n",
            "  0.89483932 0.81068432 0.69905581 0.57375342]\n",
            " [0.51979489 0.63331324 0.73444367 0.81068432 0.85172308 0.85172308\n",
            "  0.81068432 0.73444367 0.63331324 0.51979489]\n",
            " [0.44822088 0.54610814 0.63331324 0.69905581 0.73444367 0.73444367\n",
            "  0.69905581 0.63331324 0.54610814 0.44822088]\n",
            " [0.36787944 0.44822088 0.51979489 0.57375342 0.60279818 0.60279818\n",
            "  0.57375342 0.51979489 0.44822088 0.36787944]]\n"
          ]
        }
      ],
      "source": [
        "X, Y = np.meshgrid(np.linspace(-1,1,10), np.linspace(-1,1,10))\n",
        "D = np.sqrt(X*X+Y*Y)\n",
        "sigma, mu = 1.0, 0.0\n",
        "G = np.exp(-( (D-mu)**2 / ( 2.0 * sigma**2 ) ) )\n",
        "print(G)"
      ]
    },
    {
      "cell_type": "markdown",
      "metadata": {
        "id": "2uI9sFMdH3Jp"
      },
      "source": [
        "#### 57. How to randomly place p elements in a 2D array? (★★☆) \n",
        "(**hint**: np.put, np.random.choice)"
      ]
    },
    {
      "cell_type": "code",
      "execution_count": 60,
      "metadata": {
        "id": "P1jYREh2H3Jq",
        "colab": {
          "base_uri": "https://localhost:8080/"
        },
        "outputId": "41a99fc3-b843-4c48-a01d-1d99b1cefb47"
      },
      "outputs": [
        {
          "output_type": "stream",
          "name": "stdout",
          "text": [
            "[[0. 0. 0. 0. 0. 0. 0. 0. 0. 0.]\n",
            " [0. 1. 0. 0. 0. 0. 0. 0. 0. 0.]\n",
            " [0. 0. 0. 0. 0. 0. 0. 0. 0. 0.]\n",
            " [0. 0. 0. 0. 0. 0. 0. 1. 0. 0.]\n",
            " [0. 0. 0. 0. 0. 0. 0. 0. 0. 0.]\n",
            " [0. 0. 0. 0. 0. 0. 0. 0. 0. 0.]\n",
            " [0. 0. 0. 0. 0. 0. 1. 0. 0. 0.]\n",
            " [0. 0. 0. 0. 0. 0. 0. 0. 0. 0.]\n",
            " [0. 0. 0. 0. 0. 0. 0. 0. 0. 0.]\n",
            " [0. 0. 0. 0. 0. 0. 0. 0. 0. 0.]]\n"
          ]
        }
      ],
      "source": [
        "n = 10\n",
        "p = 3\n",
        "Z = np.zeros((n,n))\n",
        "np.put(Z, np.random.choice(range(n*n), p, replace=False),1)\n",
        "print(Z)"
      ]
    },
    {
      "cell_type": "markdown",
      "metadata": {
        "id": "5FkL0RrtH3Jr"
      },
      "source": [
        "#### 58. Subtract the mean of each row of a matrix (★★☆) \n",
        "(**hint**: mean(axis=,keepdims=))"
      ]
    },
    {
      "cell_type": "code",
      "execution_count": 61,
      "metadata": {
        "id": "ELy10SCMH3Jr",
        "colab": {
          "base_uri": "https://localhost:8080/"
        },
        "outputId": "d941f9c8-7000-4d23-c97d-157777cb2dab"
      },
      "outputs": [
        {
          "output_type": "stream",
          "name": "stdout",
          "text": [
            "[[ 0.33190068 -0.50049596 -0.22194175  0.09911566  0.43739427  0.06595254\n",
            "  -0.1002882  -0.28979137  0.03459482  0.14355932]\n",
            " [-0.25749478  0.35288188  0.37863643 -0.48236615  0.17780809  0.21875016\n",
            "  -0.02344847  0.17212779 -0.22073735 -0.31615761]\n",
            " [ 0.22314014 -0.07737829 -0.1736991  -0.34823547 -0.04429616  0.4385854\n",
            "   0.39424231  0.08562714 -0.3835101  -0.11447585]\n",
            " [-0.23501512  0.37764891  0.30851045 -0.14321916  0.08606483  0.07313821\n",
            "  -0.1669755  -0.3590135  -0.16743996  0.22630083]\n",
            " [ 0.13829791 -0.1597273  -0.01927312 -0.28624945 -0.31949084  0.04331573\n",
            "  -0.01810029  0.66255562 -0.27140084  0.23007257]]\n"
          ]
        }
      ],
      "source": [
        "X = np.random.rand(5, 10)\n",
        "Y = X - X.mean(axis=1, keepdims=True)\n",
        "print(Y)"
      ]
    },
    {
      "cell_type": "markdown",
      "metadata": {
        "id": "zJWNhq6qH3Js"
      },
      "source": [
        "#### 59. How to sort an array by the nth column? (★★☆) \n",
        "(**hint**: argsort)"
      ]
    },
    {
      "cell_type": "code",
      "execution_count": 63,
      "metadata": {
        "id": "eEj369mWH3Ju",
        "colab": {
          "base_uri": "https://localhost:8080/"
        },
        "outputId": "042c655b-b2e5-4005-e949-2b0db7c7e962"
      },
      "outputs": [
        {
          "output_type": "stream",
          "name": "stdout",
          "text": [
            "[[0 3 5]\n",
            " [5 1 4]\n",
            " [2 2 6]]\n",
            "[[5 1 4]\n",
            " [2 2 6]\n",
            " [0 3 5]]\n"
          ]
        }
      ],
      "source": [
        "Z = np.random.randint(0,10,(3,3))\n",
        "print(Z)\n",
        "print(Z[Z[:,1].argsort()])"
      ]
    },
    {
      "cell_type": "markdown",
      "metadata": {
        "id": "HcJG65IsH3Ju"
      },
      "source": [
        "#### 60. How to tell if a given 2D array has null columns? (★★☆) \n",
        "(**hint**: any, ~)"
      ]
    },
    {
      "cell_type": "code",
      "execution_count": 62,
      "metadata": {
        "id": "hK_xGCppH3Jv",
        "colab": {
          "base_uri": "https://localhost:8080/"
        },
        "outputId": "b5987dd3-84ea-40eb-956d-baa06374b28a"
      },
      "outputs": [
        {
          "output_type": "stream",
          "name": "stdout",
          "text": [
            "False\n"
          ]
        }
      ],
      "source": [
        "Z = np.random.randint(0,3,(3,10))\n",
        "print((~Z.any(axis=0)).any())"
      ]
    },
    {
      "cell_type": "markdown",
      "metadata": {
        "id": "DKo629c4H3Jv"
      },
      "source": [
        "#### 61. Find the nearest value from a given value in an array (★★☆) \n",
        "(**hint**: np.abs, argmin, flat)"
      ]
    },
    {
      "cell_type": "code",
      "execution_count": 64,
      "metadata": {
        "id": "k_ZFhqa0H3Jw",
        "colab": {
          "base_uri": "https://localhost:8080/"
        },
        "outputId": "26783553-e77a-4ef3-def8-ffa42a95c291"
      },
      "outputs": [
        {
          "output_type": "stream",
          "name": "stdout",
          "text": [
            "0.5269868894862499\n"
          ]
        }
      ],
      "source": [
        "Z = np.random.uniform(0,1,10)\n",
        "z = 0.5\n",
        "m = Z.flat[np.abs(Z - z).argmin()]\n",
        "print(m)"
      ]
    },
    {
      "cell_type": "markdown",
      "metadata": {
        "id": "yEIV-oY_H3Jw"
      },
      "source": [
        "#### 62. Considering two arrays with shape (1,3) and (3,1), how to compute their sum using an iterator? (★★☆) \n",
        "(**hint**: np.nditer)"
      ]
    },
    {
      "cell_type": "code",
      "execution_count": 65,
      "metadata": {
        "id": "KQoRNRVuH3Jx",
        "colab": {
          "base_uri": "https://localhost:8080/"
        },
        "outputId": "e4de38ab-7f81-494e-a622-591857664059"
      },
      "outputs": [
        {
          "output_type": "stream",
          "name": "stdout",
          "text": [
            "[[0 1 2]\n",
            " [1 2 3]\n",
            " [2 3 4]]\n"
          ]
        }
      ],
      "source": [
        "A = np.arange(3).reshape(3,1)\n",
        "B = np.arange(3).reshape(1,3)\n",
        "it = np.nditer([A,B,None])\n",
        "for x,y,z in it: z[...] = x + y\n",
        "print(it.operands[2])"
      ]
    },
    {
      "cell_type": "markdown",
      "metadata": {
        "id": "EOMPjaGhH3Jx"
      },
      "source": [
        "#### 63. Create an array class that has a name attribute (★★☆) \n",
        "(**hint**: class method)"
      ]
    },
    {
      "cell_type": "code",
      "execution_count": 66,
      "metadata": {
        "id": "0_d5oBkIH3Jx",
        "colab": {
          "base_uri": "https://localhost:8080/"
        },
        "outputId": "b6c77cb0-34fa-4002-bb54-7325cfcfd395"
      },
      "outputs": [
        {
          "output_type": "stream",
          "name": "stdout",
          "text": [
            "range_10\n"
          ]
        }
      ],
      "source": [
        "class NamedArray(np.ndarray):\n",
        "    def __new__(cls, array, name=\"no name\"):\n",
        "        obj = np.asarray(array).view(cls)\n",
        "        obj.name = name\n",
        "        return obj\n",
        "    def __array_finalize__(self, obj):\n",
        "        if obj is None: return\n",
        "        self.info = getattr(obj, 'name', \"no name\")\n",
        "\n",
        "Z = NamedArray(np.arange(10), \"range_10\")\n",
        "print (Z.name)"
      ]
    },
    {
      "cell_type": "markdown",
      "metadata": {
        "id": "zANJdZDZH3Jx"
      },
      "source": [
        "#### 64. Consider a given vector, how to add 1 to each element indexed by a second vector (be careful with repeated indices)? (★★★) \n",
        "(**hint**: np.bincount | np.add.at)"
      ]
    },
    {
      "cell_type": "code",
      "execution_count": 67,
      "metadata": {
        "id": "7cN3YEsNH3Jy",
        "colab": {
          "base_uri": "https://localhost:8080/"
        },
        "outputId": "958a08e8-99d9-481a-a3e0-f326f723748a"
      },
      "outputs": [
        {
          "output_type": "stream",
          "name": "stdout",
          "text": [
            "[2. 3. 4. 2. 3. 2. 4. 3. 4. 3.]\n",
            "[3. 5. 7. 3. 5. 3. 7. 5. 7. 5.]\n"
          ]
        }
      ],
      "source": [
        "Z = np.ones(10)\n",
        "I = np.random.randint(0,len(Z),20)\n",
        "Z += np.bincount(I, minlength=len(Z))\n",
        "print(Z)\n",
        "np.add.at(Z, I, 1)\n",
        "print(Z)\n"
      ]
    },
    {
      "cell_type": "markdown",
      "metadata": {
        "id": "SdtrgGx1H3Jy"
      },
      "source": [
        "#### 65. How to accumulate elements of a vector (X) to an array (F) based on an index list (I)? (★★★) \n",
        "(**hint**: np.bincount)"
      ]
    },
    {
      "cell_type": "code",
      "execution_count": 68,
      "metadata": {
        "id": "c2JxLUVeH3Jy",
        "colab": {
          "base_uri": "https://localhost:8080/"
        },
        "outputId": "60ffca90-9762-417c-e1b8-b91df7a37caf"
      },
      "outputs": [
        {
          "output_type": "stream",
          "name": "stdout",
          "text": [
            "[0. 7. 0. 6. 5. 0. 0. 0. 0. 3.]\n"
          ]
        }
      ],
      "source": [
        "X = [1,2,3,4,5,6]\n",
        "I = [1,3,9,3,4,1]\n",
        "F = np.bincount(I,X)\n",
        "print(F)"
      ]
    },
    {
      "cell_type": "markdown",
      "metadata": {
        "id": "lB7pqY6kH3Jz"
      },
      "source": [
        "#### 66. Considering a (w,h,3) image of (dtype=ubyte), compute the number of unique colors (★★★) \n",
        "(**hint**: np.unique)"
      ]
    },
    {
      "cell_type": "code",
      "execution_count": 69,
      "metadata": {
        "id": "aUTJD8CfH3Jz",
        "colab": {
          "base_uri": "https://localhost:8080/"
        },
        "outputId": "933ed3e3-2e83-449f-d817-920fb5e9cb59"
      },
      "outputs": [
        {
          "output_type": "stream",
          "name": "stdout",
          "text": [
            "8\n"
          ]
        }
      ],
      "source": [
        "w,h = 16,16\n",
        "I = np.random.randint(0,2,(h,w,3)).astype(np.ubyte)\n",
        "F = I[...,0]*(256*256) + I[...,1]*256 +I[...,2]\n",
        "n = len(np.unique(F))\n",
        "print(n)"
      ]
    },
    {
      "cell_type": "markdown",
      "metadata": {
        "id": "mqpJZn_zH3Jz"
      },
      "source": [
        "#### 67. Considering a four dimensions array, how to get sum over the last two axis at once? (★★★) \n",
        "(**hint**: sum(axis=(-2,-1)))"
      ]
    },
    {
      "cell_type": "code",
      "execution_count": 70,
      "metadata": {
        "id": "woHFMvdhH3Jz",
        "colab": {
          "base_uri": "https://localhost:8080/"
        },
        "outputId": "7909b556-843d-41a0-bc14-9c8a498a7af8"
      },
      "outputs": [
        {
          "output_type": "stream",
          "name": "stdout",
          "text": [
            "[[57 68 56 29]\n",
            " [51 56 44 52]\n",
            " [43 53 57 58]]\n",
            "[[57 68 56 29]\n",
            " [51 56 44 52]\n",
            " [43 53 57 58]]\n"
          ]
        }
      ],
      "source": [
        "A = np.random.randint(0,10,(3,4,3,4))\n",
        "sum = A.sum(axis=(-2,-1))\n",
        "print(sum)\n",
        "sum = A.reshape(A.shape[:-2] + (-1,)).sum(axis=-1)\n",
        "print(sum)"
      ]
    },
    {
      "cell_type": "markdown",
      "metadata": {
        "id": "MfNxZmWIH3J0"
      },
      "source": [
        "#### 68. Considering a one-dimensional vector D, how to compute means of subsets of D using a vector S of same size describing subset  indices? (★★★) \n",
        "(**hint**: np.bincount)"
      ]
    },
    {
      "cell_type": "code",
      "execution_count": 71,
      "metadata": {
        "id": "tZXqL3TEH3J0",
        "colab": {
          "base_uri": "https://localhost:8080/"
        },
        "outputId": "bfa0e81c-bebe-4633-8b4e-5ba7e52b4735"
      },
      "outputs": [
        {
          "output_type": "stream",
          "name": "stdout",
          "text": [
            "[0.61577954 0.56397106 0.42677241 0.50204307 0.4314035  0.41327256\n",
            " 0.48596756 0.49916334 0.44450447 0.53998875]\n",
            "0    0.615780\n",
            "1    0.563971\n",
            "2    0.426772\n",
            "3    0.502043\n",
            "4    0.431403\n",
            "5    0.413273\n",
            "6    0.485968\n",
            "7    0.499163\n",
            "8    0.444504\n",
            "9    0.539989\n",
            "dtype: float64\n"
          ]
        }
      ],
      "source": [
        "D = np.random.uniform(0,1,100)\n",
        "S = np.random.randint(0,10,100)\n",
        "D_sums = np.bincount(S, weights=D)\n",
        "D_counts = np.bincount(S)\n",
        "D_means = D_sums / D_counts\n",
        "print(D_means)\n",
        "import pandas as pd\n",
        "print(pd.Series(D).groupby(S).mean())"
      ]
    },
    {
      "cell_type": "markdown",
      "metadata": {
        "id": "IxCRrZBbH3J0"
      },
      "source": [
        "#### 69. How to get the diagonal of a dot product? (★★★) \n",
        "(**hint**: np.diag)"
      ]
    },
    {
      "cell_type": "code",
      "execution_count": 72,
      "metadata": {
        "id": "-reXb5tVH3J1",
        "colab": {
          "base_uri": "https://localhost:8080/"
        },
        "outputId": "c1b64924-03e9-438a-c46d-ff74c95ece61"
      },
      "outputs": [
        {
          "output_type": "execute_result",
          "data": {
            "text/plain": [
              "array([2.20193018, 1.54709161, 1.06978315, 1.4787997 , 1.59711098])"
            ]
          },
          "metadata": {},
          "execution_count": 72
        }
      ],
      "source": [
        "A = np.random.uniform(0,1,(5,5))\n",
        "B = np.random.uniform(0,1,(5,5))\n",
        "np.diag(np.dot(A, B))\n",
        "np.sum(A * B.T, axis=1)\n",
        "np.einsum(\"ij,ji->i\", A, B)\n"
      ]
    },
    {
      "cell_type": "markdown",
      "metadata": {
        "id": "n2OAMUHfH3J1"
      },
      "source": [
        "#### 70. Consider the vector \\[1, 2, 3, 4, 5\\], how to build a new vector with 3 consecutive zeros interleaved between each value? (★★★) \n",
        "(**hint**: array\\[::4\\])"
      ]
    },
    {
      "cell_type": "code",
      "execution_count": 73,
      "metadata": {
        "id": "AyNTCABBH3J1",
        "colab": {
          "base_uri": "https://localhost:8080/"
        },
        "outputId": "1a16eba5-0977-439c-f84d-6dc63468fdb3"
      },
      "outputs": [
        {
          "output_type": "stream",
          "name": "stdout",
          "text": [
            "[1. 0. 0. 0. 2. 0. 0. 0. 3. 0. 0. 0. 4. 0. 0. 0. 5.]\n"
          ]
        }
      ],
      "source": [
        "Z = np.array([1,2,3,4,5])\n",
        "nz = 3\n",
        "Z0 = np.zeros(len(Z) + (len(Z)-1)*(nz))\n",
        "Z0[::nz+1] = Z\n",
        "print(Z0)"
      ]
    },
    {
      "cell_type": "markdown",
      "metadata": {
        "id": "uMpJC07zH3J2"
      },
      "source": [
        "#### 71. Consider an array of dimension (5,5,3), how to mulitply it by an array with dimensions (5,5)? (★★★) \n",
        "(**hint**: array\\[:, :, None\\])"
      ]
    },
    {
      "cell_type": "code",
      "execution_count": 74,
      "metadata": {
        "collapsed": true,
        "id": "nJa2z2hVH3J2",
        "colab": {
          "base_uri": "https://localhost:8080/"
        },
        "outputId": "28a85cbb-8b0e-4fe6-8976-a503506b9951"
      },
      "outputs": [
        {
          "output_type": "stream",
          "name": "stdout",
          "text": [
            "[[[2. 2. 2.]\n",
            "  [2. 2. 2.]\n",
            "  [2. 2. 2.]\n",
            "  [2. 2. 2.]\n",
            "  [2. 2. 2.]]\n",
            "\n",
            " [[2. 2. 2.]\n",
            "  [2. 2. 2.]\n",
            "  [2. 2. 2.]\n",
            "  [2. 2. 2.]\n",
            "  [2. 2. 2.]]\n",
            "\n",
            " [[2. 2. 2.]\n",
            "  [2. 2. 2.]\n",
            "  [2. 2. 2.]\n",
            "  [2. 2. 2.]\n",
            "  [2. 2. 2.]]\n",
            "\n",
            " [[2. 2. 2.]\n",
            "  [2. 2. 2.]\n",
            "  [2. 2. 2.]\n",
            "  [2. 2. 2.]\n",
            "  [2. 2. 2.]]\n",
            "\n",
            " [[2. 2. 2.]\n",
            "  [2. 2. 2.]\n",
            "  [2. 2. 2.]\n",
            "  [2. 2. 2.]\n",
            "  [2. 2. 2.]]]\n"
          ]
        }
      ],
      "source": [
        "A = np.ones((5,5,3))\n",
        "B = 2*np.ones((5,5))\n",
        "print(A * B[:,:,None])"
      ]
    },
    {
      "cell_type": "markdown",
      "metadata": {
        "id": "OpRuoq_TH3J2"
      },
      "source": [
        "#### 72. How to swap two rows of an array? (★★★) \n",
        "(**hint**: array\\[\\[\\]\\] = array\\[\\[\\]\\])"
      ]
    },
    {
      "cell_type": "code",
      "execution_count": 76,
      "metadata": {
        "id": "lniNjwmBH3J3",
        "colab": {
          "base_uri": "https://localhost:8080/"
        },
        "outputId": "0cee7bee-a70d-489b-f07b-fff9f8825084"
      },
      "outputs": [
        {
          "output_type": "stream",
          "name": "stdout",
          "text": [
            "[[ 5  6  7  8  9]\n",
            " [ 0  1  2  3  4]\n",
            " [10 11 12 13 14]\n",
            " [15 16 17 18 19]\n",
            " [20 21 22 23 24]]\n"
          ]
        }
      ],
      "source": [
        "A = np.arange(25).reshape(5,5)\n",
        "A[[0,1]] = A[[1,0]]\n",
        "print(A)"
      ]
    },
    {
      "cell_type": "markdown",
      "metadata": {
        "id": "yQvgvPGBH3J3"
      },
      "source": [
        "#### 73. Consider a set of 10 triplets describing 10 triangles (with shared vertices), find the set of unique line segments composing all the  triangles (★★★) \n",
        "(**hint**: repeat, np.roll, np.sort, view, np.unique)"
      ]
    },
    {
      "cell_type": "code",
      "execution_count": 77,
      "metadata": {
        "id": "SGN4WF5AH3J3",
        "colab": {
          "base_uri": "https://localhost:8080/"
        },
        "outputId": "672f2a62-ca0c-4ca6-967d-4cd2b6aaeaca"
      },
      "outputs": [
        {
          "output_type": "stream",
          "name": "stdout",
          "text": [
            "[( 3, 34) ( 3, 63) ( 6, 37) ( 6, 70) ( 7, 17) ( 7, 39) ( 7, 63) ( 7, 65)\n",
            " (10, 70) (10, 74) (17, 63) (18, 51) (18, 87) (33, 40) (33, 74) (34, 63)\n",
            " (37, 70) (39, 65) (40, 74) (43, 66) (43, 87) (51, 87) (53, 79) (53, 86)\n",
            " (66, 87) (70, 74) (76, 89) (76, 90) (79, 86) (89, 90)]\n"
          ]
        }
      ],
      "source": [
        "faces = np.random.randint(0,100,(10,3))\n",
        "F = np.roll(faces.repeat(2,axis=1),-1,axis=1)\n",
        "F = F.reshape(len(F)*3,2)\n",
        "F = np.sort(F,axis=1)\n",
        "G = F.view( dtype=[('p0',F.dtype),('p1',F.dtype)] )\n",
        "G = np.unique(G)\n",
        "print(G)"
      ]
    },
    {
      "cell_type": "markdown",
      "metadata": {
        "id": "8BnrvwYNH3J4"
      },
      "source": [
        "#### 74. Given an array C that is a bincount, how to produce an array A such that np.bincount(A) == C? (★★★) \n",
        "(**hint**: np.repeat)"
      ]
    },
    {
      "cell_type": "code",
      "execution_count": 78,
      "metadata": {
        "id": "sHkgxe_9H3J4",
        "colab": {
          "base_uri": "https://localhost:8080/"
        },
        "outputId": "dcf0a264-dc6f-40b6-ecc5-3b8bba3560fc"
      },
      "outputs": [
        {
          "output_type": "stream",
          "name": "stdout",
          "text": [
            "[1 1 2 3 4 4 6]\n"
          ]
        }
      ],
      "source": [
        "C = np.bincount([1,1,2,3,4,4,6])\n",
        "A = np.repeat(np.arange(len(C)), C)\n",
        "print(A)"
      ]
    },
    {
      "cell_type": "markdown",
      "metadata": {
        "id": "FgEHv27PH3J4"
      },
      "source": [
        "#### 75. How to compute averages using a sliding window over an array? (★★★) \n",
        "(**hint**: np.cumsum)"
      ]
    },
    {
      "cell_type": "code",
      "execution_count": 79,
      "metadata": {
        "id": "kz3avvVZH3J5",
        "colab": {
          "base_uri": "https://localhost:8080/"
        },
        "outputId": "b71c42a9-f8e1-4c5b-f042-44ab54f157f7"
      },
      "outputs": [
        {
          "output_type": "stream",
          "name": "stdout",
          "text": [
            "[ 1.  2.  3.  4.  5.  6.  7.  8.  9. 10. 11. 12. 13. 14. 15. 16. 17. 18.]\n"
          ]
        }
      ],
      "source": [
        "def moving_average(a, n=3) :\n",
        "    ret = np.cumsum(a, dtype=float)\n",
        "    ret[n:] = ret[n:] - ret[:-n]\n",
        "    return ret[n - 1:] / n\n",
        "Z = np.arange(20)\n",
        "print(moving_average(Z, n=3))"
      ]
    },
    {
      "cell_type": "markdown",
      "metadata": {
        "id": "u0HvNU02H3J5"
      },
      "source": [
        "#### 76. Consider a one-dimensional array Z, build a two-dimensional array whose first row is (Z\\[0\\],Z\\[1\\],Z\\[2\\]) and each subsequent row is  shifted by 1 (last row should be (Z\\[-3\\],Z\\[-2\\],Z\\[-1\\]) (★★★) \n",
        "(**hint**: from numpy.lib import stride_tricks)"
      ]
    },
    {
      "cell_type": "code",
      "execution_count": 80,
      "metadata": {
        "id": "JqVXIHh8H3J5",
        "colab": {
          "base_uri": "https://localhost:8080/"
        },
        "outputId": "969dab22-49ee-4ca3-cb9b-77e039a5335a"
      },
      "outputs": [
        {
          "output_type": "stream",
          "name": "stdout",
          "text": [
            "[[0 1 2]\n",
            " [1 2 3]\n",
            " [2 3 4]\n",
            " [3 4 5]\n",
            " [4 5 6]\n",
            " [5 6 7]\n",
            " [6 7 8]\n",
            " [7 8 9]]\n"
          ]
        }
      ],
      "source": [
        "from numpy.lib import stride_tricks\n",
        "\n",
        "def rolling(a, window):\n",
        "    shape = (a.size - window + 1, window)\n",
        "    strides = (a.itemsize, a.itemsize)\n",
        "    return stride_tricks.as_strided(a, shape=shape, strides=strides)\n",
        "Z = rolling(np.arange(10), 3)\n",
        "print(Z)"
      ]
    },
    {
      "cell_type": "markdown",
      "metadata": {
        "id": "YPKspdwHH3J6"
      },
      "source": [
        "#### 77. How to negate a boolean, or to change the sign of a float inplace? (★★★) \n",
        "(**hint**: np.logical_not, np.negative)"
      ]
    },
    {
      "cell_type": "code",
      "execution_count": 81,
      "metadata": {
        "id": "u4sn1Q83H3J6",
        "colab": {
          "base_uri": "https://localhost:8080/"
        },
        "outputId": "50cf009f-b8dc-4413-819a-c1c0f56f6337"
      },
      "outputs": [
        {
          "output_type": "execute_result",
          "data": {
            "text/plain": [
              "array([-0.82132368,  0.73693298,  0.49982125,  0.16423017,  0.13569372,\n",
              "       -0.73003798,  0.28320835, -0.11650257, -0.45649549,  0.90115731,\n",
              "        0.81738752,  0.38658557, -0.08945648, -0.44799125,  0.74010897,\n",
              "       -0.7755627 , -0.81913869,  0.73576679,  0.01140808, -0.06818037,\n",
              "       -0.14914834,  0.56901808,  0.41257086,  0.51491218, -0.87186279,\n",
              "        0.94037818, -0.71335843, -0.07413174,  0.91887253, -0.84047899,\n",
              "        0.81410135,  0.90600438, -0.9176023 , -0.23174402,  0.07671965,\n",
              "       -0.26650594,  0.65205139, -0.67785932,  0.45808493, -0.33869611,\n",
              "        0.02796592, -0.10343488, -0.3325083 , -0.27004063, -0.21085685,\n",
              "       -0.61999497,  0.24582514,  0.14913197,  0.84467166,  0.28354852,\n",
              "        0.65638601,  0.79774781, -0.41567654,  0.85980639,  0.17653695,\n",
              "       -0.72957414,  0.92023853,  0.73272091,  0.58471846,  0.01798203,\n",
              "       -0.09789109,  0.98649441,  0.46886683, -0.06535903, -0.23505758,\n",
              "       -0.61946959, -0.46227127, -0.16010017, -0.74060837, -0.78508587,\n",
              "        0.00845652,  0.86329776, -0.16547837,  0.2815616 , -0.27314708,\n",
              "       -0.11734443,  0.91694996, -0.01108568, -0.65247574,  0.14996586,\n",
              "       -0.60152158,  0.43945415, -0.91288625, -0.7758683 , -0.79015715,\n",
              "       -0.33739358,  0.06359397, -0.67108595, -0.72736623, -0.17617202,\n",
              "        0.81882678,  0.12446911,  0.79636853, -0.75390171,  0.23466574,\n",
              "        0.14118731, -0.19206801,  0.89587333, -0.07097458, -0.16951459])"
            ]
          },
          "metadata": {},
          "execution_count": 81
        }
      ],
      "source": [
        "Z = np.random.randint(0,2,100)\n",
        "np.logical_not(Z, out=Z)\n",
        "\n",
        "Z = np.random.uniform(-1.0,1.0,100)\n",
        "np.negative(Z, out=Z)"
      ]
    },
    {
      "cell_type": "markdown",
      "metadata": {
        "id": "Uj9HB7j6H3J7"
      },
      "source": [
        "#### 78. Consider 2 sets of points P0,P1 describing lines (2d) and a point p, how to compute distance from p to each line i  (P0\\[i\\],P1\\[i\\])? (★★★)"
      ]
    },
    {
      "cell_type": "code",
      "execution_count": 82,
      "metadata": {
        "id": "oORhjg71H3J9",
        "colab": {
          "base_uri": "https://localhost:8080/"
        },
        "outputId": "9752b767-197e-489a-bdd8-ce2b2ef3aaca"
      },
      "outputs": [
        {
          "output_type": "stream",
          "name": "stdout",
          "text": [
            "[ 1.83554739  5.19045559  4.77899298 11.19683685  6.36886453  6.61411188\n",
            "  6.02133097  0.86119029  5.37849421  8.96293196]\n"
          ]
        }
      ],
      "source": [
        "def distance(P0, P1, p):\n",
        "    T = P1 - P0\n",
        "    L = (T**2).sum(axis=1)\n",
        "    U = -((P0[:,0]-p[...,0])*T[:,0] + (P0[:,1]-p[...,1])*T[:,1]) / L\n",
        "    U = U.reshape(len(U),1)\n",
        "    D = P0 + U*T - p\n",
        "    return np.sqrt((D**2).sum(axis=1))\n",
        "\n",
        "P0 = np.random.uniform(-10,10,(10,2))\n",
        "P1 = np.random.uniform(-10,10,(10,2))\n",
        "p  = np.random.uniform(-10,10,( 1,2))\n",
        "print(distance(P0, P1, p))"
      ]
    },
    {
      "cell_type": "markdown",
      "metadata": {
        "id": "z47jBrRiH3J-"
      },
      "source": [
        "#### 79. Consider 2 sets of points P0,P1 describing lines (2d) and a set of points P, how to compute distance from each point j (P\\[j\\]) to each line i (P0\\[i\\],P1\\[i\\])? (★★★)"
      ]
    },
    {
      "cell_type": "code",
      "execution_count": 83,
      "metadata": {
        "id": "dFM2Xtt2H3J-",
        "colab": {
          "base_uri": "https://localhost:8080/"
        },
        "outputId": "e458eb9c-c577-43df-dff1-1d475f177cc7"
      },
      "outputs": [
        {
          "output_type": "stream",
          "name": "stdout",
          "text": [
            "[[ 7.84076535  3.09868407  0.52649579  0.88972113  0.18690334 12.63094727\n",
            "   3.31324953  8.65997131  6.9047711   5.12604941]\n",
            " [ 5.45755251  4.46968761  2.60765622  0.58428251  2.03871273  9.98291945\n",
            "   3.14668079  7.36396515  4.6192447   3.57919094]\n",
            " [ 3.29388841  7.48551379  5.19098849  1.31894621  4.81950402  8.81811657\n",
            "   0.15482138  9.45289809  5.27640128  5.39997195]\n",
            " [ 3.07339724  0.60292807  2.6373652  11.64581487  0.63912936  3.66852711\n",
            "  11.38155779  3.59079095  5.74778947  7.5070026 ]\n",
            " [ 7.55872992  2.73125367  0.56526703  0.2541134   0.07720805 11.94694936\n",
            "   4.14306776  7.52999271  5.81721475  3.97846914]\n",
            " [ 3.6324536   0.54617292  2.25293051 10.81531204  0.36916221  4.47502769\n",
            "  10.99583924  2.79843833  4.80308164  6.66184761]\n",
            " [ 6.05788974  1.10649157  0.90107216  5.73610688  0.30134244  8.53834046\n",
            "   8.02882961  2.12623101  0.53966262  1.52649971]\n",
            " [ 2.46576094  5.43950844  4.92592381  3.8096581   3.89697827  6.13300607\n",
            "   4.14253023  4.35181587  0.59115647  0.26927239]\n",
            " [ 9.71728306  4.40806516  3.63026476  9.71254275  5.26144728 10.21874908\n",
            "  13.75279319  2.16991852  1.21027413  5.3596819 ]\n",
            " [ 8.69567819  4.64318588  3.06050787 11.85030203  4.97847629  8.50788443\n",
            "  15.00108696  4.24257451  3.45929267  7.52109693]]\n"
          ]
        }
      ],
      "source": [
        "P0 = np.random.uniform(-10, 10, (10,2))\n",
        "P1 = np.random.uniform(-10,10,(10,2))\n",
        "p = np.random.uniform(-10, 10, (10,2))\n",
        "print(np.array([distance(P0,P1,p_i) for p_i in p]))"
      ]
    },
    {
      "cell_type": "markdown",
      "metadata": {
        "id": "vfonVFmtH3J_"
      },
      "source": [
        "#### 80. Consider an arbitrary array, write a function that extract a subpart with a fixed shape and centered on a given element (pad with a `fill` value when necessary) (★★★) \n",
        "(**hint**: minimum, maximum)"
      ]
    },
    {
      "cell_type": "code",
      "execution_count": 84,
      "metadata": {
        "id": "r0swBnFPH3J_",
        "colab": {
          "base_uri": "https://localhost:8080/"
        },
        "outputId": "780a25bd-a88f-41ec-fd41-bbbbabc0a0b9"
      },
      "outputs": [
        {
          "output_type": "stream",
          "name": "stdout",
          "text": [
            "[[7 7 3 7 1 5 0 4 9 7]\n",
            " [1 4 9 6 0 5 2 5 1 6]\n",
            " [7 2 9 2 0 4 0 6 7 8]\n",
            " [6 7 5 6 2 2 0 2 0 0]\n",
            " [2 1 7 9 3 9 8 2 0 0]\n",
            " [5 2 1 7 1 1 9 0 5 7]\n",
            " [0 7 0 7 3 9 5 9 1 4]\n",
            " [6 1 9 8 7 7 9 4 7 7]\n",
            " [0 4 3 9 5 8 3 4 0 9]\n",
            " [1 2 5 0 8 6 7 3 0 6]]\n",
            "[[0 0 0 0 0]\n",
            " [0 7 7 3 7]\n",
            " [0 1 4 9 6]\n",
            " [0 7 2 9 2]\n",
            " [0 6 7 5 6]]\n"
          ]
        },
        {
          "output_type": "stream",
          "name": "stderr",
          "text": [
            "/usr/local/lib/python3.7/dist-packages/ipykernel_launcher.py:23: FutureWarning: Using a non-tuple sequence for multidimensional indexing is deprecated; use `arr[tuple(seq)]` instead of `arr[seq]`. In the future this will be interpreted as an array index, `arr[np.array(seq)]`, which will result either in an error or a different result.\n"
          ]
        }
      ],
      "source": [
        "Z = np.random.randint(0,10,(10,10))\n",
        "shape = (5,5)\n",
        "fill  = 0\n",
        "position = (1,1)\n",
        "\n",
        "R = np.ones(shape, dtype=Z.dtype)*fill\n",
        "P  = np.array(list(position)).astype(int)\n",
        "Rs = np.array(list(R.shape)).astype(int)\n",
        "Zs = np.array(list(Z.shape)).astype(int)\n",
        "\n",
        "R_start = np.zeros((len(shape),)).astype(int)\n",
        "R_stop  = np.array(list(shape)).astype(int)\n",
        "Z_start = (P-Rs//2)\n",
        "Z_stop  = (P+Rs//2)+Rs%2\n",
        "\n",
        "R_start = (R_start - np.minimum(Z_start,0)).tolist()\n",
        "Z_start = (np.maximum(Z_start,0)).tolist()\n",
        "R_stop = np.maximum(R_start, (R_stop - np.maximum(Z_stop-Zs,0))).tolist()\n",
        "Z_stop = (np.minimum(Z_stop,Zs)).tolist()\n",
        "\n",
        "r = [slice(start,stop) for start,stop in zip(R_start,R_stop)]\n",
        "z = [slice(start,stop) for start,stop in zip(Z_start,Z_stop)]\n",
        "R[r] = Z[z]\n",
        "print(Z)\n",
        "print(R)"
      ]
    },
    {
      "cell_type": "markdown",
      "metadata": {
        "id": "eAhXjyl6H3J_"
      },
      "source": [
        "#### 81. Consider an array Z = \\[1,2,3,4,5,6,7,8,9,10,11,12,13,14\\], how to generate an array R = \\[\\[1,2,3,4\\], \\[2,3,4,5\\], \\[3,4,5,6\\], ..., \\[11,12,13,14\\]\\]? (★★★) \n",
        "(**hint**: stride\\_tricks.as\\_strided)"
      ]
    },
    {
      "cell_type": "code",
      "execution_count": 85,
      "metadata": {
        "id": "8IFoPWuzH3J_",
        "colab": {
          "base_uri": "https://localhost:8080/"
        },
        "outputId": "09469644-ced5-4b0b-9edc-3bfee33d207d"
      },
      "outputs": [
        {
          "output_type": "stream",
          "name": "stdout",
          "text": [
            "[[ 1  2  3  4]\n",
            " [ 2  3  4  5]\n",
            " [ 3  4  5  6]\n",
            " [ 4  5  6  7]\n",
            " [ 5  6  7  8]\n",
            " [ 6  7  8  9]\n",
            " [ 7  8  9 10]\n",
            " [ 8  9 10 11]\n",
            " [ 9 10 11 12]\n",
            " [10 11 12 13]\n",
            " [11 12 13 14]]\n"
          ]
        }
      ],
      "source": [
        "Z = np.arange(1,15,dtype=np.uint32)\n",
        "R = stride_tricks.as_strided(Z,(11,4),(4,4))\n",
        "print(R)"
      ]
    },
    {
      "cell_type": "markdown",
      "metadata": {
        "id": "fyf18yLsH3KA"
      },
      "source": [
        "#### 82. Compute a matrix rank (★★★) \n",
        "(**hint**: np.linalg.svd) (suggestion: np.linalg.svd)"
      ]
    },
    {
      "cell_type": "code",
      "execution_count": 86,
      "metadata": {
        "id": "5l33h3rVH3KA",
        "colab": {
          "base_uri": "https://localhost:8080/"
        },
        "outputId": "dacbf456-f8b8-4609-8c0c-24e72a5d419c"
      },
      "outputs": [
        {
          "output_type": "stream",
          "name": "stdout",
          "text": [
            "10\n"
          ]
        }
      ],
      "source": [
        "Z = np.random.uniform(0,1,(10,10))\n",
        "U, S, V = np.linalg.svd(Z) # Singular Value Decomposition\n",
        "rank = np.sum(S > 1e-10)\n",
        "print(rank)"
      ]
    },
    {
      "cell_type": "markdown",
      "metadata": {
        "id": "4ad5nobnH3KB"
      },
      "source": [
        "#### 83. How to find the most frequent value in an array? \n",
        "(**hint**: np.bincount, argmax)"
      ]
    },
    {
      "cell_type": "code",
      "execution_count": 87,
      "metadata": {
        "id": "fYVoURmQH3KB",
        "colab": {
          "base_uri": "https://localhost:8080/"
        },
        "outputId": "0af34a81-c71c-4ff2-e50e-8a2b89515b82"
      },
      "outputs": [
        {
          "output_type": "stream",
          "name": "stdout",
          "text": [
            "5\n"
          ]
        }
      ],
      "source": [
        "Z = np.random.randint(0,10,50)\n",
        "print(np.bincount(Z).argmax())"
      ]
    },
    {
      "cell_type": "markdown",
      "metadata": {
        "id": "XrLnspB7H3KB"
      },
      "source": [
        "#### 84. Extract all the contiguous 3x3 blocks from a random 10x10 matrix (★★★) \n",
        "(**hint**: stride\\_tricks.as\\_strided)"
      ]
    },
    {
      "cell_type": "code",
      "execution_count": 88,
      "metadata": {
        "id": "MfL43BbKH3KB",
        "colab": {
          "base_uri": "https://localhost:8080/"
        },
        "outputId": "85e946c9-a761-4475-8845-ed40a2ffc3ea"
      },
      "outputs": [
        {
          "output_type": "stream",
          "name": "stdout",
          "text": [
            "[[[[4 3 4]\n",
            "   [2 0 0]\n",
            "   [1 4 3]]\n",
            "\n",
            "  [[3 4 0]\n",
            "   [0 0 3]\n",
            "   [4 3 2]]\n",
            "\n",
            "  [[4 0 0]\n",
            "   [0 3 4]\n",
            "   [3 2 3]]\n",
            "\n",
            "  [[0 0 0]\n",
            "   [3 4 4]\n",
            "   [2 3 4]]\n",
            "\n",
            "  [[0 0 4]\n",
            "   [4 4 0]\n",
            "   [3 4 0]]\n",
            "\n",
            "  [[0 4 2]\n",
            "   [4 0 4]\n",
            "   [4 0 4]]\n",
            "\n",
            "  [[4 2 2]\n",
            "   [0 4 2]\n",
            "   [0 4 0]]\n",
            "\n",
            "  [[2 2 2]\n",
            "   [4 2 3]\n",
            "   [4 0 3]]]\n",
            "\n",
            "\n",
            " [[[2 0 0]\n",
            "   [1 4 3]\n",
            "   [0 3 2]]\n",
            "\n",
            "  [[0 0 3]\n",
            "   [4 3 2]\n",
            "   [3 2 2]]\n",
            "\n",
            "  [[0 3 4]\n",
            "   [3 2 3]\n",
            "   [2 2 4]]\n",
            "\n",
            "  [[3 4 4]\n",
            "   [2 3 4]\n",
            "   [2 4 0]]\n",
            "\n",
            "  [[4 4 0]\n",
            "   [3 4 0]\n",
            "   [4 0 0]]\n",
            "\n",
            "  [[4 0 4]\n",
            "   [4 0 4]\n",
            "   [0 0 1]]\n",
            "\n",
            "  [[0 4 2]\n",
            "   [0 4 0]\n",
            "   [0 1 1]]\n",
            "\n",
            "  [[4 2 3]\n",
            "   [4 0 3]\n",
            "   [1 1 0]]]\n",
            "\n",
            "\n",
            " [[[1 4 3]\n",
            "   [0 3 2]\n",
            "   [3 2 0]]\n",
            "\n",
            "  [[4 3 2]\n",
            "   [3 2 2]\n",
            "   [2 0 0]]\n",
            "\n",
            "  [[3 2 3]\n",
            "   [2 2 4]\n",
            "   [0 0 3]]\n",
            "\n",
            "  [[2 3 4]\n",
            "   [2 4 0]\n",
            "   [0 3 4]]\n",
            "\n",
            "  [[3 4 0]\n",
            "   [4 0 0]\n",
            "   [3 4 0]]\n",
            "\n",
            "  [[4 0 4]\n",
            "   [0 0 1]\n",
            "   [4 0 1]]\n",
            "\n",
            "  [[0 4 0]\n",
            "   [0 1 1]\n",
            "   [0 1 1]]\n",
            "\n",
            "  [[4 0 3]\n",
            "   [1 1 0]\n",
            "   [1 1 2]]]\n",
            "\n",
            "\n",
            " [[[0 3 2]\n",
            "   [3 2 0]\n",
            "   [1 4 2]]\n",
            "\n",
            "  [[3 2 2]\n",
            "   [2 0 0]\n",
            "   [4 2 1]]\n",
            "\n",
            "  [[2 2 4]\n",
            "   [0 0 3]\n",
            "   [2 1 1]]\n",
            "\n",
            "  [[2 4 0]\n",
            "   [0 3 4]\n",
            "   [1 1 3]]\n",
            "\n",
            "  [[4 0 0]\n",
            "   [3 4 0]\n",
            "   [1 3 4]]\n",
            "\n",
            "  [[0 0 1]\n",
            "   [4 0 1]\n",
            "   [3 4 4]]\n",
            "\n",
            "  [[0 1 1]\n",
            "   [0 1 1]\n",
            "   [4 4 1]]\n",
            "\n",
            "  [[1 1 0]\n",
            "   [1 1 2]\n",
            "   [4 1 0]]]\n",
            "\n",
            "\n",
            " [[[3 2 0]\n",
            "   [1 4 2]\n",
            "   [3 2 2]]\n",
            "\n",
            "  [[2 0 0]\n",
            "   [4 2 1]\n",
            "   [2 2 0]]\n",
            "\n",
            "  [[0 0 3]\n",
            "   [2 1 1]\n",
            "   [2 0 4]]\n",
            "\n",
            "  [[0 3 4]\n",
            "   [1 1 3]\n",
            "   [0 4 4]]\n",
            "\n",
            "  [[3 4 0]\n",
            "   [1 3 4]\n",
            "   [4 4 4]]\n",
            "\n",
            "  [[4 0 1]\n",
            "   [3 4 4]\n",
            "   [4 4 3]]\n",
            "\n",
            "  [[0 1 1]\n",
            "   [4 4 1]\n",
            "   [4 3 2]]\n",
            "\n",
            "  [[1 1 2]\n",
            "   [4 1 0]\n",
            "   [3 2 2]]]\n",
            "\n",
            "\n",
            " [[[1 4 2]\n",
            "   [3 2 2]\n",
            "   [3 4 0]]\n",
            "\n",
            "  [[4 2 1]\n",
            "   [2 2 0]\n",
            "   [4 0 4]]\n",
            "\n",
            "  [[2 1 1]\n",
            "   [2 0 4]\n",
            "   [0 4 2]]\n",
            "\n",
            "  [[1 1 3]\n",
            "   [0 4 4]\n",
            "   [4 2 1]]\n",
            "\n",
            "  [[1 3 4]\n",
            "   [4 4 4]\n",
            "   [2 1 3]]\n",
            "\n",
            "  [[3 4 4]\n",
            "   [4 4 3]\n",
            "   [1 3 0]]\n",
            "\n",
            "  [[4 4 1]\n",
            "   [4 3 2]\n",
            "   [3 0 4]]\n",
            "\n",
            "  [[4 1 0]\n",
            "   [3 2 2]\n",
            "   [0 4 1]]]\n",
            "\n",
            "\n",
            " [[[3 2 2]\n",
            "   [3 4 0]\n",
            "   [0 3 4]]\n",
            "\n",
            "  [[2 2 0]\n",
            "   [4 0 4]\n",
            "   [3 4 0]]\n",
            "\n",
            "  [[2 0 4]\n",
            "   [0 4 2]\n",
            "   [4 0 4]]\n",
            "\n",
            "  [[0 4 4]\n",
            "   [4 2 1]\n",
            "   [0 4 0]]\n",
            "\n",
            "  [[4 4 4]\n",
            "   [2 1 3]\n",
            "   [4 0 2]]\n",
            "\n",
            "  [[4 4 3]\n",
            "   [1 3 0]\n",
            "   [0 2 2]]\n",
            "\n",
            "  [[4 3 2]\n",
            "   [3 0 4]\n",
            "   [2 2 1]]\n",
            "\n",
            "  [[3 2 2]\n",
            "   [0 4 1]\n",
            "   [2 1 3]]]\n",
            "\n",
            "\n",
            " [[[3 4 0]\n",
            "   [0 3 4]\n",
            "   [0 3 4]]\n",
            "\n",
            "  [[4 0 4]\n",
            "   [3 4 0]\n",
            "   [3 4 0]]\n",
            "\n",
            "  [[0 4 2]\n",
            "   [4 0 4]\n",
            "   [4 0 4]]\n",
            "\n",
            "  [[4 2 1]\n",
            "   [0 4 0]\n",
            "   [0 4 2]]\n",
            "\n",
            "  [[2 1 3]\n",
            "   [4 0 2]\n",
            "   [4 2 0]]\n",
            "\n",
            "  [[1 3 0]\n",
            "   [0 2 2]\n",
            "   [2 0 0]]\n",
            "\n",
            "  [[3 0 4]\n",
            "   [2 2 1]\n",
            "   [0 0 1]]\n",
            "\n",
            "  [[0 4 1]\n",
            "   [2 1 3]\n",
            "   [0 1 0]]]]\n"
          ]
        }
      ],
      "source": [
        "Z = np.random.randint(0,5,(10,10))\n",
        "n = 3\n",
        "i = 1 + (Z.shape[0]-3)\n",
        "j = 1 + (Z.shape[1]-3)\n",
        "C = stride_tricks.as_strided(Z, shape=(i, j, n, n), strides=Z.strides + Z.strides)\n",
        "print(C)"
      ]
    },
    {
      "cell_type": "markdown",
      "metadata": {
        "id": "3Igb_ctKH3KB"
      },
      "source": [
        "#### 85. Create a 2D array subclass such that Z\\[i,j\\] == Z\\[j,i\\] (★★★) \n",
        "(**hint**: class method)"
      ]
    },
    {
      "cell_type": "code",
      "execution_count": 89,
      "metadata": {
        "id": "suXjfuHRH3KB",
        "colab": {
          "base_uri": "https://localhost:8080/"
        },
        "outputId": "0f26a3ab-be50-475a-ea10-ce8c035408e4"
      },
      "outputs": [
        {
          "output_type": "stream",
          "name": "stdout",
          "text": [
            "[[ 5  5  9 10 13]\n",
            " [ 5  3 16  8 14]\n",
            " [ 9 16  0 42 14]\n",
            " [10  8 42  4 12]\n",
            " [13 14 14 12  5]]\n"
          ]
        }
      ],
      "source": [
        "class Symetric(np.ndarray):\n",
        "    def __setitem__(self, index, value):\n",
        "        i,j = index\n",
        "        super(Symetric, self).__setitem__((i,j), value)\n",
        "        super(Symetric, self).__setitem__((j,i), value)\n",
        "\n",
        "def symetric(Z):\n",
        "    return np.asarray(Z + Z.T - np.diag(Z.diagonal())).view(Symetric)\n",
        "\n",
        "S = symetric(np.random.randint(0,10,(5,5)))\n",
        "S[2,3] = 42\n",
        "print(S)"
      ]
    },
    {
      "cell_type": "markdown",
      "metadata": {
        "id": "ELmxVgCfH3KC"
      },
      "source": [
        "#### 86. Consider a set of p matrices wich shape (n,n) and a set of p vectors with shape (n,1). How to compute the sum of of the p matrix products at once? (result has shape (n,1)) (★★★) \n",
        "(**hint**: np.tensordot)"
      ]
    },
    {
      "cell_type": "code",
      "execution_count": 90,
      "metadata": {
        "id": "Lm00q5eAH3KC",
        "colab": {
          "base_uri": "https://localhost:8080/"
        },
        "outputId": "fca8fc11-4c4a-4372-a058-8f496065c6ec"
      },
      "outputs": [
        {
          "output_type": "stream",
          "name": "stdout",
          "text": [
            "[[200.]\n",
            " [200.]\n",
            " [200.]\n",
            " [200.]\n",
            " [200.]\n",
            " [200.]\n",
            " [200.]\n",
            " [200.]\n",
            " [200.]\n",
            " [200.]\n",
            " [200.]\n",
            " [200.]\n",
            " [200.]\n",
            " [200.]\n",
            " [200.]\n",
            " [200.]\n",
            " [200.]\n",
            " [200.]\n",
            " [200.]\n",
            " [200.]]\n"
          ]
        }
      ],
      "source": [
        "p, n = 10, 20\n",
        "M = np.ones((p,n,n))\n",
        "V = np.ones((p,n,1))\n",
        "S = np.tensordot(M, V, axes=[[0, 2], [0, 1]])\n",
        "print(S)\n"
      ]
    },
    {
      "cell_type": "markdown",
      "metadata": {
        "id": "ob3AkEKgH3KC"
      },
      "source": [
        "#### 87. Consider a 16x16 array, how to get the block-sum (block size is 4x4)? (★★★) \n",
        "(**hint**: np.add.reduceat)"
      ]
    },
    {
      "cell_type": "code",
      "execution_count": 91,
      "metadata": {
        "id": "18y2OxO-H3KC",
        "colab": {
          "base_uri": "https://localhost:8080/"
        },
        "outputId": "a3d50404-2dc6-4e5c-84e0-461948b0425d"
      },
      "outputs": [
        {
          "output_type": "stream",
          "name": "stdout",
          "text": [
            "[[16. 16. 16. 16.]\n",
            " [16. 16. 16. 16.]\n",
            " [16. 16. 16. 16.]\n",
            " [16. 16. 16. 16.]]\n"
          ]
        }
      ],
      "source": [
        "Z = np.ones((16,16))\n",
        "k = 4\n",
        "S = np.add.reduceat(np.add.reduceat(Z, np.arange(0, Z.shape[0], k), axis=0),\n",
        "                                       np.arange(0, Z.shape[1], k), axis=1)\n",
        "print(S)"
      ]
    },
    {
      "cell_type": "markdown",
      "metadata": {
        "id": "odkugAhJH3KC"
      },
      "source": [
        "#### 88. How to implement the Game of Life using numpy arrays? (★★★)"
      ]
    },
    {
      "cell_type": "code",
      "execution_count": 92,
      "metadata": {
        "id": "jRrKu8RGH3KC",
        "colab": {
          "base_uri": "https://localhost:8080/"
        },
        "outputId": "8b784945-2e3c-4974-eadf-e657ed3a7b36"
      },
      "outputs": [
        {
          "output_type": "stream",
          "name": "stdout",
          "text": [
            "[[0 0 0 ... 0 0 0]\n",
            " [0 0 0 ... 0 0 0]\n",
            " [0 0 0 ... 0 0 0]\n",
            " ...\n",
            " [0 0 0 ... 0 0 0]\n",
            " [0 0 0 ... 0 0 0]\n",
            " [0 0 0 ... 0 0 0]]\n"
          ]
        }
      ],
      "source": [
        "def iterate(Z):\n",
        "    N = (Z[0:-2,0:-2] + Z[0:-2,1:-1] + Z[0:-2,2:] +\n",
        "         Z[1:-1,0:-2]                + Z[1:-1,2:] +\n",
        "         Z[2:  ,0:-2] + Z[2:  ,1:-1] + Z[2:  ,2:])\n",
        "\n",
        "\n",
        "    birth = (N==3) & (Z[1:-1,1:-1]==0)\n",
        "    survive = ((N==2) | (N==3)) & (Z[1:-1,1:-1]==1)\n",
        "    Z[...] = 0\n",
        "    Z[1:-1,1:-1][birth | survive] = 1\n",
        "    return Z\n",
        "\n",
        "Z = np.random.randint(0,2,(50,50))\n",
        "for i in range(100): Z = iterate(Z)\n",
        "print(Z)"
      ]
    },
    {
      "cell_type": "markdown",
      "metadata": {
        "id": "jMi5NkMEH3KD"
      },
      "source": [
        "#### 89. How to get the n largest values of an array (★★★) \n",
        "(**hint**: np.argsort | np.argpartition)"
      ]
    },
    {
      "cell_type": "code",
      "execution_count": 93,
      "metadata": {
        "id": "vGNHH_g3H3KD",
        "colab": {
          "base_uri": "https://localhost:8080/"
        },
        "outputId": "1d0e0b88-4101-488a-8901-8e293a354efe"
      },
      "outputs": [
        {
          "output_type": "stream",
          "name": "stdout",
          "text": [
            "[9999 9997 9998 9996 9995]\n"
          ]
        }
      ],
      "source": [
        "Z = np.arange(10000)\n",
        "np.random.shuffle(Z)\n",
        "n = 5\n",
        "print (Z[np.argpartition(-Z,n)[:n]])"
      ]
    },
    {
      "cell_type": "markdown",
      "metadata": {
        "id": "_TtGXpwlH3KD"
      },
      "source": [
        "#### 90. Given an arbitrary number of vectors, build the cartesian product (every combinations of every item) (★★★) \n",
        "(**hint**: np.indices)"
      ]
    },
    {
      "cell_type": "code",
      "execution_count": 96,
      "metadata": {
        "scrolled": true,
        "id": "s7oVBxXyH3KD",
        "colab": {
          "base_uri": "https://localhost:8080/"
        },
        "outputId": "4b7c516e-4542-4a21-ff7f-418f0fa6601c"
      },
      "outputs": [
        {
          "output_type": "stream",
          "name": "stdout",
          "text": [
            "[[1 4 6]\n",
            " [1 4 7]\n",
            " [1 5 6]\n",
            " [1 5 7]\n",
            " [2 4 6]\n",
            " [2 4 7]\n",
            " [2 5 6]\n",
            " [2 5 7]\n",
            " [3 4 6]\n",
            " [3 4 7]\n",
            " [3 5 6]\n",
            " [3 5 7]]\n"
          ]
        }
      ],
      "source": [
        "def cartesian(arrays):\n",
        "    arrays = [np.asarray(a) for a in arrays]\n",
        "    shape = (len(x) for x in arrays)\n",
        "\n",
        "    ix = np.indices(shape, dtype=int)\n",
        "    ix = ix.reshape(len(arrays), -1).T\n",
        "\n",
        "    for n, arr in enumerate(arrays):\n",
        "        ix[:, n] = arrays[n][ix[:, n]]\n",
        "\n",
        "    return ix\n",
        "\n",
        "print (cartesian(([1, 2, 3], [4, 5], [6, 7])))"
      ]
    },
    {
      "cell_type": "markdown",
      "metadata": {
        "id": "-n-8Rsq1H3KD"
      },
      "source": [
        "#### 91. How to create a record array from a regular array? (★★★) \n",
        "(**hint**: np.core.records.fromarrays)"
      ]
    },
    {
      "cell_type": "code",
      "execution_count": 97,
      "metadata": {
        "id": "ekJ3Lf5zH3KE",
        "colab": {
          "base_uri": "https://localhost:8080/"
        },
        "outputId": "095e8b93-a4e0-4a9d-afcf-2f00f50ef0ce"
      },
      "outputs": [
        {
          "output_type": "stream",
          "name": "stdout",
          "text": [
            "[(b'Hello', 2.5, 3) (b'World', 3.6, 2)]\n"
          ]
        }
      ],
      "source": [
        "Z = np.array([(\"Hello\", 2.5, 3),\n",
        "              (\"World\", 3.6, 2)])\n",
        "R = np.core.records.fromarrays(Z.T, \n",
        "                               names='col1, col2, col3',\n",
        "                               formats = 'S8, f8, i8')\n",
        "print(R)"
      ]
    },
    {
      "cell_type": "markdown",
      "metadata": {
        "id": "cM-M8QJRH3KE"
      },
      "source": [
        "#### 92. Consider a large vector Z, compute Z to the power of 3 using 3 different methods (★★★) \n",
        "(**hint**: np.power, \\*, np.einsum)"
      ]
    },
    {
      "cell_type": "code",
      "execution_count": 98,
      "metadata": {
        "id": "KOEjoLhuH3KE",
        "colab": {
          "base_uri": "https://localhost:8080/",
          "height": 339
        },
        "outputId": "5ba868bb-53b9-421d-a3e4-dadbfa59b62a"
      },
      "outputs": [
        {
          "output_type": "error",
          "ename": "TypeError",
          "evalue": "ignored",
          "traceback": [
            "\u001b[0;31m---------------------------------------------------------------------------\u001b[0m",
            "\u001b[0;31mTypeError\u001b[0m                                 Traceback (most recent call last)",
            "\u001b[0;32m<ipython-input-98-a370807230cb>\u001b[0m in \u001b[0;36m<module>\u001b[0;34m\u001b[0m\n\u001b[0;32m----> 1\u001b[0;31m \u001b[0mx\u001b[0m \u001b[0;34m=\u001b[0m \u001b[0mnp\u001b[0m\u001b[0;34m.\u001b[0m\u001b[0mrandom\u001b[0m\u001b[0;34m.\u001b[0m\u001b[0mrand\u001b[0m\u001b[0;34m(\u001b[0m\u001b[0;36m5e7\u001b[0m\u001b[0;34m)\u001b[0m\u001b[0;34m\u001b[0m\u001b[0;34m\u001b[0m\u001b[0m\n\u001b[0m\u001b[1;32m      2\u001b[0m \u001b[0;34m\u001b[0m\u001b[0m\n\u001b[1;32m      3\u001b[0m \u001b[0mget_ipython\u001b[0m\u001b[0;34m(\u001b[0m\u001b[0;34m)\u001b[0m\u001b[0;34m.\u001b[0m\u001b[0mrun_line_magic\u001b[0m\u001b[0;34m(\u001b[0m\u001b[0;34m'timeit'\u001b[0m\u001b[0;34m,\u001b[0m \u001b[0;34m'np.power(x,3)'\u001b[0m\u001b[0;34m)\u001b[0m\u001b[0;34m\u001b[0m\u001b[0;34m\u001b[0m\u001b[0m\n\u001b[1;32m      4\u001b[0m \u001b[0mget_ipython\u001b[0m\u001b[0;34m(\u001b[0m\u001b[0;34m)\u001b[0m\u001b[0;34m.\u001b[0m\u001b[0mrun_line_magic\u001b[0m\u001b[0;34m(\u001b[0m\u001b[0;34m'timeit'\u001b[0m\u001b[0;34m,\u001b[0m \u001b[0;34m'x*x*x'\u001b[0m\u001b[0;34m)\u001b[0m\u001b[0;34m\u001b[0m\u001b[0;34m\u001b[0m\u001b[0m\n\u001b[1;32m      5\u001b[0m \u001b[0mget_ipython\u001b[0m\u001b[0;34m(\u001b[0m\u001b[0;34m)\u001b[0m\u001b[0;34m.\u001b[0m\u001b[0mrun_line_magic\u001b[0m\u001b[0;34m(\u001b[0m\u001b[0;34m'timeit'\u001b[0m\u001b[0;34m,\u001b[0m \u001b[0;34m\"np.einsum('i,i,i->i',x,x,x)\"\u001b[0m\u001b[0;34m)\u001b[0m\u001b[0;34m\u001b[0m\u001b[0;34m\u001b[0m\u001b[0m\n",
            "\u001b[0;32mmtrand.pyx\u001b[0m in \u001b[0;36mnumpy.random.mtrand.RandomState.rand\u001b[0;34m()\u001b[0m\n",
            "\u001b[0;32mmtrand.pyx\u001b[0m in \u001b[0;36mnumpy.random.mtrand.RandomState.random_sample\u001b[0;34m()\u001b[0m\n",
            "\u001b[0;32m_common.pyx\u001b[0m in \u001b[0;36mnumpy.random._common.double_fill\u001b[0;34m()\u001b[0m\n",
            "\u001b[0;31mTypeError\u001b[0m: 'float' object cannot be interpreted as an integer"
          ]
        }
      ],
      "source": [
        "x = np.random.rand(5e7)\n",
        "\n",
        "%timeit np.power(x,3)\n",
        "%timeit x*x*x\n",
        "%timeit np.einsum('i,i,i->i',x,x,x)"
      ]
    },
    {
      "cell_type": "markdown",
      "metadata": {
        "id": "VRMte7xJH3KE"
      },
      "source": [
        "#### 93. Consider two arrays A and B of shape (8,3) and (2,2). How to find rows of A that contain elements of each row of B regardless of the order of the elements in B? (★★★) \n",
        "(**hint**: np.where)"
      ]
    },
    {
      "cell_type": "code",
      "execution_count": 100,
      "metadata": {
        "id": "eehab5qiH3KE",
        "colab": {
          "base_uri": "https://localhost:8080/"
        },
        "outputId": "f46f2328-b622-49b4-fe6c-0ad277163bd8"
      },
      "outputs": [
        {
          "output_type": "stream",
          "name": "stdout",
          "text": [
            "[2 3 5 7]\n"
          ]
        }
      ],
      "source": [
        "A = np.random.randint(0,5,(8,3))\n",
        "B = np.random.randint(0,5,(2,2))\n",
        "\n",
        "C = (A[..., np.newaxis, np.newaxis] == B)\n",
        "rows = np.where(C.any((3,1)).all(1))[0]\n",
        "print(rows)"
      ]
    },
    {
      "cell_type": "markdown",
      "metadata": {
        "id": "Fv3g0kxiH3KE"
      },
      "source": [
        "#### 94. Considering a 10x3 matrix, extract rows with unequal values (e.g. \\[2,2,3\\]) (★★★)"
      ]
    },
    {
      "cell_type": "code",
      "execution_count": 101,
      "metadata": {
        "id": "zWn8z-y4H3KE",
        "colab": {
          "base_uri": "https://localhost:8080/"
        },
        "outputId": "644620f7-10a9-4150-830d-16d576934c67"
      },
      "outputs": [
        {
          "output_type": "stream",
          "name": "stdout",
          "text": [
            "[[3 3 1]\n",
            " [3 2 0]\n",
            " [1 0 4]\n",
            " [0 2 4]\n",
            " [1 3 1]\n",
            " [4 0 3]\n",
            " [3 2 3]\n",
            " [3 2 4]\n",
            " [2 2 2]\n",
            " [3 4 4]]\n",
            "[[3 3 1]\n",
            " [3 2 0]\n",
            " [1 0 4]\n",
            " [0 2 4]\n",
            " [1 3 1]\n",
            " [4 0 3]\n",
            " [3 2 3]\n",
            " [3 2 4]\n",
            " [3 4 4]]\n",
            "[[3 3 1]\n",
            " [3 2 0]\n",
            " [1 0 4]\n",
            " [0 2 4]\n",
            " [1 3 1]\n",
            " [4 0 3]\n",
            " [3 2 3]\n",
            " [3 2 4]\n",
            " [3 4 4]]\n"
          ]
        }
      ],
      "source": [
        "Z = np.random.randint(0,5,(10,3))\n",
        "print(Z)\n",
        "E = np.all(Z[:,1:] == Z[:,:-1], axis=1)\n",
        "U = Z[~E]\n",
        "print(U)\n",
        "U = Z[Z.max(axis=1) != Z.min(axis=1),:]\n",
        "print(U)"
      ]
    },
    {
      "cell_type": "markdown",
      "metadata": {
        "id": "MS3UV5X0H3KF"
      },
      "source": [
        "#### 95. Convert a vector of ints into a matrix binary representation (★★★) \n",
        "(**hint**: np.unpackbits)"
      ]
    },
    {
      "cell_type": "code",
      "execution_count": 102,
      "metadata": {
        "id": "9znoGP2qH3KF",
        "colab": {
          "base_uri": "https://localhost:8080/"
        },
        "outputId": "54406b55-7cc7-408a-b768-e667c5321a60"
      },
      "outputs": [
        {
          "output_type": "stream",
          "name": "stdout",
          "text": [
            "[[0 0 0 0 0 0 0 0]\n",
            " [0 0 0 0 0 0 0 1]\n",
            " [0 0 0 0 0 0 1 0]\n",
            " [0 0 0 0 0 0 1 1]\n",
            " [0 0 0 0 1 1 1 1]\n",
            " [0 0 0 1 0 0 0 0]\n",
            " [0 0 1 0 0 0 0 0]\n",
            " [0 1 0 0 0 0 0 0]\n",
            " [1 0 0 0 0 0 0 0]]\n"
          ]
        }
      ],
      "source": [
        "I = np.array([0, 1, 2, 3, 15, 16, 32, 64, 128], dtype=np.uint8)\n",
        "print(np.unpackbits(I[:, np.newaxis], axis=1))"
      ]
    },
    {
      "cell_type": "markdown",
      "metadata": {
        "id": "EF1CbvrfH3KF"
      },
      "source": [
        "#### 96. Given a two dimensional array, how to extract unique rows? (★★★) \n",
        "(**hint**: np.ascontiguousarray)"
      ]
    },
    {
      "cell_type": "code",
      "execution_count": 103,
      "metadata": {
        "id": "hYTn7HNSH3KF",
        "colab": {
          "base_uri": "https://localhost:8080/"
        },
        "outputId": "ea929485-8505-4cb8-d9b1-4e026da32e28"
      },
      "outputs": [
        {
          "output_type": "stream",
          "name": "stdout",
          "text": [
            "[[0 1 0]\n",
            " [1 0 0]\n",
            " [1 0 1]\n",
            " [1 1 0]]\n",
            "[[0 1 0]\n",
            " [1 0 0]\n",
            " [1 0 1]\n",
            " [1 1 0]]\n"
          ]
        }
      ],
      "source": [
        "Z = np.random.randint(0,2,(6,3))\n",
        "T = np.ascontiguousarray(Z).view(np.dtype((np.void, Z.dtype.itemsize * Z.shape[1])))\n",
        "_, idx = np.unique(T, return_index=True)\n",
        "uZ = Z[idx]\n",
        "print(uZ)\n",
        "\n",
        "uZ = np.unique(Z, axis=0)\n",
        "print(uZ)"
      ]
    },
    {
      "cell_type": "markdown",
      "metadata": {
        "id": "B4T7gVzZH3KF"
      },
      "source": [
        "#### 97. Considering 2 vectors A & B, write the einsum equivalent of inner, outer, sum, and mul function (★★★) \n",
        "(**hint**: np.einsum)"
      ]
    },
    {
      "cell_type": "code",
      "execution_count": 104,
      "metadata": {
        "id": "IEINoUcOH3KF",
        "colab": {
          "base_uri": "https://localhost:8080/"
        },
        "outputId": "86255688-1953-4e10-93f6-55a58dfe5eed"
      },
      "outputs": [
        {
          "output_type": "execute_result",
          "data": {
            "text/plain": [
              "array([[7.52419783e-01, 7.98200553e-01, 1.56027593e-01, 9.02809702e-04,\n",
              "        8.58031977e-01, 3.51484409e-02, 5.03863224e-01, 1.41192052e-01,\n",
              "        3.78500854e-01, 5.54517307e-01],\n",
              "       [2.44446333e-01, 2.59319602e-01, 5.06902847e-02, 2.93305049e-04,\n",
              "        2.78757650e-01, 1.14190345e-02, 1.63695214e-01, 4.58705102e-02,\n",
              "        1.22967455e-01, 1.80151726e-01],\n",
              "       [3.70846026e-01, 3.93410048e-01, 7.69015037e-02, 4.44968882e-04,\n",
              "        4.22899232e-01, 1.73236535e-02, 2.48339662e-01, 6.95894931e-02,\n",
              "        1.86552162e-01, 2.73305599e-01],\n",
              "       [4.93507626e-01, 5.23534959e-01, 1.02337563e-01, 5.92147472e-04,\n",
              "        5.62778031e-01, 2.30536517e-02, 3.30480869e-01, 9.26070205e-02,\n",
              "        2.48256442e-01, 3.63704578e-01],\n",
              "       [6.60262471e-01, 7.00435956e-01, 1.36917139e-01, 7.92232445e-04,\n",
              "        7.52939152e-01, 3.08434161e-02, 4.42149429e-01, 1.23898673e-01,\n",
              "        3.32141598e-01, 4.86599336e-01],\n",
              "       [3.08990032e-02, 3.27790444e-02, 6.40745658e-03, 3.70749421e-05,\n",
              "        3.52360921e-02, 1.44341206e-03, 2.06917358e-02, 5.79821765e-03,\n",
              "        1.55435827e-02, 2.27719053e-02],\n",
              "       [2.19765916e-01, 2.33137512e-01, 4.55723623e-02, 2.63691633e-04,\n",
              "        2.50613006e-01, 1.02661167e-02, 1.47167799e-01, 4.12392143e-02,\n",
              "        1.10552100e-01, 1.61962786e-01],\n",
              "       [5.20489152e-01, 5.52158169e-01, 1.07932661e-01, 6.24521932e-04,\n",
              "        5.93546776e-01, 2.43140632e-02, 3.48549239e-01, 9.76701212e-02,\n",
              "        2.61829358e-01, 3.83589386e-01],\n",
              "       [9.88411776e-03, 1.04855141e-02, 2.04964720e-03, 1.18597060e-05,\n",
              "        1.12714861e-02, 4.61725404e-04, 6.61896930e-03, 1.85476100e-03,\n",
              "        4.97215398e-03, 7.28438364e-03],\n",
              "       [5.74379309e-01, 6.09327257e-01, 1.19107741e-01, 6.89183385e-04,\n",
              "        6.55001138e-01, 2.68314811e-02, 3.84637163e-01, 1.07782643e-01,\n",
              "        2.88938521e-01, 4.23305281e-01]])"
            ]
          },
          "metadata": {},
          "execution_count": 104
        }
      ],
      "source": [
        "A = np.random.uniform(0,1,10)\n",
        "B = np.random.uniform(0,1,10)\n",
        "\n",
        "np.einsum('i->', A)\n",
        "np.einsum('i,i->i', A, B)\n",
        "np.einsum('i,i', A, B)\n",
        "np.einsum('i,j->ij', A, B)   "
      ]
    },
    {
      "cell_type": "markdown",
      "metadata": {
        "id": "KFeDzUXBH3KG"
      },
      "source": [
        "#### 98. Considering a path described by two vectors (X,Y), how to sample it using equidistant samples (★★★)? \n",
        "(**hint**: np.cumsum, np.interp)"
      ]
    },
    {
      "cell_type": "code",
      "source": [
        "phi = np.arange(0, 10*np.pi, 0.1)\n",
        "a = 1\n",
        "x = a*phi*np.cos(phi)\n",
        "y = a*phi*np.sin(phi)\n",
        "\n",
        "dr = (np.diff(x)**2 + np.diff(y)**2)**.5 \n",
        "r = np.zeros_like(x)\n",
        "r[1:] = np.cumsum(dr)    \n",
        "r_int = np.linspace(0, r.max(), 200) \n",
        "x_int = np.interp(r_int, r, x)  \n",
        "y_int = np.interp(r_int, r, y)"
      ],
      "metadata": {
        "id": "Az61kyJDBo7s"
      },
      "execution_count": 105,
      "outputs": []
    },
    {
      "cell_type": "markdown",
      "metadata": {
        "id": "Y9BTesu9H3KG"
      },
      "source": [
        "#### 99. Given an integer n and a 2D array X, select from X the rows which can be interpreted as draws from a multinomial distribution with n degrees, i.e., the rows which only contain integers and which sum to n. (★★★) \n",
        "(**hint**: np.logical\\_and.reduce, np.mod)"
      ]
    },
    {
      "cell_type": "code",
      "execution_count": 106,
      "metadata": {
        "id": "lc2l5fbdH3KG",
        "colab": {
          "base_uri": "https://localhost:8080/"
        },
        "outputId": "08634927-8815-4e38-aab9-8bdea574e3b2"
      },
      "outputs": [
        {
          "output_type": "stream",
          "name": "stdout",
          "text": [
            "[[2. 0. 1. 1.]]\n"
          ]
        }
      ],
      "source": [
        "X = np.asarray([[1.0, 0.0, 3.0, 8.0],\n",
        "                [2.0, 0.0, 1.0, 1.0],\n",
        "                [1.5, 2.5, 1.0, 0.0]])\n",
        "n = 4\n",
        "M = np.logical_and.reduce(np.mod(X, 1) == 0, axis=-1)\n",
        "M &= (X.sum(axis=-1) == n)\n",
        "print(X[M])"
      ]
    },
    {
      "cell_type": "markdown",
      "metadata": {
        "id": "sXeXE1mJH3KG"
      },
      "source": [
        "#### 100. Compute bootstrapped 95% confidence intervals for the mean of a 1D array X (i.e., resample the elements of an array with replacement N times, compute the mean of each sample, and then compute percentiles over the means). (★★★) \n",
        "(**hint**: np.percentile)"
      ]
    },
    {
      "cell_type": "code",
      "execution_count": 107,
      "metadata": {
        "id": "JAqIa99ZH3KH",
        "colab": {
          "base_uri": "https://localhost:8080/"
        },
        "outputId": "7160c031-f85a-4f7c-834e-9a7a38d7f57d"
      },
      "outputs": [
        {
          "output_type": "stream",
          "name": "stdout",
          "text": [
            "[-0.25306789  0.13432008]\n"
          ]
        }
      ],
      "source": [
        "X = np.random.randn(100) # random 1D array\n",
        "N = 1000 # number of bootstrap samples\n",
        "idx = np.random.randint(0, X.size, (N, X.size))\n",
        "means = X[idx].mean(axis=1)\n",
        "confint = np.percentile(means, [2.5, 97.5])\n",
        "print(confint)"
      ]
    }
  ],
  "metadata": {
    "kernelspec": {
      "display_name": "Python 3",
      "language": "python",
      "name": "python3"
    },
    "language_info": {
      "codemirror_mode": {
        "name": "ipython",
        "version": 3
      },
      "file_extension": ".py",
      "mimetype": "text/x-python",
      "name": "python",
      "nbconvert_exporter": "python",
      "pygments_lexer": "ipython3",
      "version": "3.8.3"
    },
    "colab": {
      "provenance": [],
      "collapsed_sections": [
        "O1-g6tuNH3JW",
        "t53HMrQKH3JW",
        "SPvC_Iu2H3JX",
        "m3_LVsGnH3JY",
        "ZUmfYjYQH3JY",
        "qAkT8_wdH3JZ",
        "JoXDdmERH3Jf",
        "QbLBMVhhH3Jg",
        "QJ-5HcI2H3Jh",
        "_zu1WWJ1H3Jh",
        "DEBLDO__H3Ji",
        "Va_ir8LjH3Ji",
        "eC4GV0loH3Jj",
        "z-Oy9UnGH3Jj",
        "QFgduNTZH3Jk",
        "wgaEOHomH3Jk",
        "eXmqB0-FH3Jl",
        "0g5ELYa1H3Jl",
        "rB1m6CqvH3Jm",
        "2gzdDlxXH3Jn",
        "cegWH9pXH3Jn",
        "TyXFFENHH3Jo",
        "uX03bRzjH3Jp",
        "2uI9sFMdH3Jp",
        "5FkL0RrtH3Jr",
        "zJWNhq6qH3Js",
        "HcJG65IsH3Ju",
        "DKo629c4H3Jv",
        "yEIV-oY_H3Jw",
        "EOMPjaGhH3Jx",
        "zANJdZDZH3Jx",
        "SdtrgGx1H3Jy",
        "lB7pqY6kH3Jz",
        "mqpJZn_zH3Jz",
        "MfNxZmWIH3J0",
        "IxCRrZBbH3J0",
        "n2OAMUHfH3J1",
        "uMpJC07zH3J2",
        "OpRuoq_TH3J2",
        "yQvgvPGBH3J3",
        "8BnrvwYNH3J4",
        "FgEHv27PH3J4",
        "u0HvNU02H3J5",
        "YPKspdwHH3J6",
        "Uj9HB7j6H3J7",
        "z47jBrRiH3J-",
        "vfonVFmtH3J_",
        "eAhXjyl6H3J_",
        "fyf18yLsH3KA",
        "4ad5nobnH3KB",
        "XrLnspB7H3KB",
        "3Igb_ctKH3KB",
        "ELmxVgCfH3KC",
        "ob3AkEKgH3KC",
        "odkugAhJH3KC",
        "jMi5NkMEH3KD",
        "_TtGXpwlH3KD",
        "-n-8Rsq1H3KD",
        "cM-M8QJRH3KE",
        "VRMte7xJH3KE",
        "Fv3g0kxiH3KE",
        "MS3UV5X0H3KF",
        "EF1CbvrfH3KF",
        "B4T7gVzZH3KF",
        "KFeDzUXBH3KG",
        "Y9BTesu9H3KG",
        "sXeXE1mJH3KG"
      ],
      "include_colab_link": true
    }
  },
  "nbformat": 4,
  "nbformat_minor": 0
}