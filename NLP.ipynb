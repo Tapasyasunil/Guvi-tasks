{
  "cells": [
    {
      "cell_type": "markdown",
      "metadata": {
        "id": "view-in-github",
        "colab_type": "text"
      },
      "source": [
        "<a href=\"https://colab.research.google.com/github/Tapasyasunil/Guvi-tasks/blob/main/NLP.ipynb\" target=\"_parent\"><img src=\"https://colab.research.google.com/assets/colab-badge.svg\" alt=\"Open In Colab\"/></a>"
      ]
    },
    {
      "cell_type": "code",
      "source": [
        "#installing spacy module\n",
        "!pip install spacy\n",
        "!pip install requests"
      ],
      "metadata": {
        "id": "Py9ABK0PM9d9"
      },
      "execution_count": null,
      "outputs": []
    },
    {
      "cell_type": "code",
      "execution_count": 2,
      "metadata": {
        "id": "TRyUd6Z--BMa"
      },
      "outputs": [],
      "source": [
        "import spacy\n",
        "import requests\n"
      ]
    },
    {
      "cell_type": "code",
      "execution_count": null,
      "metadata": {
        "id": "qBQKP8A8-FgB"
      },
      "outputs": [],
      "source": [
        "#Donloading language modules for english, spanish, french and German\n",
        "\n",
        "!python -m spacy download en_core_web_sm\n",
        "!python -m spacy download es_core_news_sm\n",
        "!python -m spacy download fr_core_news_sm\n",
        "!python -m spacy download de_core_news_sm\n"
      ]
    },
    {
      "cell_type": "code",
      "execution_count": 4,
      "metadata": {
        "id": "FBl3OcxH-Nh6"
      },
      "outputs": [],
      "source": [
        "#writing a translate function\n",
        "\n",
        "def translate_words(words, language):\n",
        "    nlp = spacy.load(language)\n",
        "\n",
        "    translated_words = []\n",
        "    for word in words:\n",
        "        doc = nlp(word)\n",
        "        translated_word = ' '.join(token.text for token in doc)\n",
        "        translated_words.append(translated_word)\n",
        "\n",
        "    return translated_words"
      ]
    },
    {
      "cell_type": "code",
      "execution_count": 5,
      "metadata": {
        "id": "xfAV5WHC_JOj"
      },
      "outputs": [],
      "source": [
        "import csv"
      ]
    },
    {
      "cell_type": "code",
      "execution_count": 7,
      "metadata": {
        "id": "S4aqwEL1-WHi"
      },
      "outputs": [],
      "source": [
        "# Read English words from CSV file\n",
        "english_words = []\n",
        "with open('English.csv', 'r') as csv_file:\n",
        "    csv_reader = csv.reader(csv_file)\n",
        "    for row in csv_reader:\n",
        "        english_words.extend(row)\n"
      ]
    },
    {
      "cell_type": "code",
      "execution_count": 8,
      "metadata": {
        "id": "Eq__KUeU-0Tb"
      },
      "outputs": [],
      "source": [
        "# Translate to Spanish\n",
        "spanish_words = translate_words(english_words, 'es_core_news_sm')\n",
        "\n"
      ]
    },
    {
      "cell_type": "code",
      "execution_count": 9,
      "metadata": {
        "id": "7LzfXbMP_P1R"
      },
      "outputs": [],
      "source": [
        "# Translate to French\n",
        "french_words = translate_words(english_words, 'fr_core_news_sm')\n"
      ]
    },
    {
      "cell_type": "code",
      "execution_count": 10,
      "metadata": {
        "id": "x4GZWeIN_RNR"
      },
      "outputs": [],
      "source": [
        "# Translate to German\n",
        "german_words = translate_words(english_words, 'de_core_news_sm')\n"
      ]
    },
    {
      "cell_type": "code",
      "execution_count": 11,
      "metadata": {
        "id": "pJbvIeiH_S05",
        "colab": {
          "base_uri": "https://localhost:8080/"
        },
        "outputId": "c049b89e-490a-471c-cdc4-b4f74fc1a706"
      },
      "outputs": [
        {
          "output_type": "stream",
          "name": "stdout",
          "text": [
            "Translations saved to Translations.csv file.\n"
          ]
        }
      ],
      "source": [
        "#Saving translations to a csv file\n",
        "\n",
        "with open('Translations.csv', 'w', newline='') as csv_file:\n",
        "    csv_writer = csv.writer(csv_file)\n",
        "    for english, spanish, french, german in zip(english_words, spanish_words, french_words, german_words):\n",
        "        csv_writer.writerow([english, spanish, french, german])\n",
        "\n",
        "print(\"Translations saved to Translations.csv file.\")\n"
      ]
    },
    {
      "cell_type": "code",
      "execution_count": null,
      "metadata": {
        "id": "6ucoO8YAAivC"
      },
      "outputs": [],
      "source": []
    }
  ],
  "metadata": {
    "colab": {
      "provenance": [],
      "authorship_tag": "ABX9TyNCGdwX5wLX4zlORUZRtiG7",
      "include_colab_link": true
    },
    "kernelspec": {
      "display_name": "Python 3",
      "name": "python3"
    },
    "language_info": {
      "name": "python"
    }
  },
  "nbformat": 4,
  "nbformat_minor": 0
}