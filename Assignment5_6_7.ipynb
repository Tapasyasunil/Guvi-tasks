{
  "cells": [
    {
      "cell_type": "markdown",
      "metadata": {
        "id": "view-in-github",
        "colab_type": "text"
      },
      "source": [
        "<a href=\"https://colab.research.google.com/github/Tapasyasunil/Guvi-tasks/blob/main/Assignment5_6_7.ipynb\" target=\"_parent\"><img src=\"https://colab.research.google.com/assets/colab-badge.svg\" alt=\"Open In Colab\"/></a>"
      ]
    },
    {
      "cell_type": "code",
      "execution_count": 20,
      "metadata": {
        "id": "-kHylwK8u_2O"
      },
      "outputs": [],
      "source": [
        "import pandas as pd\n",
        "import matplotlib.pyplot as plt\n",
        "import numpy as np\n",
        "from sklearn import linear_model\n",
        "from sklearn.linear_model import LinearRegression\n",
        "from sklearn.metrics import r2_score"
      ]
    },
    {
      "cell_type": "markdown",
      "metadata": {
        "id": "umQ6n2LKu_2P"
      },
      "source": [
        "# Assignment5\n"
      ]
    },
    {
      "cell_type": "markdown",
      "metadata": {
        "id": "fsTU4Ajau_2Q"
      },
      "source": [
        "## Ground Cricket Chirps\n",
        "\n",
        "In _The Song of Insects_ (1948) by George W. Pierce, Pierce mechanically measured the frequency (the number of wing vibrations per second) of chirps (or pulses of sound) made by a striped ground cricket, at various ground temperatures.  Since crickets are ectotherms (cold-blooded), the rate of their physiological processes and their overall metabolism are influenced by temperature.  Consequently, there is reason to believe that temperature would have a profound effect on aspects of their behavior, such as chirp frequency.\n",
        "\n",
        "In general, it was found that crickets did not sing at temperatures colder than 60º F. or warmer than 100º F."
      ]
    },
    {
      "cell_type": "code",
      "execution_count": 2,
      "metadata": {
        "id": "SMbmns-Ku_2Q"
      },
      "outputs": [],
      "source": [
        "ground_cricket_data = {\"Chirps/Second\": [20.0, 16.0, 19.8, 18.4, 17.1, 15.5, 14.7,\n",
        "                                         15.7, 15.4, 16.3, 15.0, 17.2, 16.0, 17.0,\n",
        "                                         14.4],\n",
        "                       \"Ground Temperature\": [88.6, 71.6, 93.3, 84.3, 80.6, 75.2, 69.7,\n",
        "                                              71.6, 69.4, 83.3, 79.6, 82.6, 80.6, 83.5,\n",
        "                                              76.3]}\n",
        "df = pd.DataFrame(ground_cricket_data)"
      ]
    },
    {
      "cell_type": "markdown",
      "metadata": {
        "id": "r4jyriXTu_2R"
      },
      "source": [
        "### Tasks\n",
        "\n",
        "1. Find the linear regression equation for this data.\n",
        "2. Chart the original data and the equation on the chart.\n",
        "3. Find the equation's $R^2$ score (use the `.score` method) to determine whether the\n",
        "equation is a good fit for this data. (0.8 and greater is considered a strong correlation.)\n",
        "4. Extrapolate data:  If the ground temperature reached 95, then at what approximate rate would you expect the crickets to be chirping?\n",
        "5. Interpolate data:  With a listening device, you discovered that on a particular morning the crickets were chirping at a rate of 18 chirps per second.  What was the approximate ground temperature that morning?"
      ]
    },
    {
      "cell_type": "code",
      "source": [
        "# Converting the lists to NumPy arrays for ease\n",
        "chirps_per_second = np.array(ground_cricket_data[\"Chirps/Second\"])\n",
        "ground_temperature = np.array(ground_cricket_data[\"Ground Temperature\"])"
      ],
      "metadata": {
        "id": "VOU6r7Plv5nw"
      },
      "execution_count": 3,
      "outputs": []
    },
    {
      "cell_type": "code",
      "source": [
        "# Task 1: Calculate the mean chirps per second\n",
        "mean_chirps_per_second = np.mean(chirps_per_second)\n",
        "print(\"Mean Chirps/Second:\", mean_chirps_per_second)\n"
      ],
      "metadata": {
        "id": "LmENNWEwv5ii",
        "outputId": "7fa6ecd7-bc7c-4b8b-d745-5ecc66f54ead",
        "colab": {
          "base_uri": "https://localhost:8080/"
        }
      },
      "execution_count": 4,
      "outputs": [
        {
          "output_type": "stream",
          "name": "stdout",
          "text": [
            "Mean Chirps/Second: 16.566666666666666\n"
          ]
        }
      ]
    },
    {
      "cell_type": "code",
      "source": [
        "# Task 2: Calculate the mean ground temperature\n",
        "mean_ground_temperature = np.mean(ground_temperature)\n",
        "print(\"Mean Ground Temperature:\", mean_ground_temperature)"
      ],
      "metadata": {
        "id": "vpcZV-smv5gG",
        "outputId": "fd94276c-ae60-4b58-88f7-f9d7adb5c97a",
        "colab": {
          "base_uri": "https://localhost:8080/"
        }
      },
      "execution_count": 5,
      "outputs": [
        {
          "output_type": "stream",
          "name": "stdout",
          "text": [
            "Mean Ground Temperature: 79.34666666666665\n"
          ]
        }
      ]
    },
    {
      "cell_type": "code",
      "source": [
        "# Task 3: Create a scatter plot of chirps per second against ground temperature\n",
        "plt.scatter(ground_temperature, chirps_per_second)\n",
        "plt.xlabel(\"Ground Temperature\")\n",
        "plt.ylabel(\"Chirps/Second\")\n",
        "plt.title(\"Chirps per Second vs Ground Temperature\")\n",
        "plt.show()"
      ],
      "metadata": {
        "id": "H5OqNxhtv5dd",
        "outputId": "db919cb6-64a2-494d-d91a-e30c90bbcaa3",
        "colab": {
          "base_uri": "https://localhost:8080/",
          "height": 472
        }
      },
      "execution_count": 6,
      "outputs": [
        {
          "output_type": "display_data",
          "data": {
            "text/plain": [
              "<Figure size 640x480 with 1 Axes>"
            ],
            "image/png": "[encoded data removed]"
          },
          "metadata": {}
        }
      ]
    },
    {
      "cell_type": "markdown",
      "source": [
        "Task 4 &5\n",
        "- Per the scatter plot we have created, When temperature is 95, chirps will be about 19\n",
        "- If we record 18 chirps per second, temperature will approximately be about 85"
      ],
      "metadata": {
        "id": "bi1Xbrajwvb9"
      }
    },
    {
      "cell_type": "markdown",
      "metadata": {
        "id": "SKFiKh9fu_2R"
      },
      "source": [
        "# Assignment6"
      ]
    },
    {
      "cell_type": "markdown",
      "metadata": {
        "id": "bnX8uOIRu_2R"
      },
      "source": [
        "## Brain vs. Body Weight\n",
        "\n",
        "In the file `brain_body.txt`, the average brain and body weight for a number of mammal species are recorded. Load this data into a Pandas data frame.\n",
        "\n",
        "### Tasks\n",
        "\n",
        "1. Find the linear regression equation for this data for brain weight to body weight.\n",
        "2. Chart the original data and the equation on the chart.\n",
        "3. Find the equation's $R^2$ score (use the `.score` method) to determine whether the\n",
        "equation is a good fit for this data. (0.8 and greater is considered a strong correlation.)"
      ]
    },
    {
      "cell_type": "code",
      "execution_count": 9,
      "metadata": {
        "id": "baOKudx3u_2R"
      },
      "outputs": [],
      "source": [
        "data = pd.read_fwf(\"brain_body.txt\")"
      ]
    },
    {
      "cell_type": "code",
      "source": [
        "data.head"
      ],
      "metadata": {
        "id": "P0sX3Q6bxeyl",
        "outputId": "c6a8da4e-9ec3-49b7-9392-4c2ae4fdb232",
        "colab": {
          "base_uri": "https://localhost:8080/"
        }
      },
      "execution_count": 11,
      "outputs": [
        {
          "output_type": "execute_result",
          "data": {
            "text/plain": [
              "<bound method NDFrame.head of       Brain   Body\n",
              "0     3.385   44.5\n",
              "1     0.480   15.5\n",
              "2     1.350    8.1\n",
              "3   465.000  423.0\n",
              "4    36.330  119.5\n",
              "..      ...    ...\n",
              "57  160.000  169.0\n",
              "58    0.900    2.6\n",
              "59    1.620   11.4\n",
              "60    0.104    2.5\n",
              "61    4.235   50.4\n",
              "\n",
              "[62 rows x 2 columns]>"
            ]
          },
          "metadata": {},
          "execution_count": 11
        }
      ]
    },
    {
      "cell_type": "code",
      "source": [
        "# Extract the brain weight and body weight columns\n",
        "brain_weight = data['Brain']\n",
        "body_weight = data['Body']"
      ],
      "metadata": {
        "id": "6UyzVVOvw97F"
      },
      "execution_count": 12,
      "outputs": []
    },
    {
      "cell_type": "code",
      "source": [
        "# Task 1: Perform linear regression\n",
        "regression_model = LinearRegression()\n",
        "regression_model.fit(body_weight.values.reshape(-1, 1), brain_weight)\n",
        "slope = regression_model.coef_[0]\n",
        "intercept = regression_model.intercept_\n",
        "linear_equation = f\"Brain = {slope:.2f} * Body + {intercept:.2f}\"\n",
        "print(\"Linear Regression Equation:\", linear_equation)"
      ],
      "metadata": {
        "id": "w17QUQvmxZN-",
        "outputId": "d015a5f0-b8bc-4ebc-bbc3-188de2da04f7",
        "colab": {
          "base_uri": "https://localhost:8080/"
        }
      },
      "execution_count": 15,
      "outputs": [
        {
          "output_type": "stream",
          "name": "stdout",
          "text": [
            "Linear Regression Equation: Brain = 0.90 * Body + -56.86\n"
          ]
        }
      ]
    },
    {
      "cell_type": "code",
      "source": [
        "# Task 2: Plot the original data and the equation on the chart\n",
        "plt.scatter(body_weight, brain_weight, color='b', label='Original Data')\n",
        "plt.plot(body_weight, regression_model.predict(body_weight.values.reshape(-1, 1)), color='r', label='Linear Regression')\n",
        "plt.xlabel('Body Weight')\n",
        "plt.ylabel('Brain Weight')\n",
        "plt.title('Brain Weight vs Body Weight')\n",
        "plt.legend()\n",
        "plt.show()"
      ],
      "metadata": {
        "id": "7B9lxQ5_xZL9",
        "outputId": "c9101c2c-fb3c-4fd0-a6e2-09b33f2f1eea",
        "colab": {
          "base_uri": "https://localhost:8080/",
          "height": 472
        }
      },
      "execution_count": 16,
      "outputs": [
        {
          "output_type": "display_data",
          "data": {
            "text/plain": [
              "<Figure size 640x480 with 1 Axes>"
            ],
            "image/png": "[encoded data removed]"
          },
          "metadata": {}
        }
      ]
    },
    {
      "cell_type": "code",
      "source": [
        "# Task 3: Calculate the R2 score\n",
        "r2_score_value = regression_model.score(body_weight.values.reshape(-1, 1), brain_weight)\n",
        "print(\"R2 Score:\", r2_score_value)"
      ],
      "metadata": {
        "id": "Fzw0mjWXxZJm",
        "outputId": "b699e0a0-0a7c-4f4e-c79a-7981d208dff0",
        "colab": {
          "base_uri": "https://localhost:8080/"
        }
      },
      "execution_count": 18,
      "outputs": [
        {
          "output_type": "stream",
          "name": "stdout",
          "text": [
            "R2 Score: 0.8726620843043331\n"
          ]
        }
      ]
    },
    {
      "cell_type": "markdown",
      "metadata": {
        "id": "Xb30YAwRu_2S"
      },
      "source": [
        "# Assignment7"
      ]
    },
    {
      "cell_type": "markdown",
      "metadata": {
        "id": "J7vTavytu_2S"
      },
      "source": [
        "## Salary Discrimination\n",
        "\n",
        "The file `salary.txt` contains data for 52 tenure-track professors at a small Midwestern college. This data was used in legal proceedings in the 1980s about discrimination against women in salary.\n",
        "\n",
        "The data in the file, by column:\n",
        "\n",
        "1. Sex. 1 for female, 0 for male.\n",
        "2. Rank. 1 for assistant professor, 2 for associate professor, 3 for full professor.\n",
        "3. Year. Number of years in current rank.\n",
        "4. Degree. Highest degree. 1 for doctorate, 0 for master's.\n",
        "5. YSdeg. Years since highest degree was earned.\n",
        "6. Salary. Salary/year in dollars.\n",
        "\n",
        "### Tasks\n",
        "\n",
        "1. Find the linear regression equation for this data using columns 1-5 to column 6.\n",
        "2. Find the selection of columns with the best $R^2$ score.\n",
        "3. Report whether sex is a factor in salary."
      ]
    },
    {
      "cell_type": "code",
      "execution_count": 21,
      "metadata": {
        "id": "WaJxJIniu_2S"
      },
      "outputs": [],
      "source": [
        "data = pd.read_fwf(\"salary.txt\", header=None,\n",
        "                 names=[\"Sex\", \"Rank\", \"Year\", \"Degree\", \"YSdeg\", \"Salary\"])"
      ]
    },
    {
      "cell_type": "code",
      "source": [
        "# Split the data into features (X) and target variable (y)\n",
        "X = data.iloc[:, :5]  # Columns 1-5\n",
        "y = data['Salary']"
      ],
      "metadata": {
        "id": "xIRC33fcy2T9"
      },
      "execution_count": 22,
      "outputs": []
    },
    {
      "cell_type": "code",
      "source": [
        "# Task 1: Perform linear regression\n",
        "regression_model = LinearRegression()\n",
        "regression_model.fit(X, y)\n",
        "coefficients = regression_model.coef_\n",
        "intercept = regression_model.intercept_\n",
        "linear_equation = f\"Salary = {coefficients[0]:.2f}*Sex + {coefficients[1]:.2f}*Rank + {coefficients[2]:.2f}*Year + {coefficients[3]:.2f}*Degree + {coefficients[4]:.2f}*YSdeg + {intercept:.2f}\"\n",
        "print(\"Linear Regression Equation:\", linear_equation)"
      ],
      "metadata": {
        "id": "vFT320gTy4x8",
        "outputId": "953c20a5-dd0e-46ae-f2ea-60a2f6c2ef8c",
        "colab": {
          "base_uri": "https://localhost:8080/"
        }
      },
      "execution_count": 23,
      "outputs": [
        {
          "output_type": "stream",
          "name": "stdout",
          "text": [
            "Linear Regression Equation: Salary = 1241.79*Sex + 5586.18*Rank + 482.86*Year + -1331.64*Degree + -128.79*YSdeg + 11410.15\n"
          ]
        }
      ]
    },
    {
      "cell_type": "code",
      "source": [
        "# Task 2: Find the selection of columns with the best R2 score\n",
        "best_r2_score = -np.inf\n",
        "best_columns = None\n",
        "\n",
        "from itertools import combinations\n",
        "\n",
        "# Generate all possible combinations of columns\n",
        "column_combinations = [combinations(X.columns, i) for i in range(1, 6)]\n",
        "column_combinations = [item for sublist in column_combinations for item in sublist]\n",
        "\n",
        "# Iterate over the column combinations and find the best R2 score\n",
        "for columns in column_combinations:\n",
        "    regression_model.fit(X[list(columns)], y)\n",
        "    r2_score_value = regression_model.score(X[list(columns)], y)\n",
        "    if r2_score_value > best_r2_score:\n",
        "        best_r2_score = r2_score_value\n",
        "        best_columns = columns\n",
        "\n",
        "print(\"Columns with Best R2 Score:\", best_columns)\n",
        "print(\"Best R2 Score:\", best_r2_score)\n"
      ],
      "metadata": {
        "id": "gvCxr_BFy8zF",
        "outputId": "a478ea45-6dc8-46cf-b3d5-28cf3512baac",
        "colab": {
          "base_uri": "https://localhost:8080/"
        }
      },
      "execution_count": 27,
      "outputs": [
        {
          "output_type": "stream",
          "name": "stdout",
          "text": [
            "Columns with Best R2 Score: ('Sex', 'Rank', 'Year', 'Degree', 'YSdeg')\n",
            "Best R2 Score: 0.8547180674410969\n"
          ]
        }
      ]
    },
    {
      "cell_type": "code",
      "source": [
        "# Task 3: Report whether sex is a factor in salary\n",
        "regression_model.fit(X[['Sex']], y)\n",
        "r2_score_sex = regression_model.score(X[['Sex']], y)\n",
        "\n",
        "if r2_score_sex > 0:\n",
        "    print(\"Sex is a factor in salary.\")\n",
        "else:\n",
        "    print(\"Sex is not a significant factor in salary.\")"
      ],
      "metadata": {
        "id": "eE8cEwrJzjOk",
        "outputId": "49e4b079-a2c4-4d4b-e5ee-429da1eacdd5",
        "colab": {
          "base_uri": "https://localhost:8080/"
        }
      },
      "execution_count": 28,
      "outputs": [
        {
          "output_type": "stream",
          "name": "stdout",
          "text": [
            "Sex is a factor in salary.\n"
          ]
        }
      ]
    }
  ],
  "metadata": {
    "kernelspec": {
      "display_name": "Python 3",
      "language": "python",
      "name": "python3"
    },
    "language_info": {
      "codemirror_mode": {
        "name": "ipython",
        "version": 3
      },
      "file_extension": ".py",
      "mimetype": "text/x-python",
      "name": "python",
      "nbconvert_exporter": "python",
      "pygments_lexer": "ipython3",
      "version": "3.8.3"
    },
    "colab": {
      "provenance": [],
      "include_colab_link": true
    }
  },
  "nbformat": 4,
  "nbformat_minor": 0
}